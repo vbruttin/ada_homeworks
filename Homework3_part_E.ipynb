{
 "cells": [
  {
   "cell_type": "markdown",
   "metadata": {},
   "source": [
    "# ADA 2018 - Homework 3\n",
    "\n",
    "\n",
    "\n",
    "## Undestanding the StackOverflow community\n",
    "\n",
    "\n",
    "Deadline: Nov 7th 2018, 23:59:59\n",
    "\n",
    "Submission link: Check channel homework-3-public"
   ]
  },
  {
   "cell_type": "markdown",
   "metadata": {},
   "source": [
    "StackOverflow is the most popular programming-related Q&A website. It serves as a platform for users to ask and answer questions and to vote questions and answers up or down. Users of StackOverflow can earn reputation points and \"badges\"; for example, a person is awarded 10 reputation points for receiving an \"up\" vote on an answer given to a question, and 5 points for the \"up\" vote on a question asked. Also, users receive badges for their valued contributions, which represents a kind of gamification of the traditional Q&A site. \n",
    "\n",
    "[Learn more about StackOverflow on Wikipedia](https://en.wikipedia.org/wiki/Stack_Overflow)\n",
    "\n",
    "----\n",
    "\n",
    "Dataset link:\n",
    "\n",
    "https://drive.google.com/open?id=1POlGjqzw9v_pZ_bUnXGihOgk45kbvNjB\n",
    "\n",
    "http://iccluster053.iccluster.epfl.ch/Posts.json.zip (mirror 1)\n",
    "\n",
    "https://iloveadatas.com/datasets/Posts.json.zip (mirror 2)\n",
    "\n",
    "Dataset description:\n",
    "\n",
    "* **Id**: Id of the post\n",
    "* **CreationDate**: Creation date of the post (String format)\n",
    "* **PostTypeId**: Type of post (Question = 1, Answer = 2)\n",
    "* **ParentId**: The id of the question. Only present if PostTypeId = 2\n",
    "* **Score**: Points assigned by the users\n",
    "* **Tags**: Tags of the question. Only present if PostTypeId = 1\n",
    "* **Title**: Only present if PostTypeId = 1\n",
    "* **ViewCount**: Only present if PostTypeId = 1\n",
    "\n",
    "The dataset format is JSON. Here are examples of a question and an answer:\n",
    "\n",
    "Question:\n",
    "```json\n",
    "{\n",
    "    \"Id\": 10130734,\n",
    "    \"CreationDate\": \"2012-04-12T19:51:25.793+02:00\",\n",
    "    \"PostTypeId\": 1,\n",
    "    \"Score\": 4,\n",
    "    \"Tags\": \"<python><pandas>\",\n",
    "    \"Title\": \"Best way to insert a new value\",\n",
    "    \"ViewCount\": 3803\n",
    "}\n",
    "```\n",
    "\n",
    "Answer:\n",
    "```json\n",
    "{  \n",
    "   \"CreationDate\":\"2010-10-26T03:19:05.063+02:00\",\n",
    "   \"Id\":4020440,\n",
    "   \"ParentId\":4020214,\n",
    "   \"PostTypeId\":2,\n",
    "   \"Score\":1\n",
    "}\n",
    "```\n",
    "\n",
    "----\n",
    "Useful resources:\n",
    "\n",
    "**Spark SQL, DataFrames and Datasets Guide**\n",
    "\n",
    "https://spark.apache.org/docs/latest/sql-programming-guide.html\n",
    "\n",
    "**Database schema documentation for the public data dump**\n",
    "\n",
    "https://meta.stackexchange.com/questions/2677/database-schema-documentation-for-the-public-data-dump-and-sede\n",
    "\n",
    "----\n",
    "\n",
    "**Note:** Use Spark where possible. Some computations can take more than 10 minutes on a common notebook. Consider to save partial results on disk."
   ]
  },
  {
   "cell_type": "code",
   "execution_count": 7,
   "metadata": {},
   "outputs": [],
   "source": [
    "# Add your imports here\n",
    "\n",
    "import re\n",
    "\n",
    "import pandas as pd\n",
    "import numpy as np\n",
    "import scipy as sp\n",
    "\n",
    "import platform\n",
    "\n",
    "#In our team, Windows user need findspark. For Mac findspark can cause problem\n",
    "if platform.system() == 'Windows':\n",
    "    import findspark\n",
    "    findspark.init()\n",
    "\n",
    "from pyspark.sql import *\n",
    "from pyspark.sql.functions import *\n",
    "from pyspark.sql import SparkSession\n",
    "from pyspark import SparkContext, SparkFiles\n",
    "\n",
    "import matplotlib\n",
    "import matplotlib.pyplot as plt\n",
    "%matplotlib inline\n",
    "\n",
    "spark = SparkSession.builder.getOrCreate()\n",
    "sc = spark.sparkContext\n",
    "\n",
    "DATA_FOLDER = 'data/'"
   ]
  },
  {
   "cell_type": "markdown",
   "metadata": {},
   "source": [
    "### Task A: Convert the dataset to a more convenient format\n",
    "As a warm-up task (and to avoid to warm up your laptop too much), load the dataset into a Spark dataframe, show the content, and save it in the _Parquet_ format. Use this step to convert the fields to a more convenient form.\n",
    "\n",
    "Answer the following questions:\n",
    "\n",
    "1. How many questions have been asked on StackOverflow?\n",
    "2. How many answers have been given?\n",
    "3. What is the percentage of questions with a score of 0?\n",
    "\n",
    "**Hint:** The next tasks involve a time difference. Consider storing time in numeric format."
   ]
  },
  {
   "cell_type": "code",
   "execution_count": null,
   "metadata": {
    "scrolled": true
   },
   "outputs": [],
   "source": [
    "#Run only once\n",
    "data_stack = spark.read.json(DATA_FOLDER + 'Posts.json')\n",
    "data_stack.write.parquet(\"data_stack.parquet\")"
   ]
  },
  {
   "cell_type": "code",
   "execution_count": 11,
   "metadata": {},
   "outputs": [],
   "source": [
    "data_stack = spark.read.parquet(\"data_stack.parquet\")\n",
    "\n",
    "# Convert CreationDate into timestamp\n",
    "data_stack = data_stack.withColumn(\"CreationDate\", to_timestamp(data_stack['CreationDate'], \"yyyy-MM-dd'T'kk:mm:ss.SSSXXX\"))\n",
    "\n",
    "data_stack_rdd = data_stack.rdd"
   ]
  },
  {
   "cell_type": "code",
   "execution_count": 3,
   "metadata": {},
   "outputs": [
    {
     "name": "stdout",
     "output_type": "stream",
     "text": [
      "root\n",
      " |-- CreationDate: timestamp (nullable = true)\n",
      " |-- Id: long (nullable = true)\n",
      " |-- ParentId: long (nullable = true)\n",
      " |-- PostTypeId: long (nullable = true)\n",
      " |-- Score: long (nullable = true)\n",
      " |-- Tags: string (nullable = true)\n",
      " |-- Title: string (nullable = true)\n",
      " |-- ViewCount: long (nullable = true)\n",
      "\n"
     ]
    }
   ],
   "source": [
    "# Determine the structure of the data\n",
    "data_stack.printSchema()"
   ]
  },
  {
   "cell_type": "code",
   "execution_count": 5,
   "metadata": {},
   "outputs": [
    {
     "name": "stdout",
     "output_type": "stream",
     "text": [
      "+-------------------+--------+--------+----------+-----+--------------------+--------------------+---------+\n",
      "|       CreationDate|      Id|ParentId|PostTypeId|Score|                Tags|               Title|ViewCount|\n",
      "+-------------------+--------+--------+----------+-----+--------------------+--------------------+---------+\n",
      "|2017-08-17 16:20:17|45740344|45740224|         2|    0|                null|                null|     null|\n",
      "|2017-08-17 16:20:25|45740346|45739185|         2|    1|                null|                null|     null|\n",
      "|2017-08-17 16:20:28|45740348|    null|         1|    2|<flash><react-nat...|Is it possible to...|      143|\n",
      "|2017-08-17 16:20:36|45740350|45739102|         2|    1|                null|                null|     null|\n",
      "|2017-08-17 16:20:46|45740352|42473616|         2|    0|                null|                null|     null|\n",
      "+-------------------+--------+--------+----------+-----+--------------------+--------------------+---------+\n",
      "only showing top 5 rows\n",
      "\n"
     ]
    }
   ],
   "source": [
    "data_stack.show(5)"
   ]
  },
  {
   "cell_type": "code",
   "execution_count": 5,
   "metadata": {},
   "outputs": [
    {
     "name": "stdout",
     "output_type": "stream",
     "text": [
      "The number of question in StackOverflow : 15647060\n"
     ]
    }
   ],
   "source": [
    "number__of_question = data_stack_rdd.filter(lambda x : x.PostTypeId == 1).count()\n",
    "print(\"The number of question in StackOverflow : {}\".format(number__of_question))"
   ]
  },
  {
   "cell_type": "code",
   "execution_count": 24,
   "metadata": {},
   "outputs": [
    {
     "name": "stdout",
     "output_type": "stream",
     "text": [
      "The number of answer in StackOverflow : 25192772\n"
     ]
    }
   ],
   "source": [
    "number__of_answer = data_stack_rdd.filter(lambda x : x.PostTypeId == 2).count()\n",
    "print(\"The number of answer in StackOverflow : {}\".format(number__of_answer))"
   ]
  },
  {
   "cell_type": "code",
   "execution_count": 6,
   "metadata": {},
   "outputs": [
    {
     "name": "stdout",
     "output_type": "stream",
     "text": [
      "The proportion of question with a null score in StackOverflow : 46.543 %\n"
     ]
    }
   ],
   "source": [
    "number_of_question_score_0 = data_stack_rdd.filter(lambda x : (x.PostTypeId == 1) and (x.Score == 0)).count()\n",
    "print(\"The proportion of question with a null score in StackOverflow : {} %\"\\\n",
    "      .format(str(number_of_question_score_0 * 100/number__of_question)[:6]))"
   ]
  },
  {
   "cell_type": "markdown",
   "metadata": {},
   "source": [
    "### Task A :\n",
    "\n",
    "First of all, we do the parquet distribution of the entire data and change the type of CreationDate column from string to timestamp to simplify the following step in the homework. \n",
    "\n",
    "As we can see, each question in StackOverflow has 1,61 answers in average. But the half of the questions has a null score. It doesn't mean that the question receive any answer but it may show that these questions are not interesting or more trivial for users.  "
   ]
  },
  {
   "cell_type": "markdown",
   "metadata": {},
   "source": [
    "**Hint:** Load the dataset from the Parquet file for the next tasks."
   ]
  },
  {
   "cell_type": "markdown",
   "metadata": {},
   "source": [
    "### Task B: What are the 10 most popular tags?\n",
    "\n",
    "What are the most popular tags in StackOverflow? Use Spark to extract the information you need, and answer the following questions with Pandas and Matplotlib (or Seaborn):\n",
    "\n",
    "1. What is the proportion of tags that appear in fewer than 100 questions?\n",
    "2. Plot the distribution of the tag counts using an appropriate representation.\n",
    "3. Plot a bar chart with the number of questions for the 10 most popular tags.\n",
    "\n",
    "For each task describe your findings briefly."
   ]
  },
  {
   "cell_type": "code",
   "execution_count": 78,
   "metadata": {},
   "outputs": [],
   "source": [
    "rdd_tags = data_stack_rdd.filter(lambda r: r.Tags != None).flatMap(lambda r: [(x,) for x in (r.Tags[1:-1].split('><'))])"
   ]
  },
  {
   "cell_type": "code",
   "execution_count": 81,
   "metadata": {},
   "outputs": [
    {
     "data": {
      "text/html": [
       "<div>\n",
       "<style scoped>\n",
       "    .dataframe tbody tr th:only-of-type {\n",
       "        vertical-align: middle;\n",
       "    }\n",
       "\n",
       "    .dataframe tbody tr th {\n",
       "        vertical-align: top;\n",
       "    }\n",
       "\n",
       "    .dataframe thead th {\n",
       "        text-align: right;\n",
       "    }\n",
       "</style>\n",
       "<table border=\"1\" class=\"dataframe\">\n",
       "  <thead>\n",
       "    <tr style=\"text-align: right;\">\n",
       "      <th></th>\n",
       "      <th>count</th>\n",
       "    </tr>\n",
       "  </thead>\n",
       "  <tbody>\n",
       "    <tr>\n",
       "      <th>javascript</th>\n",
       "      <td>1585495</td>\n",
       "    </tr>\n",
       "    <tr>\n",
       "      <th>java</th>\n",
       "      <td>1352735</td>\n",
       "    </tr>\n",
       "    <tr>\n",
       "      <th>c#</th>\n",
       "      <td>1172492</td>\n",
       "    </tr>\n",
       "    <tr>\n",
       "      <th>php</th>\n",
       "      <td>1136082</td>\n",
       "    </tr>\n",
       "    <tr>\n",
       "      <th>android</th>\n",
       "      <td>1088811</td>\n",
       "    </tr>\n",
       "  </tbody>\n",
       "</table>\n",
       "</div>"
      ],
      "text/plain": [
       "              count\n",
       "javascript  1585495\n",
       "java        1352735\n",
       "c#          1172492\n",
       "php         1136082\n",
       "android     1088811"
      ]
     },
     "execution_count": 81,
     "metadata": {},
     "output_type": "execute_result"
    }
   ],
   "source": [
    "df_tags = pd.DataFrame.from_dict(rdd_tags.countByKey(), orient='index')\\\n",
    "            .rename(index=str, columns={0: \"count\"}).sort_values('count',ascending=False)\n",
    "df_tags.head(5)"
   ]
  },
  {
   "cell_type": "code",
   "execution_count": 82,
   "metadata": {},
   "outputs": [
    {
     "name": "stdout",
     "output_type": "stream",
     "text": [
      "Proportion of tags appearing in fewer than 100 questions : 67.97%\n"
     ]
    }
   ],
   "source": [
    "total_tags = len(df_tags)\n",
    "df_tags_less_100 = df_tags[df_tags['count'] < 100]\n",
    "total_tags_less_100 = len(df_tags_less_100)\n",
    "print('Proportion of tags appearing in fewer than 100 questions : {}%'.\n",
    "      format(str(total_tags_less_100*100/total_tags)[:5]))"
   ]
  },
  {
   "cell_type": "code",
   "execution_count": 83,
   "metadata": {},
   "outputs": [
    {
     "data": {
      "image/png": "[encoded data removed]",
      "text/plain": [
       "<Figure size 432x288 with 1 Axes>"
      ]
     },
     "metadata": {
      "needs_background": "light"
     },
     "output_type": "display_data"
    }
   ],
   "source": [
    "plt.hist(df_tags.values, len(df_tags), log = True, color = 'r');\n",
    "plt.xscale('log')\n",
    "\n",
    "plt.title('Distribution of the tag counts');\n",
    "plt.xlabel('Tags [log scale]');\n",
    "plt.ylabel('Number of occurences [log scale]');"
   ]
  },
  {
   "cell_type": "code",
   "execution_count": 84,
   "metadata": {},
   "outputs": [
    {
     "data": {
      "image/png": "[encoded data removed]",
      "text/plain": [
       "<Figure size 576x432 with 1 Axes>"
      ]
     },
     "metadata": {
      "needs_background": "light"
     },
     "output_type": "display_data"
    }
   ],
   "source": [
    "y = df_tags['count'].values[:10]\n",
    "x = df_tags.index.values[:10]\n",
    "\n",
    "fig, ax = plt.subplots(figsize=(8, 6))\n",
    "index = range(len(y))\n",
    "bar_width = 0.7\n",
    "\n",
    "ax.bar(index, y, bar_width, color='r')\n",
    "\n",
    "ax.set_xlabel('Tag')\n",
    "ax.set_ylabel('Number of questions')\n",
    "ax.set_title('Number of questions for the 10 most popular tags')\n",
    "ax.set_xticks(index)\n",
    "plt.xticks(rotation=90)\n",
    "ax.set_xticklabels(x)\n",
    "ax.set_xlim(-1, len(x))\n",
    "fig.tight_layout()\n",
    "plt.show()"
   ]
  },
  {
   "cell_type": "markdown",
   "metadata": {},
   "source": [
    "### Task C: View-score relation\n",
    "\n",
    "We want to investigate the correlation between the view count and the score of questions.\n",
    "\n",
    "1. Get the view count and score of the questions with tag ```random-effects``` and visualize the relation between these two variables using an appropriate plot.\n",
    "2. Are these two variables correlated? Use the Pearson coefficient to validate your hypothesis. Discuss your findings in detail.\n",
    "\n",
    "**Hint:** Inspect the data visually before drawing your conclusions."
   ]
  },
  {
   "cell_type": "markdown",
   "metadata": {},
   "source": [
    "#### Explanation :\n",
    "\n",
    "First, we select the ViewCount and Score columns with tag ```random-effect``` with SparkSQL. Then we convert to Pandas in order to use the statistical functions of the library. We do not loose any advantage of the distributed computation of Spark by goint to Pandas as the selected data has only 100 elements."
   ]
  },
  {
   "cell_type": "code",
   "execution_count": 12,
   "metadata": {},
   "outputs": [],
   "source": [
    "data_stack.registerTempTable('data_stack')"
   ]
  },
  {
   "cell_type": "code",
   "execution_count": 6,
   "metadata": {},
   "outputs": [
    {
     "data": {
      "text/html": [
       "<div>\n",
       "<style scoped>\n",
       "    .dataframe tbody tr th:only-of-type {\n",
       "        vertical-align: middle;\n",
       "    }\n",
       "\n",
       "    .dataframe tbody tr th {\n",
       "        vertical-align: top;\n",
       "    }\n",
       "\n",
       "    .dataframe thead th {\n",
       "        text-align: right;\n",
       "    }\n",
       "</style>\n",
       "<table border=\"1\" class=\"dataframe\">\n",
       "  <thead>\n",
       "    <tr style=\"text-align: right;\">\n",
       "      <th></th>\n",
       "      <th>ViewCount</th>\n",
       "      <th>Score</th>\n",
       "    </tr>\n",
       "  </thead>\n",
       "  <tbody>\n",
       "    <tr>\n",
       "      <th>0</th>\n",
       "      <td>12</td>\n",
       "      <td>0</td>\n",
       "    </tr>\n",
       "    <tr>\n",
       "      <th>1</th>\n",
       "      <td>495</td>\n",
       "      <td>0</td>\n",
       "    </tr>\n",
       "    <tr>\n",
       "      <th>2</th>\n",
       "      <td>220</td>\n",
       "      <td>0</td>\n",
       "    </tr>\n",
       "    <tr>\n",
       "      <th>3</th>\n",
       "      <td>21</td>\n",
       "      <td>0</td>\n",
       "    </tr>\n",
       "    <tr>\n",
       "      <th>4</th>\n",
       "      <td>126</td>\n",
       "      <td>5</td>\n",
       "    </tr>\n",
       "    <tr>\n",
       "      <th>5</th>\n",
       "      <td>61</td>\n",
       "      <td>-1</td>\n",
       "    </tr>\n",
       "    <tr>\n",
       "      <th>6</th>\n",
       "      <td>196</td>\n",
       "      <td>0</td>\n",
       "    </tr>\n",
       "    <tr>\n",
       "      <th>7</th>\n",
       "      <td>131</td>\n",
       "      <td>1</td>\n",
       "    </tr>\n",
       "    <tr>\n",
       "      <th>8</th>\n",
       "      <td>487</td>\n",
       "      <td>2</td>\n",
       "    </tr>\n",
       "    <tr>\n",
       "      <th>9</th>\n",
       "      <td>125</td>\n",
       "      <td>4</td>\n",
       "    </tr>\n",
       "  </tbody>\n",
       "</table>\n",
       "</div>"
      ],
      "text/plain": [
       "   ViewCount  Score\n",
       "0         12      0\n",
       "1        495      0\n",
       "2        220      0\n",
       "3         21      0\n",
       "4        126      5\n",
       "5         61     -1\n",
       "6        196      0\n",
       "7        131      1\n",
       "8        487      2\n",
       "9        125      4"
      ]
     },
     "execution_count": 6,
     "metadata": {},
     "output_type": "execute_result"
    }
   ],
   "source": [
    "query_rndeff = \"\"\"\n",
    "select ViewCount, Score from data_stack\n",
    "where Tags like '%<random-effects>%' \n",
    "\"\"\"\n",
    "\n",
    "rndeff_tag = spark.sql(query_rndeff)\n",
    "\n",
    "df_rndeff = rndeff_tag.toPandas()\n",
    "\n",
    "df_rndeff.head(10)"
   ]
  },
  {
   "cell_type": "code",
   "execution_count": 7,
   "metadata": {},
   "outputs": [
    {
     "data": {
      "text/html": [
       "<div>\n",
       "<style scoped>\n",
       "    .dataframe tbody tr th:only-of-type {\n",
       "        vertical-align: middle;\n",
       "    }\n",
       "\n",
       "    .dataframe tbody tr th {\n",
       "        vertical-align: top;\n",
       "    }\n",
       "\n",
       "    .dataframe thead th {\n",
       "        text-align: right;\n",
       "    }\n",
       "</style>\n",
       "<table border=\"1\" class=\"dataframe\">\n",
       "  <thead>\n",
       "    <tr style=\"text-align: right;\">\n",
       "      <th></th>\n",
       "      <th>ViewCount</th>\n",
       "      <th>Score</th>\n",
       "    </tr>\n",
       "  </thead>\n",
       "  <tbody>\n",
       "    <tr>\n",
       "      <th>count</th>\n",
       "      <td>100.000000</td>\n",
       "      <td>100.000000</td>\n",
       "    </tr>\n",
       "    <tr>\n",
       "      <th>mean</th>\n",
       "      <td>1191.830000</td>\n",
       "      <td>1.500000</td>\n",
       "    </tr>\n",
       "    <tr>\n",
       "      <th>std</th>\n",
       "      <td>5037.166977</td>\n",
       "      <td>4.154832</td>\n",
       "    </tr>\n",
       "    <tr>\n",
       "      <th>min</th>\n",
       "      <td>10.000000</td>\n",
       "      <td>-2.000000</td>\n",
       "    </tr>\n",
       "    <tr>\n",
       "      <th>25%</th>\n",
       "      <td>64.250000</td>\n",
       "      <td>0.000000</td>\n",
       "    </tr>\n",
       "    <tr>\n",
       "      <th>50%</th>\n",
       "      <td>179.000000</td>\n",
       "      <td>0.000000</td>\n",
       "    </tr>\n",
       "    <tr>\n",
       "      <th>75%</th>\n",
       "      <td>534.000000</td>\n",
       "      <td>1.000000</td>\n",
       "    </tr>\n",
       "    <tr>\n",
       "      <th>90%</th>\n",
       "      <td>975.700000</td>\n",
       "      <td>3.100000</td>\n",
       "    </tr>\n",
       "    <tr>\n",
       "      <th>max</th>\n",
       "      <td>42678.000000</td>\n",
       "      <td>31.000000</td>\n",
       "    </tr>\n",
       "  </tbody>\n",
       "</table>\n",
       "</div>"
      ],
      "text/plain": [
       "          ViewCount       Score\n",
       "count    100.000000  100.000000\n",
       "mean    1191.830000    1.500000\n",
       "std     5037.166977    4.154832\n",
       "min       10.000000   -2.000000\n",
       "25%       64.250000    0.000000\n",
       "50%      179.000000    0.000000\n",
       "75%      534.000000    1.000000\n",
       "90%      975.700000    3.100000\n",
       "max    42678.000000   31.000000"
      ]
     },
     "execution_count": 7,
     "metadata": {},
     "output_type": "execute_result"
    }
   ],
   "source": [
    "df_rndeff.describe(percentiles=[.25, .5, .75, .90])"
   ]
  },
  {
   "cell_type": "code",
   "execution_count": 8,
   "metadata": {},
   "outputs": [
    {
     "data": {
      "text/plain": [
       "<matplotlib.axes._subplots.AxesSubplot at 0x15ed7994780>"
      ]
     },
     "execution_count": 8,
     "metadata": {},
     "output_type": "execute_result"
    },
    {
     "data": {
      "image/png": "[encoded data removed]",
      "text/plain": [
       "<Figure size 432x288 with 1 Axes>"
      ]
     },
     "metadata": {
      "needs_background": "light"
     },
     "output_type": "display_data"
    }
   ],
   "source": [
    "df_rndeff.plot.scatter(x='ViewCount', y='Score')"
   ]
  },
  {
   "cell_type": "code",
   "execution_count": 18,
   "metadata": {},
   "outputs": [
    {
     "data": {
      "text/html": [
       "<div>\n",
       "<style scoped>\n",
       "    .dataframe tbody tr th:only-of-type {\n",
       "        vertical-align: middle;\n",
       "    }\n",
       "\n",
       "    .dataframe tbody tr th {\n",
       "        vertical-align: top;\n",
       "    }\n",
       "\n",
       "    .dataframe thead th {\n",
       "        text-align: right;\n",
       "    }\n",
       "</style>\n",
       "<table border=\"1\" class=\"dataframe\">\n",
       "  <thead>\n",
       "    <tr style=\"text-align: right;\">\n",
       "      <th></th>\n",
       "      <th>ViewCount</th>\n",
       "      <th>Score</th>\n",
       "    </tr>\n",
       "  </thead>\n",
       "  <tbody>\n",
       "    <tr>\n",
       "      <th>ViewCount</th>\n",
       "      <td>1.000000</td>\n",
       "      <td>0.882197</td>\n",
       "    </tr>\n",
       "    <tr>\n",
       "      <th>Score</th>\n",
       "      <td>0.882197</td>\n",
       "      <td>1.000000</td>\n",
       "    </tr>\n",
       "  </tbody>\n",
       "</table>\n",
       "</div>"
      ],
      "text/plain": [
       "           ViewCount     Score\n",
       "ViewCount   1.000000  0.882197\n",
       "Score       0.882197  1.000000"
      ]
     },
     "execution_count": 18,
     "metadata": {},
     "output_type": "execute_result"
    }
   ],
   "source": [
    "df_rndeff.corr(method='pearson')"
   ]
  },
  {
   "cell_type": "markdown",
   "metadata": {},
   "source": [
    "#### Explanation :\n",
    "\n",
    "The describe table shows that the values of both Score and ViewCount are compact until the 90% quantile and gains one order of magnitude at the max values. This is a sign of the presence of outliers. The scatterplot confirms this observation. We can consider that there are 2 outliers, the remaining data being quite regrouped.\n",
    "\n",
    "The Pearson correlation is high (0.88) but as the Pearson method is not robust against outliers, this correlation is inconclusive. We have to remove the 2 outliers in order to have a bette estimation of the correlation."
   ]
  },
  {
   "cell_type": "code",
   "execution_count": 21,
   "metadata": {},
   "outputs": [
    {
     "data": {
      "text/html": [
       "<div>\n",
       "<style scoped>\n",
       "    .dataframe tbody tr th:only-of-type {\n",
       "        vertical-align: middle;\n",
       "    }\n",
       "\n",
       "    .dataframe tbody tr th {\n",
       "        vertical-align: top;\n",
       "    }\n",
       "\n",
       "    .dataframe thead th {\n",
       "        text-align: right;\n",
       "    }\n",
       "</style>\n",
       "<table border=\"1\" class=\"dataframe\">\n",
       "  <thead>\n",
       "    <tr style=\"text-align: right;\">\n",
       "      <th></th>\n",
       "      <th>ViewCount</th>\n",
       "      <th>Score</th>\n",
       "    </tr>\n",
       "  </thead>\n",
       "  <tbody>\n",
       "    <tr>\n",
       "      <th>0</th>\n",
       "      <td>12</td>\n",
       "      <td>0</td>\n",
       "    </tr>\n",
       "    <tr>\n",
       "      <th>1</th>\n",
       "      <td>495</td>\n",
       "      <td>0</td>\n",
       "    </tr>\n",
       "    <tr>\n",
       "      <th>2</th>\n",
       "      <td>220</td>\n",
       "      <td>0</td>\n",
       "    </tr>\n",
       "    <tr>\n",
       "      <th>3</th>\n",
       "      <td>21</td>\n",
       "      <td>0</td>\n",
       "    </tr>\n",
       "    <tr>\n",
       "      <th>4</th>\n",
       "      <td>126</td>\n",
       "      <td>5</td>\n",
       "    </tr>\n",
       "    <tr>\n",
       "      <th>5</th>\n",
       "      <td>61</td>\n",
       "      <td>-1</td>\n",
       "    </tr>\n",
       "    <tr>\n",
       "      <th>6</th>\n",
       "      <td>196</td>\n",
       "      <td>0</td>\n",
       "    </tr>\n",
       "    <tr>\n",
       "      <th>7</th>\n",
       "      <td>131</td>\n",
       "      <td>1</td>\n",
       "    </tr>\n",
       "    <tr>\n",
       "      <th>8</th>\n",
       "      <td>487</td>\n",
       "      <td>2</td>\n",
       "    </tr>\n",
       "    <tr>\n",
       "      <th>9</th>\n",
       "      <td>125</td>\n",
       "      <td>4</td>\n",
       "    </tr>\n",
       "  </tbody>\n",
       "</table>\n",
       "</div>"
      ],
      "text/plain": [
       "   ViewCount  Score\n",
       "0         12      0\n",
       "1        495      0\n",
       "2        220      0\n",
       "3         21      0\n",
       "4        126      5\n",
       "5         61     -1\n",
       "6        196      0\n",
       "7        131      1\n",
       "8        487      2\n",
       "9        125      4"
      ]
     },
     "execution_count": 21,
     "metadata": {},
     "output_type": "execute_result"
    }
   ],
   "source": [
    "df_rndeff_nooutliers = df_rndeff.loc[df_rndeff.Score <= 10, :]\n",
    "\n",
    "df_rndeff_nooutliers.head(10)"
   ]
  },
  {
   "cell_type": "code",
   "execution_count": 14,
   "metadata": {},
   "outputs": [
    {
     "data": {
      "text/html": [
       "<div>\n",
       "<style scoped>\n",
       "    .dataframe tbody tr th:only-of-type {\n",
       "        vertical-align: middle;\n",
       "    }\n",
       "\n",
       "    .dataframe tbody tr th {\n",
       "        vertical-align: top;\n",
       "    }\n",
       "\n",
       "    .dataframe thead th {\n",
       "        text-align: right;\n",
       "    }\n",
       "</style>\n",
       "<table border=\"1\" class=\"dataframe\">\n",
       "  <thead>\n",
       "    <tr style=\"text-align: right;\">\n",
       "      <th></th>\n",
       "      <th>ViewCount</th>\n",
       "      <th>Score</th>\n",
       "    </tr>\n",
       "  </thead>\n",
       "  <tbody>\n",
       "    <tr>\n",
       "      <th>count</th>\n",
       "      <td>98.000000</td>\n",
       "      <td>98.000000</td>\n",
       "    </tr>\n",
       "    <tr>\n",
       "      <th>mean</th>\n",
       "      <td>511.897959</td>\n",
       "      <td>0.959184</td>\n",
       "    </tr>\n",
       "    <tr>\n",
       "      <th>std</th>\n",
       "      <td>1080.012700</td>\n",
       "      <td>1.630371</td>\n",
       "    </tr>\n",
       "    <tr>\n",
       "      <th>min</th>\n",
       "      <td>10.000000</td>\n",
       "      <td>-2.000000</td>\n",
       "    </tr>\n",
       "    <tr>\n",
       "      <th>25%</th>\n",
       "      <td>62.750000</td>\n",
       "      <td>0.000000</td>\n",
       "    </tr>\n",
       "    <tr>\n",
       "      <th>50%</th>\n",
       "      <td>169.000000</td>\n",
       "      <td>0.000000</td>\n",
       "    </tr>\n",
       "    <tr>\n",
       "      <th>75%</th>\n",
       "      <td>495.000000</td>\n",
       "      <td>1.000000</td>\n",
       "    </tr>\n",
       "    <tr>\n",
       "      <th>90%</th>\n",
       "      <td>855.300000</td>\n",
       "      <td>2.300000</td>\n",
       "    </tr>\n",
       "    <tr>\n",
       "      <th>max</th>\n",
       "      <td>6699.000000</td>\n",
       "      <td>8.000000</td>\n",
       "    </tr>\n",
       "  </tbody>\n",
       "</table>\n",
       "</div>"
      ],
      "text/plain": [
       "         ViewCount      Score\n",
       "count    98.000000  98.000000\n",
       "mean    511.897959   0.959184\n",
       "std    1080.012700   1.630371\n",
       "min      10.000000  -2.000000\n",
       "25%      62.750000   0.000000\n",
       "50%     169.000000   0.000000\n",
       "75%     495.000000   1.000000\n",
       "90%     855.300000   2.300000\n",
       "max    6699.000000   8.000000"
      ]
     },
     "execution_count": 14,
     "metadata": {},
     "output_type": "execute_result"
    }
   ],
   "source": [
    "df_rndeff_nooutliers.describe(percentiles=[.25, .5, .75, .90])"
   ]
  },
  {
   "cell_type": "code",
   "execution_count": 15,
   "metadata": {},
   "outputs": [
    {
     "data": {
      "text/plain": [
       "<matplotlib.axes._subplots.AxesSubplot at 0x15ed7e09b38>"
      ]
     },
     "execution_count": 15,
     "metadata": {},
     "output_type": "execute_result"
    },
    {
     "data": {
      "image/png": "[encoded data removed]",
      "text/plain": [
       "<Figure size 432x288 with 1 Axes>"
      ]
     },
     "metadata": {
      "needs_background": "light"
     },
     "output_type": "display_data"
    }
   ],
   "source": [
    "df_rndeff_nooutliers.plot.scatter(x='ViewCount', y='Score')"
   ]
  },
  {
   "cell_type": "code",
   "execution_count": 19,
   "metadata": {},
   "outputs": [
    {
     "data": {
      "text/html": [
       "<div>\n",
       "<style scoped>\n",
       "    .dataframe tbody tr th:only-of-type {\n",
       "        vertical-align: middle;\n",
       "    }\n",
       "\n",
       "    .dataframe tbody tr th {\n",
       "        vertical-align: top;\n",
       "    }\n",
       "\n",
       "    .dataframe thead th {\n",
       "        text-align: right;\n",
       "    }\n",
       "</style>\n",
       "<table border=\"1\" class=\"dataframe\">\n",
       "  <thead>\n",
       "    <tr style=\"text-align: right;\">\n",
       "      <th></th>\n",
       "      <th>ViewCount</th>\n",
       "      <th>Score</th>\n",
       "    </tr>\n",
       "  </thead>\n",
       "  <tbody>\n",
       "    <tr>\n",
       "      <th>ViewCount</th>\n",
       "      <td>1.000000</td>\n",
       "      <td>0.439389</td>\n",
       "    </tr>\n",
       "    <tr>\n",
       "      <th>Score</th>\n",
       "      <td>0.439389</td>\n",
       "      <td>1.000000</td>\n",
       "    </tr>\n",
       "  </tbody>\n",
       "</table>\n",
       "</div>"
      ],
      "text/plain": [
       "           ViewCount     Score\n",
       "ViewCount   1.000000  0.439389\n",
       "Score       0.439389  1.000000"
      ]
     },
     "execution_count": 19,
     "metadata": {},
     "output_type": "execute_result"
    }
   ],
   "source": [
    "df_rndeff_nooutliers.corr(method='pearson')"
   ]
  },
  {
   "cell_type": "markdown",
   "metadata": {},
   "source": [
    "#### Explanation :\n",
    "\n",
    "After removing the 2 outliers, we can compute once again the Pearson correlation. This time, the result is much lower (0.44). It has been divided by a factor 2 !\n",
    "\n",
    "We can conclude that there is no strong correlation between ViewCount and Score. Some knowledge about StackOverflow helps the analysis. A high score means that a discussion thread contains useful answers about a problem, whereas the view count reflects how common is a problem. Obviously, if a thread is about a frequent problem and provides quality answers, both the view count and the score will be high. As the users search for discussion threads with keywords through search engines and not with score rankings, the view count is not really correlated with the score."
   ]
  },
  {
   "cell_type": "markdown",
   "metadata": {},
   "source": [
    "### Task D: What are the tags with the fastest first answer?\n",
    "\n",
    "What are the tags that have the fastest response time from the community? We define the response time as the difference in seconds between the timestamps of the question and of the first answer received.\n",
    "\n",
    "1. Get the response time for the first answer of the questions with the tags ```python``` and ```java```.\n",
    "2. Plot the two distributions in an appropriate format. What do you observe? Describe your findings and discuss the following distribution properties: mean, median, standard deviation.\n",
    "3. We believe that the response time is lower for questions related to Python (compare to Java). Contradict or confirm this assumption by estimating the proper statistic with bootstrapping. Visualize the 95% confidence intervals with box plots and describe your findings.\n",
    "3. Repeat the first analysis (D1) by using the proper statistic to measure the response time for the tags that appear at least 5000 times. Plot the distribution of the 10 tags with the fastest response time.\n"
   ]
  },
  {
   "cell_type": "code",
   "execution_count": 4,
   "metadata": {},
   "outputs": [
    {
     "name": "stdout",
     "output_type": "stream",
     "text": [
      "+-------------------+--------+--------+----------+-----+--------------------+--------------------+---------+\n",
      "|       CreationDate|      Id|ParentId|PostTypeId|Score|                Tags|               Title|ViewCount|\n",
      "+-------------------+--------+--------+----------+-----+--------------------+--------------------+---------+\n",
      "|2017-08-17 16:21:08|45740358|    null|         1|    0|<python><websocke...|Python websockets...|      280|\n",
      "|2017-08-17 16:25:34|45740445|    null|         1|    2|<python><python-2.7>|How to Import Lib...|      146|\n",
      "|2017-08-17 16:29:45|45740537|    null|         1|   13|<python><pandas><...|Copying MultiInde...|      443|\n",
      "+-------------------+--------+--------+----------+-----+--------------------+--------------------+---------+\n",
      "only showing top 3 rows\n",
      "\n"
     ]
    }
   ],
   "source": [
    "query_python_question = \"\"\"\n",
    "select * from data_stack\n",
    "where Tags like '%<python>%' and CreationDate is not null\n",
    "\"\"\"\n",
    "python_question_data = spark.sql(query_python_question)\n",
    "python_question_data.registerTempTable('python_question')\n",
    "python_question_data.show(3)"
   ]
  },
  {
   "cell_type": "code",
   "execution_count": 5,
   "metadata": {},
   "outputs": [
    {
     "name": "stdout",
     "output_type": "stream",
     "text": [
      "+-------------------+--------+--------+----------+-----+--------------------+--------------------+---------+\n",
      "|       CreationDate|      Id|ParentId|PostTypeId|Score|                Tags|               Title|ViewCount|\n",
      "+-------------------+--------+--------+----------+-----+--------------------+--------------------+---------+\n",
      "|2017-08-17 16:21:57|45740378|    null|         1|    1|<java><android><r...|I getting the fol...|       68|\n",
      "|2017-08-17 16:23:22|45740406|    null|         1|    0|<java><swing><jta...|two horizontal JT...|       91|\n",
      "|2017-08-17 16:26:20|45740464|    null|         1|    0|<java><android><a...|can we set custom...|       29|\n",
      "+-------------------+--------+--------+----------+-----+--------------------+--------------------+---------+\n",
      "only showing top 3 rows\n",
      "\n"
     ]
    }
   ],
   "source": [
    "query_java_question = \"\"\"\n",
    "select * from data_stack\n",
    "where Tags like '%<java>%' and CreationDate is not null\n",
    "\"\"\"\n",
    "java_question_data = spark.sql(query_java_question)\n",
    "java_question_data.registerTempTable('java_question')\n",
    "java_question_data.show(3)"
   ]
  },
  {
   "cell_type": "code",
   "execution_count": 4,
   "metadata": {},
   "outputs": [],
   "source": [
    "answer = \"\"\"\n",
    "select CreationDate, ParentId from data_stack\n",
    "where PostTypeId = 2 and CreationDate is not null\n",
    "\"\"\"\n",
    "answer_data = spark.sql(answer)\n",
    "answer_data.registerTempTable('answer')\n",
    "\n",
    "answer_min = \"\"\"\n",
    "select MIN(CreationDate) as First_answer, ParentId from answer\n",
    "group by ParentId\n",
    "\"\"\"\n",
    "answer_min_data = spark.sql(answer_min)\n",
    "answer_min_data.registerTempTable('answer_min')"
   ]
  },
  {
   "cell_type": "code",
   "execution_count": 7,
   "metadata": {},
   "outputs": [
    {
     "data": {
      "text/html": [
       "<div>\n",
       "<style scoped>\n",
       "    .dataframe tbody tr th:only-of-type {\n",
       "        vertical-align: middle;\n",
       "    }\n",
       "\n",
       "    .dataframe tbody tr th {\n",
       "        vertical-align: top;\n",
       "    }\n",
       "\n",
       "    .dataframe thead th {\n",
       "        text-align: right;\n",
       "    }\n",
       "</style>\n",
       "<table border=\"1\" class=\"dataframe\">\n",
       "  <thead>\n",
       "    <tr style=\"text-align: right;\">\n",
       "      <th></th>\n",
       "      <th>CreationDate</th>\n",
       "      <th>Tags</th>\n",
       "      <th>Fisrt_answer</th>\n",
       "      <th>Time_diff</th>\n",
       "    </tr>\n",
       "  </thead>\n",
       "  <tbody>\n",
       "    <tr>\n",
       "      <th>0</th>\n",
       "      <td>2008-09-02 09:40:26</td>\n",
       "      <td>&lt;python&gt;&lt;distutils&gt;</td>\n",
       "      <td>2008-09-02 11:43:45</td>\n",
       "      <td>7399.0</td>\n",
       "    </tr>\n",
       "    <tr>\n",
       "      <th>1</th>\n",
       "      <td>2008-09-18 13:41:22</td>\n",
       "      <td>&lt;python&gt;&lt;api&gt;&lt;sockets&gt;&lt;ssl&gt;&lt;gmail&gt;</td>\n",
       "      <td>2008-09-18 15:06:11</td>\n",
       "      <td>5089.0</td>\n",
       "    </tr>\n",
       "    <tr>\n",
       "      <th>2</th>\n",
       "      <td>2008-09-22 17:08:12</td>\n",
       "      <td>&lt;python&gt;&lt;ms-word&gt;&lt;openxml&gt;&lt;docx&gt;</td>\n",
       "      <td>2008-09-22 17:16:43</td>\n",
       "      <td>511.0</td>\n",
       "    </tr>\n",
       "    <tr>\n",
       "      <th>3</th>\n",
       "      <td>2008-10-08 06:34:21</td>\n",
       "      <td>&lt;python&gt;&lt;dll&gt;&lt;py2exe&gt;</td>\n",
       "      <td>2008-10-08 06:46:57</td>\n",
       "      <td>756.0</td>\n",
       "    </tr>\n",
       "    <tr>\n",
       "      <th>4</th>\n",
       "      <td>2008-10-22 23:38:30</td>\n",
       "      <td>&lt;python&gt;&lt;module&gt;</td>\n",
       "      <td>2008-10-22 23:40:26</td>\n",
       "      <td>116.0</td>\n",
       "    </tr>\n",
       "    <tr>\n",
       "      <th>5</th>\n",
       "      <td>2009-01-15 15:15:31</td>\n",
       "      <td>&lt;python&gt;&lt;database&gt;&lt;django&gt;&lt;performance&gt;</td>\n",
       "      <td>2009-01-15 15:19:08</td>\n",
       "      <td>217.0</td>\n",
       "    </tr>\n",
       "    <tr>\n",
       "      <th>6</th>\n",
       "      <td>2009-01-23 11:16:35</td>\n",
       "      <td>&lt;python&gt;&lt;iterator&gt;&lt;generator&gt;</td>\n",
       "      <td>2009-01-23 11:23:12</td>\n",
       "      <td>397.0</td>\n",
       "    </tr>\n",
       "    <tr>\n",
       "      <th>7</th>\n",
       "      <td>2009-01-23 20:23:38</td>\n",
       "      <td>&lt;python&gt;&lt;unicode&gt;&lt;csv&gt;&lt;decode&gt;&lt;codec&gt;</td>\n",
       "      <td>2009-01-23 20:36:12</td>\n",
       "      <td>754.0</td>\n",
       "    </tr>\n",
       "    <tr>\n",
       "      <th>8</th>\n",
       "      <td>2009-02-05 14:11:32</td>\n",
       "      <td>&lt;python&gt;</td>\n",
       "      <td>2009-02-05 14:17:39</td>\n",
       "      <td>367.0</td>\n",
       "    </tr>\n",
       "    <tr>\n",
       "      <th>9</th>\n",
       "      <td>2009-03-06 19:44:12</td>\n",
       "      <td>&lt;python&gt;&lt;windows&gt;&lt;automation&gt;</td>\n",
       "      <td>2009-03-06 19:53:01</td>\n",
       "      <td>529.0</td>\n",
       "    </tr>\n",
       "  </tbody>\n",
       "</table>\n",
       "</div>"
      ],
      "text/plain": [
       "         CreationDate                                     Tags  \\\n",
       "0 2008-09-02 09:40:26                      <python><distutils>   \n",
       "1 2008-09-18 13:41:22       <python><api><sockets><ssl><gmail>   \n",
       "2 2008-09-22 17:08:12         <python><ms-word><openxml><docx>   \n",
       "3 2008-10-08 06:34:21                    <python><dll><py2exe>   \n",
       "4 2008-10-22 23:38:30                         <python><module>   \n",
       "5 2009-01-15 15:15:31  <python><database><django><performance>   \n",
       "6 2009-01-23 11:16:35            <python><iterator><generator>   \n",
       "7 2009-01-23 20:23:38    <python><unicode><csv><decode><codec>   \n",
       "8 2009-02-05 14:11:32                                 <python>   \n",
       "9 2009-03-06 19:44:12            <python><windows><automation>   \n",
       "\n",
       "         Fisrt_answer  Time_diff  \n",
       "0 2008-09-02 11:43:45     7399.0  \n",
       "1 2008-09-18 15:06:11     5089.0  \n",
       "2 2008-09-22 17:16:43      511.0  \n",
       "3 2008-10-08 06:46:57      756.0  \n",
       "4 2008-10-22 23:40:26      116.0  \n",
       "5 2009-01-15 15:19:08      217.0  \n",
       "6 2009-01-23 11:23:12      397.0  \n",
       "7 2009-01-23 20:36:12      754.0  \n",
       "8 2009-02-05 14:17:39      367.0  \n",
       "9 2009-03-06 19:53:01      529.0  "
      ]
     },
     "execution_count": 7,
     "metadata": {},
     "output_type": "execute_result"
    }
   ],
   "source": [
    "pyhton_first_answer = \"\"\"\n",
    "select CreationDate, Tags, First_answer\n",
    "from python_question\n",
    "inner join answer_min on python_question.Id = answer_min.ParentId\n",
    "\"\"\"\n",
    "pyhton_first_answer_data = spark.sql(pyhton_first_answer)\n",
    "\n",
    "python_time = pyhton_first_answer_data.toPandas()\n",
    "python_time['Time_diff'] = (python_time.First_answer - python_time.CreationDate)/np.timedelta64(1, 's')\n",
    "python_time = python_time.loc[python_time['Time_diff'] >= 0, :]\n",
    "\n",
    "python_time.head(10)"
   ]
  },
  {
   "cell_type": "code",
   "execution_count": 8,
   "metadata": {},
   "outputs": [
    {
     "data": {
      "text/html": [
       "<div>\n",
       "<style scoped>\n",
       "    .dataframe tbody tr th:only-of-type {\n",
       "        vertical-align: middle;\n",
       "    }\n",
       "\n",
       "    .dataframe tbody tr th {\n",
       "        vertical-align: top;\n",
       "    }\n",
       "\n",
       "    .dataframe thead th {\n",
       "        text-align: right;\n",
       "    }\n",
       "</style>\n",
       "<table border=\"1\" class=\"dataframe\">\n",
       "  <thead>\n",
       "    <tr style=\"text-align: right;\">\n",
       "      <th></th>\n",
       "      <th>CreationDate</th>\n",
       "      <th>Tags</th>\n",
       "      <th>Fisrt_answer</th>\n",
       "      <th>Time_diff</th>\n",
       "    </tr>\n",
       "  </thead>\n",
       "  <tbody>\n",
       "    <tr>\n",
       "      <th>0</th>\n",
       "      <td>2008-08-27 15:21:31</td>\n",
       "      <td>&lt;java&gt;&lt;cluster-computing&gt;&lt;terracotta&gt;&lt;jgroups&gt;</td>\n",
       "      <td>2008-08-27 15:53:33</td>\n",
       "      <td>1922.0</td>\n",
       "    </tr>\n",
       "    <tr>\n",
       "      <th>1</th>\n",
       "      <td>2008-09-11 02:40:12</td>\n",
       "      <td>&lt;java&gt;&lt;java-io&gt;</td>\n",
       "      <td>2008-09-11 02:45:02</td>\n",
       "      <td>290.0</td>\n",
       "    </tr>\n",
       "    <tr>\n",
       "      <th>2</th>\n",
       "      <td>2008-09-17 03:29:03</td>\n",
       "      <td>&lt;java&gt;&lt;validation&gt;&lt;date&gt;&lt;mask&gt;</td>\n",
       "      <td>2008-09-17 03:31:39</td>\n",
       "      <td>156.0</td>\n",
       "    </tr>\n",
       "    <tr>\n",
       "      <th>3</th>\n",
       "      <td>2008-09-25 09:41:11</td>\n",
       "      <td>&lt;java&gt;&lt;generics&gt;&lt;constraints&gt;</td>\n",
       "      <td>2008-09-25 10:02:09</td>\n",
       "      <td>1258.0</td>\n",
       "    </tr>\n",
       "    <tr>\n",
       "      <th>4</th>\n",
       "      <td>2008-10-10 15:53:53</td>\n",
       "      <td>&lt;java&gt;&lt;eclipse&gt;&lt;eclipse-3.4&gt;&lt;ganymede&gt;</td>\n",
       "      <td>2008-10-10 16:04:59</td>\n",
       "      <td>666.0</td>\n",
       "    </tr>\n",
       "    <tr>\n",
       "      <th>5</th>\n",
       "      <td>2008-10-15 03:53:23</td>\n",
       "      <td>&lt;java&gt;&lt;generics&gt;</td>\n",
       "      <td>2008-10-15 04:45:02</td>\n",
       "      <td>3099.0</td>\n",
       "    </tr>\n",
       "    <tr>\n",
       "      <th>6</th>\n",
       "      <td>2008-10-27 19:48:30</td>\n",
       "      <td>&lt;java&gt;&lt;spring&gt;&lt;jms&gt;</td>\n",
       "      <td>2008-10-27 23:19:50</td>\n",
       "      <td>12680.0</td>\n",
       "    </tr>\n",
       "    <tr>\n",
       "      <th>7</th>\n",
       "      <td>2008-11-28 10:24:18</td>\n",
       "      <td>&lt;java&gt;&lt;uuid&gt;</td>\n",
       "      <td>2008-11-28 10:26:44</td>\n",
       "      <td>146.0</td>\n",
       "    </tr>\n",
       "    <tr>\n",
       "      <th>8</th>\n",
       "      <td>2008-11-29 10:23:18</td>\n",
       "      <td>&lt;c#&gt;&lt;java&gt;&lt;.net&gt;&lt;console&gt;</td>\n",
       "      <td>2008-11-29 11:03:30</td>\n",
       "      <td>2412.0</td>\n",
       "    </tr>\n",
       "    <tr>\n",
       "      <th>9</th>\n",
       "      <td>2008-12-06 20:55:49</td>\n",
       "      <td>&lt;java&gt;&lt;garbage-collection&gt;&lt;map&gt;&lt;object&gt;</td>\n",
       "      <td>2008-12-06 21:03:37</td>\n",
       "      <td>468.0</td>\n",
       "    </tr>\n",
       "  </tbody>\n",
       "</table>\n",
       "</div>"
      ],
      "text/plain": [
       "         CreationDate                                            Tags  \\\n",
       "0 2008-08-27 15:21:31  <java><cluster-computing><terracotta><jgroups>   \n",
       "1 2008-09-11 02:40:12                                 <java><java-io>   \n",
       "2 2008-09-17 03:29:03                  <java><validation><date><mask>   \n",
       "3 2008-09-25 09:41:11                   <java><generics><constraints>   \n",
       "4 2008-10-10 15:53:53          <java><eclipse><eclipse-3.4><ganymede>   \n",
       "5 2008-10-15 03:53:23                                <java><generics>   \n",
       "6 2008-10-27 19:48:30                             <java><spring><jms>   \n",
       "7 2008-11-28 10:24:18                                    <java><uuid>   \n",
       "8 2008-11-29 10:23:18                       <c#><java><.net><console>   \n",
       "9 2008-12-06 20:55:49         <java><garbage-collection><map><object>   \n",
       "\n",
       "         Fisrt_answer  Time_diff  \n",
       "0 2008-08-27 15:53:33     1922.0  \n",
       "1 2008-09-11 02:45:02      290.0  \n",
       "2 2008-09-17 03:31:39      156.0  \n",
       "3 2008-09-25 10:02:09     1258.0  \n",
       "4 2008-10-10 16:04:59      666.0  \n",
       "5 2008-10-15 04:45:02     3099.0  \n",
       "6 2008-10-27 23:19:50    12680.0  \n",
       "7 2008-11-28 10:26:44      146.0  \n",
       "8 2008-11-29 11:03:30     2412.0  \n",
       "9 2008-12-06 21:03:37      468.0  "
      ]
     },
     "execution_count": 8,
     "metadata": {},
     "output_type": "execute_result"
    }
   ],
   "source": [
    "java_fisrt_answer = \"\"\"\n",
    "select CreationDate, Tags, First_answer\n",
    "from java_question\n",
    "inner join answer_min on java_question.Id = answer_min.ParentId\n",
    "\"\"\"\n",
    "java_fisrt_answer_data = spark.sql(java_fisrt_answer)\n",
    "\n",
    "java_time = java_fisrt_answer_data.toPandas()\n",
    "java_time['Time_diff'] = (java_time.First_answer - java_time.CreationDate)/np.timedelta64(1, 's')\n",
    "java_time = java_time.loc[java_time['Time_diff'] >= 0, :]\n",
    "\n",
    "java_time.head(10)"
   ]
  },
  {
   "cell_type": "code",
   "execution_count": 24,
   "metadata": {},
   "outputs": [
    {
     "data": {
      "image/png": "[encoded data removed]",
      "text/plain": [
       "<Figure size 432x288 with 1 Axes>"
      ]
     },
     "metadata": {
      "needs_background": "light"
     },
     "output_type": "display_data"
    }
   ],
   "source": [
    "plt.hist(python_time.Time_diff, 1000, alpha=0.5, log = True, density = True, label='Python')\n",
    "plt.hist(java_time.Time_diff, 1000, alpha=0.5, log =True, density = True, label='Java')\n",
    "plt.xscale('log')\n",
    "plt.legend(loc='upper right')\n",
    "plt.title(\"Proportion of latence to the first response for question in StackOverflow with different Tag\")\n",
    "plt.xlabel(\"Latence [sec] [log scale]\")\n",
    "plt.ylabel(\"Proportion of questions [log scale]\")\n",
    "plt.show()"
   ]
  },
  {
   "cell_type": "code",
   "execution_count": 5,
   "metadata": {},
   "outputs": [],
   "source": [
    "question_query = \"\"\"\n",
    "select * \n",
    "from data_stack\n",
    "where PostTypeId = 1 and CreationDate is not null\n",
    "\"\"\"\n",
    "\n",
    "question_data = spark.sql(question_query)\n",
    "question_data.registerTempTable('question')\n",
    "\n",
    "Tags_response_time = \"\"\"\n",
    "select CreationDate, Tags, First_answer\n",
    "from question\n",
    "inner join answer_min on question.Id = answer_min.ParentId\n",
    "\"\"\"\n",
    "Tags_time_data = spark.sql(Tags_response_time)"
   ]
  },
  {
   "cell_type": "code",
   "execution_count": 26,
   "metadata": {},
   "outputs": [],
   "source": [
    "forma = 'yyyy-MM-dd HH:mm:ss.000'\n",
    "\n",
    "Tags_time_data = Tags_time_data.withColumn(\"Time_diff\",\\\n",
    "                    (unix_timestamp(Tags_time_data.First_answer, format = forma) -\\\n",
    "                     unix_timestamp(Tags_time_data.CreationDate, format = forma)))\n",
    "\n",
    "Tags_time_data = Tags_time_data.map() #A Suivre"
   ]
  },
  {
   "cell_type": "markdown",
   "metadata": {},
   "source": [
    "### Task E: What's up with PySpark?\n",
    "The number of questions asked regarding a specific topic reflect the public’s interest on it. We are interested on the popularity of PySpark. Compute and plot the number of questions with the ```pyspark``` tag for 30-day time intervals. Do you notice any trend over time? Is there any correlation between time and number of questions?\n"
   ]
  },
  {
   "cell_type": "markdown",
   "metadata": {},
   "source": [
    "### VARIANTE 1 (mois)"
   ]
  },
  {
   "cell_type": "code",
   "execution_count": 13,
   "metadata": {},
   "outputs": [
    {
     "name": "stdout",
     "output_type": "stream",
     "text": [
      "+-------------------+\n",
      "|       CreationDate|\n",
      "+-------------------+\n",
      "|2017-08-17 16:40:45|\n",
      "|2017-08-17 20:36:36|\n",
      "|2016-08-03 08:10:33|\n",
      "+-------------------+\n",
      "only showing top 3 rows\n",
      "\n"
     ]
    }
   ],
   "source": [
    "query_pyspark_question = \"\"\"\n",
    "select CreationDate from data_stack\n",
    "where Tags like '%<pyspark>%' and CreationDate is not null and PostTypeId = 1\n",
    "\"\"\"\n",
    "pyspark_question_data = spark.sql(query_pyspark_question)\n",
    "pyspark_question_data.registerTempTable('pyspark_question')\n",
    "pyspark_question_data.show(3)"
   ]
  },
  {
   "cell_type": "code",
   "execution_count": 14,
   "metadata": {},
   "outputs": [
    {
     "name": "stdout",
     "output_type": "stream",
     "text": [
      "+-------------------------------+--------------------------------------+\n",
      "|date_format(CreationDate, Y-MM)|count(date_format(CreationDate, Y-MM))|\n",
      "+-------------------------------+--------------------------------------+\n",
      "|                        2017-09|                                   360|\n",
      "|                        2017-10|                                   355|\n",
      "|                        2016-02|                                   173|\n",
      "+-------------------------------+--------------------------------------+\n",
      "only showing top 3 rows\n",
      "\n"
     ]
    }
   ],
   "source": [
    "query_pyspark_group_by = \"\"\"\n",
    "SELECT DATE_FORMAT(CreationDate, \"Y-MM\"), COUNT(DATE_FORMAT(CreationDate, \"Y-MM\"))\n",
    "FROM pyspark_question\n",
    "GROUP BY DATE_FORMAT(CreationDate, \"Y-MM\")\n",
    "\"\"\"\n",
    "pyspark_group_by_data = spark.sql(query_pyspark_group_by)\n",
    "pyspark_group_by_data.registerTempTable('pyspark_group_by')\n",
    "pyspark_group_by_data.show(3)"
   ]
  },
  {
   "cell_type": "code",
   "execution_count": 15,
   "metadata": {},
   "outputs": [
    {
     "data": {
      "text/html": [
       "<div>\n",
       "<style scoped>\n",
       "    .dataframe tbody tr th:only-of-type {\n",
       "        vertical-align: middle;\n",
       "    }\n",
       "\n",
       "    .dataframe tbody tr th {\n",
       "        vertical-align: top;\n",
       "    }\n",
       "\n",
       "    .dataframe thead th {\n",
       "        text-align: right;\n",
       "    }\n",
       "</style>\n",
       "<table border=\"1\" class=\"dataframe\">\n",
       "  <thead>\n",
       "    <tr style=\"text-align: right;\">\n",
       "      <th></th>\n",
       "      <th>Date</th>\n",
       "      <th>Count</th>\n",
       "    </tr>\n",
       "  </thead>\n",
       "  <tbody>\n",
       "    <tr>\n",
       "      <th>38</th>\n",
       "      <td>2014-04</td>\n",
       "      <td>1</td>\n",
       "    </tr>\n",
       "    <tr>\n",
       "      <th>24</th>\n",
       "      <td>2014-08</td>\n",
       "      <td>1</td>\n",
       "    </tr>\n",
       "    <tr>\n",
       "      <th>39</th>\n",
       "      <td>2014-10</td>\n",
       "      <td>3</td>\n",
       "    </tr>\n",
       "    <tr>\n",
       "      <th>32</th>\n",
       "      <td>2014-11</td>\n",
       "      <td>5</td>\n",
       "    </tr>\n",
       "    <tr>\n",
       "      <th>41</th>\n",
       "      <td>2014-12</td>\n",
       "      <td>1</td>\n",
       "    </tr>\n",
       "    <tr>\n",
       "      <th>29</th>\n",
       "      <td>2015-01</td>\n",
       "      <td>11</td>\n",
       "    </tr>\n",
       "    <tr>\n",
       "      <th>20</th>\n",
       "      <td>2015-02</td>\n",
       "      <td>18</td>\n",
       "    </tr>\n",
       "    <tr>\n",
       "      <th>50</th>\n",
       "      <td>2015-03</td>\n",
       "      <td>27</td>\n",
       "    </tr>\n",
       "  </tbody>\n",
       "</table>\n",
       "</div>"
      ],
      "text/plain": [
       "       Date  Count\n",
       "38  2014-04      1\n",
       "24  2014-08      1\n",
       "39  2014-10      3\n",
       "32  2014-11      5\n",
       "41  2014-12      1\n",
       "29  2015-01     11\n",
       "20  2015-02     18\n",
       "50  2015-03     27"
      ]
     },
     "execution_count": 15,
     "metadata": {},
     "output_type": "execute_result"
    }
   ],
   "source": [
    "dict_ = {'date_format(CreationDate, Y-MM)' : 'Date','count(date_format(CreationDate, Y-MM))':'Count'}\n",
    "df_pyspark = pyspark_group_by_data.toPandas().rename(index=str, columns=dict_).sort_values('Date',ascending=True)\n",
    "df_pyspark.head(8)"
   ]
  },
  {
   "cell_type": "code",
   "execution_count": 19,
   "metadata": {},
   "outputs": [
    {
     "data": {
      "text/html": [
       "<div>\n",
       "<style scoped>\n",
       "    .dataframe tbody tr th:only-of-type {\n",
       "        vertical-align: middle;\n",
       "    }\n",
       "\n",
       "    .dataframe tbody tr th {\n",
       "        vertical-align: top;\n",
       "    }\n",
       "\n",
       "    .dataframe thead th {\n",
       "        text-align: right;\n",
       "    }\n",
       "</style>\n",
       "<table border=\"1\" class=\"dataframe\">\n",
       "  <thead>\n",
       "    <tr style=\"text-align: right;\">\n",
       "      <th></th>\n",
       "      <th>Date</th>\n",
       "      <th>Count</th>\n",
       "    </tr>\n",
       "  </thead>\n",
       "  <tbody>\n",
       "    <tr>\n",
       "      <th>38</th>\n",
       "      <td>2014-04</td>\n",
       "      <td>1</td>\n",
       "    </tr>\n",
       "    <tr>\n",
       "      <th>0</th>\n",
       "      <td>2014-05</td>\n",
       "      <td>0</td>\n",
       "    </tr>\n",
       "    <tr>\n",
       "      <th>0</th>\n",
       "      <td>2014-05</td>\n",
       "      <td>0</td>\n",
       "    </tr>\n",
       "    <tr>\n",
       "      <th>1</th>\n",
       "      <td>2014-06</td>\n",
       "      <td>0</td>\n",
       "    </tr>\n",
       "    <tr>\n",
       "      <th>1</th>\n",
       "      <td>2014-06</td>\n",
       "      <td>0</td>\n",
       "    </tr>\n",
       "    <tr>\n",
       "      <th>2</th>\n",
       "      <td>2014-07</td>\n",
       "      <td>0</td>\n",
       "    </tr>\n",
       "    <tr>\n",
       "      <th>2</th>\n",
       "      <td>2014-07</td>\n",
       "      <td>0</td>\n",
       "    </tr>\n",
       "    <tr>\n",
       "      <th>24</th>\n",
       "      <td>2014-08</td>\n",
       "      <td>1</td>\n",
       "    </tr>\n",
       "  </tbody>\n",
       "</table>\n",
       "</div>"
      ],
      "text/plain": [
       "       Date  Count\n",
       "38  2014-04      1\n",
       "0   2014-05      0\n",
       "0   2014-05      0\n",
       "1   2014-06      0\n",
       "1   2014-06      0\n",
       "2   2014-07      0\n",
       "2   2014-07      0\n",
       "24  2014-08      1"
      ]
     },
     "execution_count": 19,
     "metadata": {},
     "output_type": "execute_result"
    }
   ],
   "source": [
    "d = {'Date': ['2014-05', '2014-06', '2014-07', '2014-09'], 'Count': [0, 0, 0, 0]}\n",
    "df = pd.DataFrame(data=d)\n",
    "df_pyspark = pd.concat([df_pyspark,df]).sort_values('Date',ascending=True).iloc[:-1]\n",
    "# Last value (2018-12) is probably an aberrant one, so we remove it.\n",
    "df_pyspark.head(8)"
   ]
  },
  {
   "cell_type": "code",
   "execution_count": 21,
   "metadata": {
    "scrolled": false
   },
   "outputs": [
    {
     "data": {
      "image/png": "[encoded data removed]",
      "text/plain": [
       "<Figure size 1008x432 with 1 Axes>"
      ]
     },
     "metadata": {},
     "output_type": "display_data"
    }
   ],
   "source": [
    "y, x = df_pyspark.Count, df_pyspark.Date\n",
    "\n",
    "fig, ax = plt.subplots(figsize=(14, 6))\n",
    "index = range(len(y))\n",
    "bar_width = 0.7\n",
    "\n",
    "ax.bar(index, y, bar_width, color='r')\n",
    "\n",
    "ax.set_xlabel('Month')\n",
    "ax.set_ylabel('Number of questions')\n",
    "ax.set_title('Number of questions with the pyspark tag per month')\n",
    "ax.set_xticks(index)\n",
    "plt.xticks(rotation=90)\n",
    "ax.set_xticklabels(x)\n",
    "ax.set_xlim(-1, len(x))\n",
    "fig.tight_layout()\n",
    "plt.show()"
   ]
  },
  {
   "cell_type": "markdown",
   "metadata": {},
   "source": [
    "### VARIANTE 2 (pas terminée, 30 jours)"
   ]
  },
  {
   "cell_type": "code",
   "execution_count": null,
   "metadata": {},
   "outputs": [],
   "source": [
    "query_pyspark_question = \"\"\"\n",
    "select CreationDate from data_stack\n",
    "where Tags like '%<pyspark>%' and CreationDate is not null and PostTypeId = 1\n",
    "\"\"\"\n",
    "pyspark_question_data = spark.sql(query_pyspark_question)\n",
    "pyspark_question_data.registerTempTable('pyspark_question')\n",
    "pyspark_question_data.show(3)"
   ]
  },
  {
   "cell_type": "code",
   "execution_count": null,
   "metadata": {},
   "outputs": [],
   "source": [
    "query_pyspark_group_by = \"\"\"\n",
    "SELECT DATE_FORMAT(CreationDate, \"Y-MM-dd\"), COUNT(DATE_FORMAT(CreationDate, \"Y-MM-dd\"))\n",
    "FROM pyspark_question\n",
    "GROUP BY DATE_FORMAT(CreationDate, \"Y-MM-dd\")\n",
    "\"\"\"\n",
    "pyspark_group_by_data = spark.sql(query_pyspark_group_by)\n",
    "pyspark_group_by_data.registerTempTable('pyspark_group_by')\n",
    "pyspark_group_by_data.show(3)"
   ]
  },
  {
   "cell_type": "code",
   "execution_count": null,
   "metadata": {},
   "outputs": [],
   "source": [
    "dict_ = {'date_format(CreationDate, Y-MM-dd)' : 'Date','count(date_format(CreationDate, Y-MM-dd))':'Count'}\n",
    "df_pyspark = pyspark_group_by_data.toPandas().rename(index=str, columns=dict_).sort_values('Date',ascending=False)\n",
    "df_pyspark.Date = df_pyspark.Date.astype('datetime64')\n",
    "df_pyspark.head(10)"
   ]
  },
  {
   "cell_type": "code",
   "execution_count": null,
   "metadata": {},
   "outputs": [],
   "source": [
    "df_pyspark.TimeDelta = df_pyspark.Date - "
   ]
  },
  {
   "cell_type": "code",
   "execution_count": null,
   "metadata": {},
   "outputs": [],
   "source": [
    "time_range = pd.date_range('18/10/2014', '02/09/2018', freq='1D')\n",
    "df_time_range = pd.DataFrame({'Date':time_range,'Count':[0]*(len(time_range))})\n",
    "df_pyspark = pd.merge(df_pyspark,df_time_range,on='Date').sort_values('Date',ascending=True)\n",
    "df_pyspark['Count'] = df_pyspark['Count_x'] + df_pyspark['Count_y'] \n",
    "df_pyspark = df_pyspark[['Date','Count']]\n",
    "df_pyspark.head(10)"
   ]
  },
  {
   "cell_type": "markdown",
   "metadata": {},
   "source": [
    "### CORRELATION"
   ]
  },
  {
   "cell_type": "code",
   "execution_count": 49,
   "metadata": {},
   "outputs": [
    {
     "name": "stdout",
     "output_type": "stream",
     "text": [
      "+-------------------+\n",
      "|       CreationDate|\n",
      "+-------------------+\n",
      "|2017-08-17 16:40:45|\n",
      "|2017-08-17 20:36:36|\n",
      "|2016-08-03 08:10:33|\n",
      "+-------------------+\n",
      "only showing top 3 rows\n",
      "\n"
     ]
    }
   ],
   "source": [
    "query_pyspark_time_corr = \"\"\"\n",
    "SELECT CreationDate\n",
    "FROM pyspark_question\n",
    "\"\"\"\n",
    "pyspark_time_corr_data = spark.sql(query_pyspark_time_corr)\n",
    "pyspark_time_corr_data.registerTempTable('pyspark_time_corr_data')\n",
    "pyspark_time_corr_data.show(3)"
   ]
  },
  {
   "cell_type": "code",
   "execution_count": null,
   "metadata": {},
   "outputs": [],
   "source": [
    "df_pyspark_time = pyspark_time_corr_data.toPandas().rename(index=int, columns={'CreationDate' : 'Count'})\n",
    "df_pyspark_time.Count = df_pyspark_time.Count.astype('datetime64')"
   ]
  },
  {
   "cell_type": "markdown",
   "metadata": {},
   "source": [
    "#### Correlation to hours of the day"
   ]
  },
  {
   "cell_type": "code",
   "execution_count": 225,
   "metadata": {},
   "outputs": [
    {
     "data": {
      "text/html": [
       "<div>\n",
       "<style scoped>\n",
       "    .dataframe tbody tr th:only-of-type {\n",
       "        vertical-align: middle;\n",
       "    }\n",
       "\n",
       "    .dataframe tbody tr th {\n",
       "        vertical-align: top;\n",
       "    }\n",
       "\n",
       "    .dataframe thead th {\n",
       "        text-align: right;\n",
       "    }\n",
       "</style>\n",
       "<table border=\"1\" class=\"dataframe\">\n",
       "  <thead>\n",
       "    <tr style=\"text-align: right;\">\n",
       "      <th></th>\n",
       "      <th>Hour</th>\n",
       "      <th>Count</th>\n",
       "    </tr>\n",
       "  </thead>\n",
       "  <tbody>\n",
       "    <tr>\n",
       "      <th>Hour</th>\n",
       "      <td>1.000000</td>\n",
       "      <td>0.606141</td>\n",
       "    </tr>\n",
       "    <tr>\n",
       "      <th>Count</th>\n",
       "      <td>0.606141</td>\n",
       "      <td>1.000000</td>\n",
       "    </tr>\n",
       "  </tbody>\n",
       "</table>\n",
       "</div>"
      ],
      "text/plain": [
       "           Hour     Count\n",
       "Hour   1.000000  0.606141\n",
       "Count  0.606141  1.000000"
      ]
     },
     "execution_count": 225,
     "metadata": {},
     "output_type": "execute_result"
    }
   ],
   "source": [
    "df_pyspark_hour = pd.DataFrame(df_pyspark_time['Count'].dt.hour.value_counts())\n",
    "df_pyspark_hour.reset_index(inplace=True)\n",
    "df_pyspark_hour = df_pyspark_hour.rename(index=int, columns={'index' : 'Hour'}).sort_values('Hour',ascending=True)\n",
    "df_pyspark_hour.corr(method='pearson') # Computing linear correlation"
   ]
  },
  {
   "cell_type": "code",
   "execution_count": 226,
   "metadata": {},
   "outputs": [
    {
     "data": {
      "image/png": "[encoded data removed]",
      "text/plain": [
       "<Figure size 432x432 with 1 Axes>"
      ]
     },
     "metadata": {},
     "output_type": "display_data"
    }
   ],
   "source": [
    "y, x = df_pyspark_hour.Count, df_pyspark_hour.Hour\n",
    "\n",
    "fig, ax = plt.subplots(figsize=(6, 6))\n",
    "\n",
    "ax.scatter(x-1, y)\n",
    "\n",
    "ax.set_xlabel('Hour')\n",
    "ax.set_ylabel('Number of questions about pyspark')\n",
    "ax.set_title('Number of questions with the pyspark tag per hour of the day')\n",
    "ax.set_xticks(index)\n",
    "plt.xticks(rotation=90)\n",
    "ax.set_xticklabels(x)\n",
    "ax.set_xlim(-1, len(x))\n",
    "fig.tight_layout()\n",
    "plt.show()"
   ]
  },
  {
   "cell_type": "markdown",
   "metadata": {},
   "source": [
    "#### Correlation to months of the year"
   ]
  },
  {
   "cell_type": "code",
   "execution_count": 228,
   "metadata": {},
   "outputs": [
    {
     "data": {
      "text/html": [
       "<div>\n",
       "<style scoped>\n",
       "    .dataframe tbody tr th:only-of-type {\n",
       "        vertical-align: middle;\n",
       "    }\n",
       "\n",
       "    .dataframe tbody tr th {\n",
       "        vertical-align: top;\n",
       "    }\n",
       "\n",
       "    .dataframe thead th {\n",
       "        text-align: right;\n",
       "    }\n",
       "</style>\n",
       "<table border=\"1\" class=\"dataframe\">\n",
       "  <thead>\n",
       "    <tr style=\"text-align: right;\">\n",
       "      <th></th>\n",
       "      <th>Month</th>\n",
       "      <th>Count</th>\n",
       "    </tr>\n",
       "  </thead>\n",
       "  <tbody>\n",
       "    <tr>\n",
       "      <th>Month</th>\n",
       "      <td>1.0000</td>\n",
       "      <td>-0.2811</td>\n",
       "    </tr>\n",
       "    <tr>\n",
       "      <th>Count</th>\n",
       "      <td>-0.2811</td>\n",
       "      <td>1.0000</td>\n",
       "    </tr>\n",
       "  </tbody>\n",
       "</table>\n",
       "</div>"
      ],
      "text/plain": [
       "        Month   Count\n",
       "Month  1.0000 -0.2811\n",
       "Count -0.2811  1.0000"
      ]
     },
     "execution_count": 228,
     "metadata": {},
     "output_type": "execute_result"
    }
   ],
   "source": [
    "df_pyspark_month = pd.DataFrame(df_pyspark_time['Count'].dt.month.value_counts())\n",
    "df_pyspark_month.reset_index(inplace=True)\n",
    "df_pyspark_month = df_pyspark_month.rename(index=int, columns={'index' : 'Month'}).sort_values('Month',ascending=True)\n",
    "df_pyspark_month.corr(method='pearson') # Computing linear correlation"
   ]
  },
  {
   "cell_type": "code",
   "execution_count": 229,
   "metadata": {},
   "outputs": [
    {
     "data": {
      "image/png": "[encoded data removed]",
      "text/plain": [
       "<Figure size 432x432 with 1 Axes>"
      ]
     },
     "metadata": {},
     "output_type": "display_data"
    }
   ],
   "source": [
    "y, x = df_pyspark_month.Count, df_pyspark_month.Month\n",
    "\n",
    "fig, ax = plt.subplots(figsize=(6, 6))\n",
    "\n",
    "ax.scatter(x-1, y)\n",
    "\n",
    "ax.set_xlabel('Month')\n",
    "ax.set_ylabel('Number of questions about pyspark')\n",
    "ax.set_title('Number of questions with the pyspark tag per month of the year')\n",
    "ax.set_xticks(index)\n",
    "plt.xticks(rotation=90)\n",
    "ax.set_xticklabels(x)\n",
    "ax.set_xlim(-1, len(x))\n",
    "fig.tight_layout()\n",
    "plt.show()"
   ]
  },
  {
   "cell_type": "markdown",
   "metadata": {},
   "source": [
    "#### Correlation to days of the week"
   ]
  },
  {
   "cell_type": "code",
   "execution_count": 233,
   "metadata": {},
   "outputs": [
    {
     "data": {
      "text/html": [
       "<div>\n",
       "<style scoped>\n",
       "    .dataframe tbody tr th:only-of-type {\n",
       "        vertical-align: middle;\n",
       "    }\n",
       "\n",
       "    .dataframe tbody tr th {\n",
       "        vertical-align: top;\n",
       "    }\n",
       "\n",
       "    .dataframe thead th {\n",
       "        text-align: right;\n",
       "    }\n",
       "</style>\n",
       "<table border=\"1\" class=\"dataframe\">\n",
       "  <thead>\n",
       "    <tr style=\"text-align: right;\">\n",
       "      <th></th>\n",
       "      <th>DayOfWeek</th>\n",
       "      <th>Count</th>\n",
       "    </tr>\n",
       "  </thead>\n",
       "  <tbody>\n",
       "    <tr>\n",
       "      <th>DayOfWeek</th>\n",
       "      <td>1.000000</td>\n",
       "      <td>-0.774521</td>\n",
       "    </tr>\n",
       "    <tr>\n",
       "      <th>Count</th>\n",
       "      <td>-0.774521</td>\n",
       "      <td>1.000000</td>\n",
       "    </tr>\n",
       "  </tbody>\n",
       "</table>\n",
       "</div>"
      ],
      "text/plain": [
       "           DayOfWeek     Count\n",
       "DayOfWeek   1.000000 -0.774521\n",
       "Count      -0.774521  1.000000"
      ]
     },
     "execution_count": 233,
     "metadata": {},
     "output_type": "execute_result"
    }
   ],
   "source": [
    "df_pyspark_dayofweek = pd.DataFrame(df_pyspark_time['Count'].dt.dayofweek.value_counts())\n",
    "df_pyspark_dayofweek.reset_index(inplace=True)\n",
    "df_pyspark_dayofweek = df_pyspark_dayofweek.rename(index=int, columns={'index' : 'DayOfWeek'}).sort_values('DayOfWeek',ascending=True)\n",
    "df_pyspark_dayofweek.corr(method='pearson') # Computing linear correlation"
   ]
  },
  {
   "cell_type": "code",
   "execution_count": 240,
   "metadata": {},
   "outputs": [
    {
     "data": {
      "image/png": "[encoded data removed]",
      "text/plain": [
       "<Figure size 432x432 with 1 Axes>"
      ]
     },
     "metadata": {},
     "output_type": "display_data"
    }
   ],
   "source": [
    "y, x = df_pyspark_dayofweek.Count, df_pyspark_dayofweek.DayOfWeek\n",
    "\n",
    "fig, ax = plt.subplots(figsize=(6, 6))\n",
    "\n",
    "ax.scatter(x, y)\n",
    "\n",
    "ax.set_xlabel('Days of the week')\n",
    "ax.set_ylabel('Number of questions about pyspark')\n",
    "ax.set_title('Number of questions with the pyspark tag per day of the week')\n",
    "ax.set_xticks(index)\n",
    "plt.xticks(rotation=90)\n",
    "ax.set_xticklabels(['Mon','Tue','Wed','Thu','Fri','Sat','Sun'])\n",
    "ax.set_xlim(-1, len(x))\n",
    "fig.tight_layout()\n",
    "plt.show()"
   ]
  },
  {
   "cell_type": "markdown",
   "metadata": {},
   "source": [
    "#### Correlation per day of the year"
   ]
  },
  {
   "cell_type": "code",
   "execution_count": 246,
   "metadata": {},
   "outputs": [
    {
     "data": {
      "text/html": [
       "<div>\n",
       "<style scoped>\n",
       "    .dataframe tbody tr th:only-of-type {\n",
       "        vertical-align: middle;\n",
       "    }\n",
       "\n",
       "    .dataframe tbody tr th {\n",
       "        vertical-align: top;\n",
       "    }\n",
       "\n",
       "    .dataframe thead th {\n",
       "        text-align: right;\n",
       "    }\n",
       "</style>\n",
       "<table border=\"1\" class=\"dataframe\">\n",
       "  <thead>\n",
       "    <tr style=\"text-align: right;\">\n",
       "      <th></th>\n",
       "      <th>DayOfYear</th>\n",
       "      <th>Count</th>\n",
       "    </tr>\n",
       "  </thead>\n",
       "  <tbody>\n",
       "    <tr>\n",
       "      <th>DayOfYear</th>\n",
       "      <td>1.000000</td>\n",
       "      <td>-0.182816</td>\n",
       "    </tr>\n",
       "    <tr>\n",
       "      <th>Count</th>\n",
       "      <td>-0.182816</td>\n",
       "      <td>1.000000</td>\n",
       "    </tr>\n",
       "  </tbody>\n",
       "</table>\n",
       "</div>"
      ],
      "text/plain": [
       "           DayOfYear     Count\n",
       "DayOfYear   1.000000 -0.182816\n",
       "Count      -0.182816  1.000000"
      ]
     },
     "execution_count": 246,
     "metadata": {},
     "output_type": "execute_result"
    }
   ],
   "source": [
    "df_pyspark_dayofyear = pd.DataFrame(df_pyspark_time['Count'].dt.dayofyear.value_counts())\n",
    "df_pyspark_dayofyear.reset_index(inplace=True)\n",
    "df_pyspark_dayofyear = df_pyspark_dayofyear.rename(index=int, columns={'index' : 'DayOfYear'}).sort_values('DayOfYear',ascending=True)\n",
    "df_pyspark_dayofyear.corr(method='pearson') # Computing linear correlation"
   ]
  },
  {
   "cell_type": "code",
   "execution_count": 249,
   "metadata": {},
   "outputs": [
    {
     "data": {
      "image/png": "[encoded data removed]",
      "text/plain": [
       "<Figure size 432x432 with 1 Axes>"
      ]
     },
     "metadata": {},
     "output_type": "display_data"
    }
   ],
   "source": [
    "y, x = df_pyspark_dayofyear.Count, df_pyspark_dayofyear.DayOfYear\n",
    "\n",
    "fig, ax = plt.subplots(figsize=(6, 6))\n",
    "\n",
    "ax.scatter(x-1, y)\n",
    "\n",
    "ax.set_xlabel('Day of the year')\n",
    "ax.set_ylabel('Number of questions about pyspark')\n",
    "ax.set_title('Number of questions with the pyspark tag per day of the year')\n",
    "plt.xticks(rotation=90)\n",
    "ax.set_xlim(-1, len(x))\n",
    "fig.tight_layout()\n",
    "plt.show()"
   ]
  },
  {
   "cell_type": "markdown",
   "metadata": {},
   "source": [
    "#### Overall correlation at the daily scale"
   ]
  },
  {
   "cell_type": "code",
   "execution_count": 271,
   "metadata": {},
   "outputs": [
    {
     "name": "stdout",
     "output_type": "stream",
     "text": [
      "+-------------------------------+--------------------------------------+\n",
      "|date_format(CreationDate, Y-MM)|count(date_format(CreationDate, Y-MM))|\n",
      "+-------------------------------+--------------------------------------+\n",
      "|                        2017-09|                                   360|\n",
      "|                        2017-10|                                   355|\n",
      "|                        2016-02|                                   173|\n",
      "+-------------------------------+--------------------------------------+\n",
      "only showing top 3 rows\n",
      "\n"
     ]
    }
   ],
   "source": [
    "query_pyspark_group_by = \"\"\"\n",
    "SELECT DATE_FORMAT(CreationDate, \"Y-MM\"), COUNT(DATE_FORMAT(CreationDate, \"Y-MM\"))\n",
    "FROM pyspark_question\n",
    "GROUP BY DATE_FORMAT(CreationDate, \"Y-MM\")\n",
    "\"\"\"\n",
    "pyspark_group_by_data = spark.sql(query_pyspark_group_by)\n",
    "pyspark_group_by_data.registerTempTable('pyspark_group_by')\n",
    "pyspark_group_by_data.show(3)"
   ]
  },
  {
   "cell_type": "code",
   "execution_count": 272,
   "metadata": {},
   "outputs": [
    {
     "data": {
      "text/html": [
       "<div>\n",
       "<style scoped>\n",
       "    .dataframe tbody tr th:only-of-type {\n",
       "        vertical-align: middle;\n",
       "    }\n",
       "\n",
       "    .dataframe tbody tr th {\n",
       "        vertical-align: top;\n",
       "    }\n",
       "\n",
       "    .dataframe thead th {\n",
       "        text-align: right;\n",
       "    }\n",
       "</style>\n",
       "<table border=\"1\" class=\"dataframe\">\n",
       "  <thead>\n",
       "    <tr style=\"text-align: right;\">\n",
       "      <th></th>\n",
       "      <th>Date</th>\n",
       "      <th>Count</th>\n",
       "    </tr>\n",
       "  </thead>\n",
       "  <tbody>\n",
       "    <tr>\n",
       "      <th>38</th>\n",
       "      <td>2014-04</td>\n",
       "      <td>1</td>\n",
       "    </tr>\n",
       "    <tr>\n",
       "      <th>24</th>\n",
       "      <td>2014-08</td>\n",
       "      <td>1</td>\n",
       "    </tr>\n",
       "    <tr>\n",
       "      <th>39</th>\n",
       "      <td>2014-10</td>\n",
       "      <td>3</td>\n",
       "    </tr>\n",
       "    <tr>\n",
       "      <th>32</th>\n",
       "      <td>2014-11</td>\n",
       "      <td>5</td>\n",
       "    </tr>\n",
       "    <tr>\n",
       "      <th>41</th>\n",
       "      <td>2014-12</td>\n",
       "      <td>1</td>\n",
       "    </tr>\n",
       "    <tr>\n",
       "      <th>29</th>\n",
       "      <td>2015-01</td>\n",
       "      <td>11</td>\n",
       "    </tr>\n",
       "    <tr>\n",
       "      <th>20</th>\n",
       "      <td>2015-02</td>\n",
       "      <td>18</td>\n",
       "    </tr>\n",
       "    <tr>\n",
       "      <th>50</th>\n",
       "      <td>2015-03</td>\n",
       "      <td>27</td>\n",
       "    </tr>\n",
       "  </tbody>\n",
       "</table>\n",
       "</div>"
      ],
      "text/plain": [
       "       Date  Count\n",
       "38  2014-04      1\n",
       "24  2014-08      1\n",
       "39  2014-10      3\n",
       "32  2014-11      5\n",
       "41  2014-12      1\n",
       "29  2015-01     11\n",
       "20  2015-02     18\n",
       "50  2015-03     27"
      ]
     },
     "execution_count": 272,
     "metadata": {},
     "output_type": "execute_result"
    }
   ],
   "source": [
    "dict_ = {'date_format(CreationDate, Y-MM)' : 'Date','count(date_format(CreationDate, Y-MM))':'Count'}\n",
    "df_pyspark = pyspark_group_by_data.toPandas().rename(index=str, columns=dict_).sort_values('Date',ascending=True)\n",
    "df_pyspark.head(8)"
   ]
  },
  {
   "cell_type": "code",
   "execution_count": null,
   "metadata": {},
   "outputs": [],
   "source": [
    "d = {'Date': ['2014-05', '2014-06', '2014-07', '2014-09'], 'Count': [0, 0, 0, 0]}\n",
    "df = pd.DataFrame(data=d)\n",
    "df_pyspark = pd.concat([df_pyspark,df]).sort_values('Date',ascending=True).iloc[:-1]\n",
    "# Last value (2018-12) is probably an aberrant one, so we remove it.\n",
    "df_pyspark.head(8)"
   ]
  },
  {
   "cell_type": "code",
   "execution_count": null,
   "metadata": {},
   "outputs": [],
   "source": []
  },
  {
   "cell_type": "code",
   "execution_count": 270,
   "metadata": {},
   "outputs": [
    {
     "data": {
      "image/png": "[encoded data removed]",
      "text/plain": [
       "<Figure size 864x432 with 1 Axes>"
      ]
     },
     "metadata": {},
     "output_type": "display_data"
    }
   ],
   "source": [
    "df_pyspark_corr = df_pyspark.iloc[7:-1]\n",
    "\n",
    "y, x = df_pyspark_corr.Count, df_pyspark_corr.Date\n",
    "\n",
    "fig, ax = plt.subplots(figsize=(12, 6))\n",
    "\n",
    "ax.scatter(x, y)\n",
    "\n",
    "ax.set_xlabel('Month')\n",
    "ax.set_ylabel('Number of questions')\n",
    "ax.set_title('Number of questions with the pyspark tag per month from 10/2014 to 08/2018')\n",
    "plt.xticks(rotation=90)\n",
    "ax.set_xlim(-1, len(x))\n",
    "fig.tight_layout()\n",
    "plt.show()"
   ]
  },
  {
   "cell_type": "code",
   "execution_count": null,
   "metadata": {},
   "outputs": [],
   "source": []
  }
 ],
 "metadata": {
  "kernelspec": {
   "display_name": "Python 3",
   "language": "python",
   "name": "python3"
  },
  "language_info": {
   "codemirror_mode": {
    "name": "ipython",
    "version": 3
   },
   "file_extension": ".py",
   "mimetype": "text/x-python",
   "name": "python",
   "nbconvert_exporter": "python",
   "pygments_lexer": "ipython3",
   "version": "3.6.5"
  }
 },
 "nbformat": 4,
 "nbformat_minor": 2
}
