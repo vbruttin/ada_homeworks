{
 "cells": [
  {
   "cell_type": "markdown",
   "metadata": {},
   "source": [
    "# ADA 2018 - Homework 3\n",
    "\n",
    "\n",
    "\n",
    "## Undestanding the StackOverflow community\n",
    "\n",
    "\n",
    "Deadline: Nov 7th 2018, 23:59:59\n",
    "\n",
    "Submission link: Check channel homework-3-public"
   ]
  },
  {
   "cell_type": "markdown",
   "metadata": {},
   "source": [
    "StackOverflow is the most popular programming-related Q&A website. It serves as a platform for users to ask and answer questions and to vote questions and answers up or down. Users of StackOverflow can earn reputation points and \"badges\"; for example, a person is awarded 10 reputation points for receiving an \"up\" vote on an answer given to a question, and 5 points for the \"up\" vote on a question asked. Also, users receive badges for their valued contributions, which represents a kind of gamification of the traditional Q&A site. \n",
    "\n",
    "[Learn more about StackOverflow on Wikipedia](https://en.wikipedia.org/wiki/Stack_Overflow)\n",
    "\n",
    "----\n",
    "\n",
    "Dataset link:\n",
    "\n",
    "https://drive.google.com/open?id=1POlGjqzw9v_pZ_bUnXGihOgk45kbvNjB\n",
    "\n",
    "http://iccluster053.iccluster.epfl.ch/Posts.json.zip (mirror 1)\n",
    "\n",
    "https://iloveadatas.com/datasets/Posts.json.zip (mirror 2)\n",
    "\n",
    "Dataset description:\n",
    "\n",
    "* **Id**: Id of the post\n",
    "* **CreationDate**: Creation date of the post (String format)\n",
    "* **PostTypeId**: Type of post (Question = 1, Answer = 2)\n",
    "* **ParentId**: The id of the question. Only present if PostTypeId = 2\n",
    "* **Score**: Points assigned by the users\n",
    "* **Tags**: Tags of the question. Only present if PostTypeId = 1\n",
    "* **Title**: Only present if PostTypeId = 1\n",
    "* **ViewCount**: Only present if PostTypeId = 1\n",
    "\n",
    "The dataset format is JSON. Here are examples of a question and an answer:\n",
    "\n",
    "Question:\n",
    "```json\n",
    "{\n",
    "    \"Id\": 10130734,\n",
    "    \"CreationDate\": \"2012-04-12T19:51:25.793+02:00\",\n",
    "    \"PostTypeId\": 1,\n",
    "    \"Score\": 4,\n",
    "    \"Tags\": \"<python><pandas>\",\n",
    "    \"Title\": \"Best way to insert a new value\",\n",
    "    \"ViewCount\": 3803\n",
    "}\n",
    "```\n",
    "\n",
    "Answer:\n",
    "```json\n",
    "{  \n",
    "   \"CreationDate\":\"2010-10-26T03:19:05.063+02:00\",\n",
    "   \"Id\":4020440,\n",
    "   \"ParentId\":4020214,\n",
    "   \"PostTypeId\":2,\n",
    "   \"Score\":1\n",
    "}\n",
    "```\n",
    "\n",
    "----\n",
    "Useful resources:\n",
    "\n",
    "**Spark SQL, DataFrames and Datasets Guide**\n",
    "\n",
    "https://spark.apache.org/docs/latest/sql-programming-guide.html\n",
    "\n",
    "**Database schema documentation for the public data dump**\n",
    "\n",
    "https://meta.stackexchange.com/questions/2677/database-schema-documentation-for-the-public-data-dump-and-sede\n",
    "\n",
    "----\n",
    "\n",
    "**Note:** Use Spark where possible. Some computations can take more than 10 minutes on a common notebook. Consider to save partial results on disk."
   ]
  },
  {
   "cell_type": "code",
   "execution_count": 1,
   "metadata": {},
   "outputs": [],
   "source": [
    "# Add your imports here\n",
    "\n",
    "import re\n",
    "\n",
    "import pandas as pd\n",
    "import numpy as np\n",
    "import scipy as sp\n",
    "\n",
    "import platform\n",
    "\n",
    "#In our team, Windows user need findspark. For Mac findspark can cause problem\n",
    "if platform.system() == 'Windows':\n",
    "    import findspark\n",
    "    findspark.init()\n",
    "\n",
    "from pyspark.sql import *\n",
    "from pyspark.sql.functions import *\n",
    "from pyspark.sql import SparkSession\n",
    "from pyspark import SparkContext, SparkFiles\n",
    "\n",
    "import matplotlib\n",
    "import matplotlib.pyplot as plt\n",
    "%matplotlib inline\n",
    "\n",
    "spark = SparkSession.builder.getOrCreate()\n",
    "sc = spark.sparkContext\n",
    "\n",
    "DATA_FOLDER = 'data/'"
   ]
  },
  {
   "cell_type": "markdown",
   "metadata": {},
   "source": [
    "### Task A: Convert the dataset to a more convenient format\n",
    "As a warm-up task (and to avoid to warm up your laptop too much), load the dataset into a Spark dataframe, show the content, and save it in the _Parquet_ format. Use this step to convert the fields to a more convenient form.\n",
    "\n",
    "Answer the following questions:\n",
    "\n",
    "1. How many questions have been asked on StackOverflow?\n",
    "2. How many answers have been given?\n",
    "3. What is the percentage of questions with a score of 0?\n",
    "\n",
    "**Hint:** The next tasks involve a time difference. Consider storing time in numeric format."
   ]
  },
  {
   "cell_type": "code",
   "execution_count": 45,
   "metadata": {},
   "outputs": [],
   "source": [
    "#Run only once\n",
    "data_stack = spark.read.json(DATA_FOLDER + 'Posts.json')\n",
    "data_stack.write.parquet(\"data_stack.parquet\")"
   ]
  },
  {
   "cell_type": "code",
   "execution_count": 2,
   "metadata": {},
   "outputs": [],
   "source": [
    "data_stack = spark.read.parquet(\"data_stack.parquet\")\n",
    "\n",
    "# Convert CreationDate into timestamp\n",
    "data_stack = data_stack.withColumn(\"CreationDate\", to_timestamp(data_stack['CreationDate'], \"yyyy-MM-dd'T'kk:mm:ss.SSSXXX\"))\n",
    "\n",
    "data_stack_rdd = data_stack.rdd"
   ]
  },
  {
   "cell_type": "code",
   "execution_count": 58,
   "metadata": {},
   "outputs": [
    {
     "name": "stdout",
     "output_type": "stream",
     "text": [
      "root\n",
      " |-- CreationDate: timestamp (nullable = true)\n",
      " |-- Id: long (nullable = true)\n",
      " |-- ParentId: long (nullable = true)\n",
      " |-- PostTypeId: long (nullable = true)\n",
      " |-- Score: long (nullable = true)\n",
      " |-- Tags: string (nullable = true)\n",
      " |-- Title: string (nullable = true)\n",
      " |-- ViewCount: long (nullable = true)\n",
      "\n"
     ]
    }
   ],
   "source": [
    "# Determine the structure of the data\n",
    "data_stack.printSchema()"
   ]
  },
  {
   "cell_type": "code",
   "execution_count": 129,
   "metadata": {},
   "outputs": [
    {
     "name": "stdout",
     "output_type": "stream",
     "text": [
      "+-------------------+--------+--------+----------+-----+--------------------+--------------------+---------+\n",
      "|       CreationDate|      Id|ParentId|PostTypeId|Score|                Tags|               Title|ViewCount|\n",
      "+-------------------+--------+--------+----------+-----+--------------------+--------------------+---------+\n",
      "|2017-08-17 16:20:17|45740344|45740224|         2|    0|                null|                null|     null|\n",
      "|2017-08-17 16:20:25|45740346|45739185|         2|    1|                null|                null|     null|\n",
      "|2017-08-17 16:20:28|45740348|    null|         1|    2|<flash><react-nat...|Is it possible to...|      143|\n",
      "|2017-08-17 16:20:36|45740350|45739102|         2|    1|                null|                null|     null|\n",
      "|2017-08-17 16:20:46|45740352|42473616|         2|    0|                null|                null|     null|\n",
      "+-------------------+--------+--------+----------+-----+--------------------+--------------------+---------+\n",
      "only showing top 5 rows\n",
      "\n"
     ]
    }
   ],
   "source": [
    "data_stack.show(5)"
   ]
  },
  {
   "cell_type": "code",
   "execution_count": 5,
   "metadata": {},
   "outputs": [
    {
     "name": "stdout",
     "output_type": "stream",
     "text": [
      "The number of question in StackOverflow : 15647060\n"
     ]
    }
   ],
   "source": [
    "number__of_question = data_stack_rdd.filter(lambda x : x.PostTypeId == 1).count()\n",
    "print(\"The number of question in StackOverflow : {}\".format(number__of_question))"
   ]
  },
  {
   "cell_type": "code",
   "execution_count": 24,
   "metadata": {},
   "outputs": [
    {
     "name": "stdout",
     "output_type": "stream",
     "text": [
      "The number of answer in StackOverflow : 25192772\n"
     ]
    }
   ],
   "source": [
    "number__of_answer = data_stack_rdd.filter(lambda x : x.PostTypeId == 2).count()\n",
    "print(\"The number of answer in StackOverflow : {}\".format(number__of_answer))"
   ]
  },
  {
   "cell_type": "code",
   "execution_count": 6,
   "metadata": {},
   "outputs": [
    {
     "name": "stdout",
     "output_type": "stream",
     "text": [
      "The proportion of question with a null score in StackOverflow : 46.543 %\n"
     ]
    }
   ],
   "source": [
    "number_of_question_score_0 = data_stack_rdd.filter(lambda x : (x.PostTypeId == 1) and (x.Score == 0)).count()\n",
    "print(\"The proportion of question with a null score in StackOverflow : {} %\"\\\n",
    "      .format(str(number_of_question_score_0 * 100/number__of_question)[:6]))"
   ]
  },
  {
   "cell_type": "markdown",
   "metadata": {},
   "source": [
    "### Task A :\n",
    "\n",
    "First of all, we do the parquet distribution of the entire data and change the type of CreationDate column from string to timestamp to simplify the following step in the homework. \n",
    "\n",
    "As we can see, each question in StackOverflow has 1,61 answers in average. But the half of the questions has a null score. It doesn't mean that the question receive any answer but it may show that these questions are not interesting or more trivial for users.  "
   ]
  },
  {
   "cell_type": "markdown",
   "metadata": {},
   "source": [
    "**Hint:** Load the dataset from the Parquet file for the next tasks."
   ]
  },
  {
   "cell_type": "markdown",
   "metadata": {},
   "source": [
    "### Task B: What are the 10 most popular tags?\n",
    "\n",
    "What are the most popular tags in StackOverflow? Use Spark to extract the information you need, and answer the following questions with Pandas and Matplotlib (or Seaborn):\n",
    "\n",
    "1. What is the proportion of tags that appear in fewer than 100 questions?\n",
    "2. Plot the distribution of the tag counts using an appropriate representation.\n",
    "3. Plot a bar chart with the number of questions for the 10 most popular tags.\n",
    "\n",
    "For each task describe your findings briefly."
   ]
  },
  {
   "cell_type": "code",
   "execution_count": 78,
   "metadata": {},
   "outputs": [],
   "source": [
    "rdd_tags = data_stack_rdd.filter(lambda r: r.Tags != None).flatMap(lambda r: [(x,) for x in (r.Tags[1:-1].split('><'))])"
   ]
  },
  {
   "cell_type": "code",
   "execution_count": 81,
   "metadata": {},
   "outputs": [
    {
     "data": {
      "text/html": [
       "<div>\n",
       "<style scoped>\n",
       "    .dataframe tbody tr th:only-of-type {\n",
       "        vertical-align: middle;\n",
       "    }\n",
       "\n",
       "    .dataframe tbody tr th {\n",
       "        vertical-align: top;\n",
       "    }\n",
       "\n",
       "    .dataframe thead th {\n",
       "        text-align: right;\n",
       "    }\n",
       "</style>\n",
       "<table border=\"1\" class=\"dataframe\">\n",
       "  <thead>\n",
       "    <tr style=\"text-align: right;\">\n",
       "      <th></th>\n",
       "      <th>count</th>\n",
       "    </tr>\n",
       "  </thead>\n",
       "  <tbody>\n",
       "    <tr>\n",
       "      <th>javascript</th>\n",
       "      <td>1585495</td>\n",
       "    </tr>\n",
       "    <tr>\n",
       "      <th>java</th>\n",
       "      <td>1352735</td>\n",
       "    </tr>\n",
       "    <tr>\n",
       "      <th>c#</th>\n",
       "      <td>1172492</td>\n",
       "    </tr>\n",
       "    <tr>\n",
       "      <th>php</th>\n",
       "      <td>1136082</td>\n",
       "    </tr>\n",
       "    <tr>\n",
       "      <th>android</th>\n",
       "      <td>1088811</td>\n",
       "    </tr>\n",
       "  </tbody>\n",
       "</table>\n",
       "</div>"
      ],
      "text/plain": [
       "              count\n",
       "javascript  1585495\n",
       "java        1352735\n",
       "c#          1172492\n",
       "php         1136082\n",
       "android     1088811"
      ]
     },
     "execution_count": 81,
     "metadata": {},
     "output_type": "execute_result"
    }
   ],
   "source": [
    "df_tags = pd.DataFrame.from_dict(rdd_tags.countByKey(), orient='index')\\\n",
    "            .rename(index=str, columns={0: \"count\"}).sort_values('count',ascending=False)\n",
    "df_tags.head(5)"
   ]
  },
  {
   "cell_type": "code",
   "execution_count": 82,
   "metadata": {},
   "outputs": [
    {
     "name": "stdout",
     "output_type": "stream",
     "text": [
      "Proportion of tags appearing in fewer than 100 questions : 67.97%\n"
     ]
    }
   ],
   "source": [
    "total_tags = len(df_tags)\n",
    "df_tags_less_100 = df_tags[df_tags['count'] < 100]\n",
    "total_tags_less_100 = len(df_tags_less_100)\n",
    "print('Proportion of tags appearing in fewer than 100 questions : {}%'.\n",
    "      format(str(total_tags_less_100*100/total_tags)[:5]))"
   ]
  },
  {
   "cell_type": "code",
   "execution_count": 83,
   "metadata": {},
   "outputs": [
    {
     "data": {
      "image/png": "[encoded data removed]",
      "text/plain": [
       "<Figure size 432x288 with 1 Axes>"
      ]
     },
     "metadata": {
      "needs_background": "light"
     },
     "output_type": "display_data"
    }
   ],
   "source": [
    "plt.hist(df_tags.values, len(df_tags), log = True, color = 'r');\n",
    "plt.xscale('log')\n",
    "\n",
    "plt.title('Distribution of the tag counts');\n",
    "plt.xlabel('Tags [log scale]');\n",
    "plt.ylabel('Number of occurences [log scale]');"
   ]
  },
  {
   "cell_type": "code",
   "execution_count": 84,
   "metadata": {},
   "outputs": [
    {
     "data": {
      "image/png": "[encoded data removed]",
      "text/plain": [
       "<Figure size 576x432 with 1 Axes>"
      ]
     },
     "metadata": {
      "needs_background": "light"
     },
     "output_type": "display_data"
    }
   ],
   "source": [
    "y = df_tags['count'].values[:10]\n",
    "x = df_tags.index.values[:10]\n",
    "\n",
    "fig, ax = plt.subplots(figsize=(8, 6))\n",
    "index = range(len(y))\n",
    "bar_width = 0.7\n",
    "\n",
    "ax.bar(index, y, bar_width, color='r')\n",
    "\n",
    "ax.set_xlabel('Tag')\n",
    "ax.set_ylabel('Number of questions')\n",
    "ax.set_title('Number of questions for the 10 most popular tags')\n",
    "ax.set_xticks(index)\n",
    "plt.xticks(rotation=90)\n",
    "ax.set_xticklabels(x)\n",
    "ax.set_xlim(-1, len(x))\n",
    "fig.tight_layout()\n",
    "plt.show()"
   ]
  },
  {
   "cell_type": "markdown",
   "metadata": {},
   "source": [
    "### Task C: View-score relation\n",
    "\n",
    "We want to investigate the correlation between the view count and the score of questions.\n",
    "\n",
    "1. Get the view count and score of the questions with tag ```random-effects``` and visualize the relation between these two variables using an appropriate plot.\n",
    "2. Are these two variables correlated? Use the Pearson coefficient to validate your hypothesis. Discuss your findings in detail.\n",
    "\n",
    "**Hint:** Inspect the data visually before drawing your conclusions."
   ]
  },
  {
   "cell_type": "code",
   "execution_count": null,
   "metadata": {},
   "outputs": [],
   "source": [
    "# Add your code and description here"
   ]
  },
  {
   "cell_type": "markdown",
   "metadata": {},
   "source": [
    "### Task D: What are the tags with the fastest first answer?\n",
    "\n",
    "What are the tags that have the fastest response time from the community? We define the response time as the difference in seconds between the timestamps of the question and of the first answer received.\n",
    "\n",
    "1. Get the response time for the first answer of the questions with the tags ```python``` and ```java```.\n",
    "2. Plot the two distributions in an appropriate format. What do you observe? Describe your findings and discuss the following distribution properties: mean, median, standard deviation.\n",
    "3. We believe that the response time is lower for questions related to Python (compare to Java). Contradict or confirm this assumption by estimating the proper statistic with bootstrapping. Visualize the 95% confidence intervals with box plots and describe your findings.\n",
    "3. Repeat the first analysis (D1) by using the proper statistic to measure the response time for the tags that appear at least 5000 times. Plot the distribution of the 10 tags with the fastest response time.\n"
   ]
  },
  {
   "cell_type": "code",
   "execution_count": 4,
   "metadata": {},
   "outputs": [],
   "source": [
    "data_stack.registerTempTable('data_stack')"
   ]
  },
  {
   "cell_type": "code",
   "execution_count": 26,
   "metadata": {},
   "outputs": [
    {
     "name": "stdout",
     "output_type": "stream",
     "text": [
      "+-------------------+--------+--------+----------+-----+--------------------+--------------------+---------+\n",
      "|       CreationDate|      Id|ParentId|PostTypeId|Score|                Tags|               Title|ViewCount|\n",
      "+-------------------+--------+--------+----------+-----+--------------------+--------------------+---------+\n",
      "|2017-08-17 16:21:08|45740358|    null|         1|    0|<python><websocke...|Python websockets...|      280|\n",
      "|2017-08-17 16:25:34|45740445|    null|         1|    2|<python><python-2.7>|How to Import Lib...|      146|\n",
      "|2017-08-17 16:29:45|45740537|    null|         1|   13|<python><pandas><...|Copying MultiInde...|      443|\n",
      "+-------------------+--------+--------+----------+-----+--------------------+--------------------+---------+\n",
      "only showing top 3 rows\n",
      "\n"
     ]
    }
   ],
   "source": [
    "query_python_question = \"\"\"\n",
    "select * from data_stack\n",
    "where Tags like '%<python>%' and CreationDate is not null\n",
    "\"\"\"\n",
    "python_question_data = spark.sql(query_python_question)\n",
    "python_question_data.registerTempTable('python_question')\n",
    "python_question_data.show(3)"
   ]
  },
  {
   "cell_type": "code",
   "execution_count": 27,
   "metadata": {},
   "outputs": [
    {
     "name": "stdout",
     "output_type": "stream",
     "text": [
      "+-------------------+--------+--------+----------+-----+--------------------+--------------------+---------+\n",
      "|       CreationDate|      Id|ParentId|PostTypeId|Score|                Tags|               Title|ViewCount|\n",
      "+-------------------+--------+--------+----------+-----+--------------------+--------------------+---------+\n",
      "|2017-08-17 16:21:57|45740378|    null|         1|    1|<java><android><r...|I getting the fol...|       68|\n",
      "|2017-08-17 16:23:22|45740406|    null|         1|    0|<java><swing><jta...|two horizontal JT...|       91|\n",
      "|2017-08-17 16:26:20|45740464|    null|         1|    0|<java><android><a...|can we set custom...|       29|\n",
      "+-------------------+--------+--------+----------+-----+--------------------+--------------------+---------+\n",
      "only showing top 3 rows\n",
      "\n"
     ]
    }
   ],
   "source": [
    "query_java_question = \"\"\"\n",
    "select * from data_stack\n",
    "where Tags like '%<java>%' and CreationDate is not null\n",
    "\"\"\"\n",
    "java_question_data = spark.sql(query_java_question)\n",
    "java_question_data.registerTempTable('java_question')\n",
    "java_question_data.show(3)"
   ]
  },
  {
   "cell_type": "code",
   "execution_count": 28,
   "metadata": {},
   "outputs": [
    {
     "name": "stdout",
     "output_type": "stream",
     "text": [
      "+-------------------+--------+\n",
      "|       CreationDate|ParentId|\n",
      "+-------------------+--------+\n",
      "|2017-08-17 16:20:17|45740224|\n",
      "|2017-08-17 16:20:25|45739185|\n",
      "|2017-08-17 16:20:36|45739102|\n",
      "+-------------------+--------+\n",
      "only showing top 3 rows\n",
      "\n"
     ]
    }
   ],
   "source": [
    "answer = \"\"\"\n",
    "select CreationDate, ParentId from data_stack\n",
    "where PostTypeId = 2 and CreationDate is not null\n",
    "\"\"\"\n",
    "answer_data = spark.sql(answer)\n",
    "answer_data.registerTempTable('answer')\n",
    "answer_data.show(3)"
   ]
  },
  {
   "cell_type": "code",
   "execution_count": 29,
   "metadata": {},
   "outputs": [
    {
     "name": "stdout",
     "output_type": "stream",
     "text": [
      "+-------------------+--------+\n",
      "|       Fisrt_answer|ParentId|\n",
      "+-------------------+--------+\n",
      "|2017-08-17 16:40:59|45740555|\n",
      "|2017-08-17 17:28:52|45739892|\n",
      "|2017-08-17 18:14:07|45742243|\n",
      "+-------------------+--------+\n",
      "only showing top 3 rows\n",
      "\n"
     ]
    }
   ],
   "source": [
    "answer_min = \"\"\"\n",
    "select MIN(CreationDate) as Fisrt_answer, ParentId from answer\n",
    "group by ParentId\n",
    "\"\"\"\n",
    "answer_min_data = spark.sql(answer_min)\n",
    "answer_min_data.registerTempTable('answer_min')\n",
    "answer_min_data.show(3)"
   ]
  },
  {
   "cell_type": "code",
   "execution_count": 30,
   "metadata": {},
   "outputs": [
    {
     "name": "stdout",
     "output_type": "stream",
     "text": [
      "+-------------------+--------------------+-------------------+\n",
      "|       CreationDate|                Tags|       Fisrt_answer|\n",
      "+-------------------+--------------------+-------------------+\n",
      "|2008-09-02 09:40:26| <python><distutils>|2008-09-02 11:43:45|\n",
      "|2008-09-18 13:41:22|<python><api><soc...|2008-09-18 15:06:11|\n",
      "|2008-09-22 17:08:12|<python><ms-word>...|2008-09-22 17:16:43|\n",
      "+-------------------+--------------------+-------------------+\n",
      "only showing top 3 rows\n",
      "\n"
     ]
    }
   ],
   "source": [
    "pyhton_fisrt_answer = \"\"\"\n",
    "select CreationDate, Tags, Fisrt_answer\n",
    "from python_question\n",
    "inner join answer_min on python_question.Id = answer_min.ParentId\n",
    "\"\"\"\n",
    "pyhton_fisrt_answer_data = spark.sql(pyhton_fisrt_answer)\n",
    "pyhton_fisrt_answer_data.registerTempTable('pyhton_fisrt_answer')\n",
    "pyhton_fisrt_answer_data.show(3)"
   ]
  },
  {
   "cell_type": "code",
   "execution_count": 31,
   "metadata": {
    "collapsed": true
   },
   "outputs": [
    {
     "ename": "AnalysisException",
     "evalue": "\"cannot resolve '(answer_min.`Fisrt_answer` - python_question.`CreationDate`)' due to data type mismatch: '(answer_min.`Fisrt_answer` - python_question.`CreationDate`)' requires (numeric or calendarinterval) type, not timestamp;;\\n'Project [CreationDate#16, Tags#5, Fisrt_answer#485, (Fisrt_answer#485 - CreationDate#16) AS Time_diff#521]\\n+- Project [CreationDate#16, Tags#5, Fisrt_answer#485]\\n   +- Join Inner, (Id#1L = ParentId#501L)\\n      :- SubqueryAlias python_question\\n      :  +- Project [CreationDate#16, Id#1L, ParentId#2L, PostTypeId#3L, Score#4L, Tags#5, Title#6, ViewCount#7L]\\n      :     +- Filter (Tags#5 LIKE %<python>% && isnotnull(CreationDate#16))\\n      :        +- SubqueryAlias data_stack\\n      :           +- Project [to_timestamp(CreationDate#0, Some(yyyy-MM-dd'T'kk:mm:ss.SSSXXX)) AS CreationDate#16, Id#1L, ParentId#2L, PostTypeId#3L, Score#4L, Tags#5, Title#6, ViewCount#7L]\\n      :              +- Relation[CreationDate#0,Id#1L,ParentId#2L,PostTypeId#3L,Score#4L,Tags#5,Title#6,ViewCount#7L] parquet\\n      +- SubqueryAlias answer_min\\n         +- Aggregate [ParentId#501L], [min(CreationDate#16) AS Fisrt_answer#485, ParentId#501L]\\n            +- SubqueryAlias answer\\n               +- Project [CreationDate#16, ParentId#501L]\\n                  +- Filter ((PostTypeId#502L = cast(2 as bigint)) && isnotnull(CreationDate#16))\\n                     +- SubqueryAlias data_stack\\n                        +- Project [to_timestamp(CreationDate#0, Some(yyyy-MM-dd'T'kk:mm:ss.SSSXXX)) AS CreationDate#16, Id#500L, ParentId#501L, PostTypeId#502L, Score#503L, Tags#504, Title#505, ViewCount#506L]\\n                           +- Relation[CreationDate#499,Id#500L,ParentId#501L,PostTypeId#502L,Score#503L,Tags#504,Title#505,ViewCount#506L] parquet\\n\"",
     "output_type": "error",
     "traceback": [
      "\u001b[1;31m---------------------------------------------------------------------------\u001b[0m",
      "\u001b[1;31mPy4JJavaError\u001b[0m                             Traceback (most recent call last)",
      "\u001b[1;32m~\\SPARK\\spark-2.3.2-bin-hadoop2.7\\python\\pyspark\\sql\\utils.py\u001b[0m in \u001b[0;36mdeco\u001b[1;34m(*a, **kw)\u001b[0m\n\u001b[0;32m     62\u001b[0m         \u001b[1;32mtry\u001b[0m\u001b[1;33m:\u001b[0m\u001b[1;33m\u001b[0m\u001b[1;33m\u001b[0m\u001b[0m\n\u001b[1;32m---> 63\u001b[1;33m             \u001b[1;32mreturn\u001b[0m \u001b[0mf\u001b[0m\u001b[1;33m(\u001b[0m\u001b[1;33m*\u001b[0m\u001b[0ma\u001b[0m\u001b[1;33m,\u001b[0m \u001b[1;33m**\u001b[0m\u001b[0mkw\u001b[0m\u001b[1;33m)\u001b[0m\u001b[1;33m\u001b[0m\u001b[1;33m\u001b[0m\u001b[0m\n\u001b[0m\u001b[0;32m     64\u001b[0m         \u001b[1;32mexcept\u001b[0m \u001b[0mpy4j\u001b[0m\u001b[1;33m.\u001b[0m\u001b[0mprotocol\u001b[0m\u001b[1;33m.\u001b[0m\u001b[0mPy4JJavaError\u001b[0m \u001b[1;32mas\u001b[0m \u001b[0me\u001b[0m\u001b[1;33m:\u001b[0m\u001b[1;33m\u001b[0m\u001b[1;33m\u001b[0m\u001b[0m\n",
      "\u001b[1;32m~\\SPARK\\spark-2.3.2-bin-hadoop2.7\\python\\lib\\py4j-0.10.7-src.zip\\py4j\\protocol.py\u001b[0m in \u001b[0;36mget_return_value\u001b[1;34m(answer, gateway_client, target_id, name)\u001b[0m\n\u001b[0;32m    327\u001b[0m                     \u001b[1;34m\"An error occurred while calling {0}{1}{2}.\\n\"\u001b[0m\u001b[1;33m.\u001b[0m\u001b[1;33m\u001b[0m\u001b[1;33m\u001b[0m\u001b[0m\n\u001b[1;32m--> 328\u001b[1;33m                     format(target_id, \".\", name), value)\n\u001b[0m\u001b[0;32m    329\u001b[0m             \u001b[1;32melse\u001b[0m\u001b[1;33m:\u001b[0m\u001b[1;33m\u001b[0m\u001b[1;33m\u001b[0m\u001b[0m\n",
      "\u001b[1;31mPy4JJavaError\u001b[0m: An error occurred while calling o182.withColumn.\n: org.apache.spark.sql.AnalysisException: cannot resolve '(answer_min.`Fisrt_answer` - python_question.`CreationDate`)' due to data type mismatch: '(answer_min.`Fisrt_answer` - python_question.`CreationDate`)' requires (numeric or calendarinterval) type, not timestamp;;\n'Project [CreationDate#16, Tags#5, Fisrt_answer#485, (Fisrt_answer#485 - CreationDate#16) AS Time_diff#521]\n+- Project [CreationDate#16, Tags#5, Fisrt_answer#485]\n   +- Join Inner, (Id#1L = ParentId#501L)\n      :- SubqueryAlias python_question\n      :  +- Project [CreationDate#16, Id#1L, ParentId#2L, PostTypeId#3L, Score#4L, Tags#5, Title#6, ViewCount#7L]\n      :     +- Filter (Tags#5 LIKE %<python>% && isnotnull(CreationDate#16))\n      :        +- SubqueryAlias data_stack\n      :           +- Project [to_timestamp(CreationDate#0, Some(yyyy-MM-dd'T'kk:mm:ss.SSSXXX)) AS CreationDate#16, Id#1L, ParentId#2L, PostTypeId#3L, Score#4L, Tags#5, Title#6, ViewCount#7L]\n      :              +- Relation[CreationDate#0,Id#1L,ParentId#2L,PostTypeId#3L,Score#4L,Tags#5,Title#6,ViewCount#7L] parquet\n      +- SubqueryAlias answer_min\n         +- Aggregate [ParentId#501L], [min(CreationDate#16) AS Fisrt_answer#485, ParentId#501L]\n            +- SubqueryAlias answer\n               +- Project [CreationDate#16, ParentId#501L]\n                  +- Filter ((PostTypeId#502L = cast(2 as bigint)) && isnotnull(CreationDate#16))\n                     +- SubqueryAlias data_stack\n                        +- Project [to_timestamp(CreationDate#0, Some(yyyy-MM-dd'T'kk:mm:ss.SSSXXX)) AS CreationDate#16, Id#500L, ParentId#501L, PostTypeId#502L, Score#503L, Tags#504, Title#505, ViewCount#506L]\n                           +- Relation[CreationDate#499,Id#500L,ParentId#501L,PostTypeId#502L,Score#503L,Tags#504,Title#505,ViewCount#506L] parquet\n\r\n\tat org.apache.spark.sql.catalyst.analysis.package$AnalysisErrorAt.failAnalysis(package.scala:42)\r\n\tat org.apache.spark.sql.catalyst.analysis.CheckAnalysis$$anonfun$checkAnalysis$1$$anonfun$apply$2.applyOrElse(CheckAnalysis.scala:97)\r\n\tat org.apache.spark.sql.catalyst.analysis.CheckAnalysis$$anonfun$checkAnalysis$1$$anonfun$apply$2.applyOrElse(CheckAnalysis.scala:89)\r\n\tat org.apache.spark.sql.catalyst.trees.TreeNode$$anonfun$transformUp$1.apply(TreeNode.scala:289)\r\n\tat org.apache.spark.sql.catalyst.trees.TreeNode$$anonfun$transformUp$1.apply(TreeNode.scala:289)\r\n\tat org.apache.spark.sql.catalyst.trees.CurrentOrigin$.withOrigin(TreeNode.scala:70)\r\n\tat org.apache.spark.sql.catalyst.trees.TreeNode.transformUp(TreeNode.scala:288)\r\n\tat org.apache.spark.sql.catalyst.trees.TreeNode$$anonfun$3.apply(TreeNode.scala:286)\r\n\tat org.apache.spark.sql.catalyst.trees.TreeNode$$anonfun$3.apply(TreeNode.scala:286)\r\n\tat org.apache.spark.sql.catalyst.trees.TreeNode$$anonfun$4.apply(TreeNode.scala:306)\r\n\tat org.apache.spark.sql.catalyst.trees.TreeNode.mapProductIterator(TreeNode.scala:187)\r\n\tat org.apache.spark.sql.catalyst.trees.TreeNode.mapChildren(TreeNode.scala:304)\r\n\tat org.apache.spark.sql.catalyst.trees.TreeNode.transformUp(TreeNode.scala:286)\r\n\tat org.apache.spark.sql.catalyst.plans.QueryPlan$$anonfun$transformExpressionsUp$1.apply(QueryPlan.scala:95)\r\n\tat org.apache.spark.sql.catalyst.plans.QueryPlan$$anonfun$transformExpressionsUp$1.apply(QueryPlan.scala:95)\r\n\tat org.apache.spark.sql.catalyst.plans.QueryPlan$$anonfun$1.apply(QueryPlan.scala:107)\r\n\tat org.apache.spark.sql.catalyst.plans.QueryPlan$$anonfun$1.apply(QueryPlan.scala:107)\r\n\tat org.apache.spark.sql.catalyst.trees.CurrentOrigin$.withOrigin(TreeNode.scala:70)\r\n\tat org.apache.spark.sql.catalyst.plans.QueryPlan.transformExpression$1(QueryPlan.scala:106)\r\n\tat org.apache.spark.sql.catalyst.plans.QueryPlan.org$apache$spark$sql$catalyst$plans$QueryPlan$$recursiveTransform$1(QueryPlan.scala:118)\r\n\tat org.apache.spark.sql.catalyst.plans.QueryPlan$$anonfun$org$apache$spark$sql$catalyst$plans$QueryPlan$$recursiveTransform$1$1.apply(QueryPlan.scala:122)\r\n\tat scala.collection.TraversableLike$$anonfun$map$1.apply(TraversableLike.scala:234)\r\n\tat scala.collection.TraversableLike$$anonfun$map$1.apply(TraversableLike.scala:234)\r\n\tat scala.collection.immutable.List.foreach(List.scala:381)\r\n\tat scala.collection.TraversableLike$class.map(TraversableLike.scala:234)\r\n\tat scala.collection.immutable.List.map(List.scala:285)\r\n\tat org.apache.spark.sql.catalyst.plans.QueryPlan.org$apache$spark$sql$catalyst$plans$QueryPlan$$recursiveTransform$1(QueryPlan.scala:122)\r\n\tat org.apache.spark.sql.catalyst.plans.QueryPlan$$anonfun$2.apply(QueryPlan.scala:127)\r\n\tat org.apache.spark.sql.catalyst.trees.TreeNode.mapProductIterator(TreeNode.scala:187)\r\n\tat org.apache.spark.sql.catalyst.plans.QueryPlan.mapExpressions(QueryPlan.scala:127)\r\n\tat org.apache.spark.sql.catalyst.plans.QueryPlan.transformExpressionsUp(QueryPlan.scala:95)\r\n\tat org.apache.spark.sql.catalyst.analysis.CheckAnalysis$$anonfun$checkAnalysis$1.apply(CheckAnalysis.scala:89)\r\n\tat org.apache.spark.sql.catalyst.analysis.CheckAnalysis$$anonfun$checkAnalysis$1.apply(CheckAnalysis.scala:84)\r\n\tat org.apache.spark.sql.catalyst.trees.TreeNode.foreachUp(TreeNode.scala:127)\r\n\tat org.apache.spark.sql.catalyst.analysis.CheckAnalysis$class.checkAnalysis(CheckAnalysis.scala:84)\r\n\tat org.apache.spark.sql.catalyst.analysis.Analyzer.checkAnalysis(Analyzer.scala:92)\r\n\tat org.apache.spark.sql.catalyst.analysis.Analyzer.executeAndCheck(Analyzer.scala:105)\r\n\tat org.apache.spark.sql.execution.QueryExecution.analyzed$lzycompute(QueryExecution.scala:57)\r\n\tat org.apache.spark.sql.execution.QueryExecution.analyzed(QueryExecution.scala:55)\r\n\tat org.apache.spark.sql.execution.QueryExecution.assertAnalyzed(QueryExecution.scala:47)\r\n\tat org.apache.spark.sql.Dataset$.ofRows(Dataset.scala:74)\r\n\tat org.apache.spark.sql.Dataset.org$apache$spark$sql$Dataset$$withPlan(Dataset.scala:3301)\r\n\tat org.apache.spark.sql.Dataset.select(Dataset.scala:1312)\r\n\tat org.apache.spark.sql.Dataset.withColumns(Dataset.scala:2197)\r\n\tat org.apache.spark.sql.Dataset.withColumn(Dataset.scala:2164)\r\n\tat sun.reflect.NativeMethodAccessorImpl.invoke0(Native Method)\r\n\tat sun.reflect.NativeMethodAccessorImpl.invoke(NativeMethodAccessorImpl.java:62)\r\n\tat sun.reflect.DelegatingMethodAccessorImpl.invoke(DelegatingMethodAccessorImpl.java:43)\r\n\tat java.lang.reflect.Method.invoke(Method.java:498)\r\n\tat py4j.reflection.MethodInvoker.invoke(MethodInvoker.java:244)\r\n\tat py4j.reflection.ReflectionEngine.invoke(ReflectionEngine.java:357)\r\n\tat py4j.Gateway.invoke(Gateway.java:282)\r\n\tat py4j.commands.AbstractCommand.invokeMethod(AbstractCommand.java:132)\r\n\tat py4j.commands.CallCommand.execute(CallCommand.java:79)\r\n\tat py4j.GatewayConnection.run(GatewayConnection.java:238)\r\n\tat java.lang.Thread.run(Thread.java:748)\r\n",
      "\nDuring handling of the above exception, another exception occurred:\n",
      "\u001b[1;31mAnalysisException\u001b[0m                         Traceback (most recent call last)",
      "\u001b[1;32m<ipython-input-31-34653949562a>\u001b[0m in \u001b[0;36m<module>\u001b[1;34m\u001b[0m\n\u001b[0;32m      1\u001b[0m pyhton_fisrt_answer_data.withColumn(\"Time_diff\",\\\n\u001b[1;32m----> 2\u001b[1;33m                                     pyhton_fisrt_answer_data['Fisrt_answer'] - pyhton_fisrt_answer_data['CreationDate'])\n\u001b[0m",
      "\u001b[1;32m~\\SPARK\\spark-2.3.2-bin-hadoop2.7\\python\\pyspark\\sql\\dataframe.py\u001b[0m in \u001b[0;36mwithColumn\u001b[1;34m(self, colName, col)\u001b[0m\n\u001b[0;32m   1847\u001b[0m         \"\"\"\n\u001b[0;32m   1848\u001b[0m         \u001b[1;32massert\u001b[0m \u001b[0misinstance\u001b[0m\u001b[1;33m(\u001b[0m\u001b[0mcol\u001b[0m\u001b[1;33m,\u001b[0m \u001b[0mColumn\u001b[0m\u001b[1;33m)\u001b[0m\u001b[1;33m,\u001b[0m \u001b[1;34m\"col should be Column\"\u001b[0m\u001b[1;33m\u001b[0m\u001b[1;33m\u001b[0m\u001b[0m\n\u001b[1;32m-> 1849\u001b[1;33m         \u001b[1;32mreturn\u001b[0m \u001b[0mDataFrame\u001b[0m\u001b[1;33m(\u001b[0m\u001b[0mself\u001b[0m\u001b[1;33m.\u001b[0m\u001b[0m_jdf\u001b[0m\u001b[1;33m.\u001b[0m\u001b[0mwithColumn\u001b[0m\u001b[1;33m(\u001b[0m\u001b[0mcolName\u001b[0m\u001b[1;33m,\u001b[0m \u001b[0mcol\u001b[0m\u001b[1;33m.\u001b[0m\u001b[0m_jc\u001b[0m\u001b[1;33m)\u001b[0m\u001b[1;33m,\u001b[0m \u001b[0mself\u001b[0m\u001b[1;33m.\u001b[0m\u001b[0msql_ctx\u001b[0m\u001b[1;33m)\u001b[0m\u001b[1;33m\u001b[0m\u001b[1;33m\u001b[0m\u001b[0m\n\u001b[0m\u001b[0;32m   1850\u001b[0m \u001b[1;33m\u001b[0m\u001b[0m\n\u001b[0;32m   1851\u001b[0m     \u001b[1;33m@\u001b[0m\u001b[0mignore_unicode_prefix\u001b[0m\u001b[1;33m\u001b[0m\u001b[1;33m\u001b[0m\u001b[0m\n",
      "\u001b[1;32m~\\SPARK\\spark-2.3.2-bin-hadoop2.7\\python\\lib\\py4j-0.10.7-src.zip\\py4j\\java_gateway.py\u001b[0m in \u001b[0;36m__call__\u001b[1;34m(self, *args)\u001b[0m\n\u001b[0;32m   1255\u001b[0m         \u001b[0manswer\u001b[0m \u001b[1;33m=\u001b[0m \u001b[0mself\u001b[0m\u001b[1;33m.\u001b[0m\u001b[0mgateway_client\u001b[0m\u001b[1;33m.\u001b[0m\u001b[0msend_command\u001b[0m\u001b[1;33m(\u001b[0m\u001b[0mcommand\u001b[0m\u001b[1;33m)\u001b[0m\u001b[1;33m\u001b[0m\u001b[1;33m\u001b[0m\u001b[0m\n\u001b[0;32m   1256\u001b[0m         return_value = get_return_value(\n\u001b[1;32m-> 1257\u001b[1;33m             answer, self.gateway_client, self.target_id, self.name)\n\u001b[0m\u001b[0;32m   1258\u001b[0m \u001b[1;33m\u001b[0m\u001b[0m\n\u001b[0;32m   1259\u001b[0m         \u001b[1;32mfor\u001b[0m \u001b[0mtemp_arg\u001b[0m \u001b[1;32min\u001b[0m \u001b[0mtemp_args\u001b[0m\u001b[1;33m:\u001b[0m\u001b[1;33m\u001b[0m\u001b[1;33m\u001b[0m\u001b[0m\n",
      "\u001b[1;32m~\\SPARK\\spark-2.3.2-bin-hadoop2.7\\python\\pyspark\\sql\\utils.py\u001b[0m in \u001b[0;36mdeco\u001b[1;34m(*a, **kw)\u001b[0m\n\u001b[0;32m     67\u001b[0m                                              e.java_exception.getStackTrace()))\n\u001b[0;32m     68\u001b[0m             \u001b[1;32mif\u001b[0m \u001b[0ms\u001b[0m\u001b[1;33m.\u001b[0m\u001b[0mstartswith\u001b[0m\u001b[1;33m(\u001b[0m\u001b[1;34m'org.apache.spark.sql.AnalysisException: '\u001b[0m\u001b[1;33m)\u001b[0m\u001b[1;33m:\u001b[0m\u001b[1;33m\u001b[0m\u001b[1;33m\u001b[0m\u001b[0m\n\u001b[1;32m---> 69\u001b[1;33m                 \u001b[1;32mraise\u001b[0m \u001b[0mAnalysisException\u001b[0m\u001b[1;33m(\u001b[0m\u001b[0ms\u001b[0m\u001b[1;33m.\u001b[0m\u001b[0msplit\u001b[0m\u001b[1;33m(\u001b[0m\u001b[1;34m': '\u001b[0m\u001b[1;33m,\u001b[0m \u001b[1;36m1\u001b[0m\u001b[1;33m)\u001b[0m\u001b[1;33m[\u001b[0m\u001b[1;36m1\u001b[0m\u001b[1;33m]\u001b[0m\u001b[1;33m,\u001b[0m \u001b[0mstackTrace\u001b[0m\u001b[1;33m)\u001b[0m\u001b[1;33m\u001b[0m\u001b[1;33m\u001b[0m\u001b[0m\n\u001b[0m\u001b[0;32m     70\u001b[0m             \u001b[1;32mif\u001b[0m \u001b[0ms\u001b[0m\u001b[1;33m.\u001b[0m\u001b[0mstartswith\u001b[0m\u001b[1;33m(\u001b[0m\u001b[1;34m'org.apache.spark.sql.catalyst.analysis'\u001b[0m\u001b[1;33m)\u001b[0m\u001b[1;33m:\u001b[0m\u001b[1;33m\u001b[0m\u001b[1;33m\u001b[0m\u001b[0m\n\u001b[0;32m     71\u001b[0m                 \u001b[1;32mraise\u001b[0m \u001b[0mAnalysisException\u001b[0m\u001b[1;33m(\u001b[0m\u001b[0ms\u001b[0m\u001b[1;33m.\u001b[0m\u001b[0msplit\u001b[0m\u001b[1;33m(\u001b[0m\u001b[1;34m': '\u001b[0m\u001b[1;33m,\u001b[0m \u001b[1;36m1\u001b[0m\u001b[1;33m)\u001b[0m\u001b[1;33m[\u001b[0m\u001b[1;36m1\u001b[0m\u001b[1;33m]\u001b[0m\u001b[1;33m,\u001b[0m \u001b[0mstackTrace\u001b[0m\u001b[1;33m)\u001b[0m\u001b[1;33m\u001b[0m\u001b[1;33m\u001b[0m\u001b[0m\n",
      "\u001b[1;31mAnalysisException\u001b[0m: \"cannot resolve '(answer_min.`Fisrt_answer` - python_question.`CreationDate`)' due to data type mismatch: '(answer_min.`Fisrt_answer` - python_question.`CreationDate`)' requires (numeric or calendarinterval) type, not timestamp;;\\n'Project [CreationDate#16, Tags#5, Fisrt_answer#485, (Fisrt_answer#485 - CreationDate#16) AS Time_diff#521]\\n+- Project [CreationDate#16, Tags#5, Fisrt_answer#485]\\n   +- Join Inner, (Id#1L = ParentId#501L)\\n      :- SubqueryAlias python_question\\n      :  +- Project [CreationDate#16, Id#1L, ParentId#2L, PostTypeId#3L, Score#4L, Tags#5, Title#6, ViewCount#7L]\\n      :     +- Filter (Tags#5 LIKE %<python>% && isnotnull(CreationDate#16))\\n      :        +- SubqueryAlias data_stack\\n      :           +- Project [to_timestamp(CreationDate#0, Some(yyyy-MM-dd'T'kk:mm:ss.SSSXXX)) AS CreationDate#16, Id#1L, ParentId#2L, PostTypeId#3L, Score#4L, Tags#5, Title#6, ViewCount#7L]\\n      :              +- Relation[CreationDate#0,Id#1L,ParentId#2L,PostTypeId#3L,Score#4L,Tags#5,Title#6,ViewCount#7L] parquet\\n      +- SubqueryAlias answer_min\\n         +- Aggregate [ParentId#501L], [min(CreationDate#16) AS Fisrt_answer#485, ParentId#501L]\\n            +- SubqueryAlias answer\\n               +- Project [CreationDate#16, ParentId#501L]\\n                  +- Filter ((PostTypeId#502L = cast(2 as bigint)) && isnotnull(CreationDate#16))\\n                     +- SubqueryAlias data_stack\\n                        +- Project [to_timestamp(CreationDate#0, Some(yyyy-MM-dd'T'kk:mm:ss.SSSXXX)) AS CreationDate#16, Id#500L, ParentId#501L, PostTypeId#502L, Score#503L, Tags#504, Title#505, ViewCount#506L]\\n                           +- Relation[CreationDate#499,Id#500L,ParentId#501L,PostTypeId#502L,Score#503L,Tags#504,Title#505,ViewCount#506L] parquet\\n\""
     ]
    }
   ],
   "source": [
    "pyhton_fisrt_answer_data.withColumn(\"Time_diff\",\\\n",
    "                                    pyhton_fisrt_answer_data['Fisrt_answer'] - pyhton_fisrt_answer_data['CreationDate'])"
   ]
  },
  {
   "cell_type": "code",
   "execution_count": 23,
   "metadata": {},
   "outputs": [
    {
     "data": {
      "text/html": [
       "<div>\n",
       "<style scoped>\n",
       "    .dataframe tbody tr th:only-of-type {\n",
       "        vertical-align: middle;\n",
       "    }\n",
       "\n",
       "    .dataframe tbody tr th {\n",
       "        vertical-align: top;\n",
       "    }\n",
       "\n",
       "    .dataframe thead th {\n",
       "        text-align: right;\n",
       "    }\n",
       "</style>\n",
       "<table border=\"1\" class=\"dataframe\">\n",
       "  <thead>\n",
       "    <tr style=\"text-align: right;\">\n",
       "      <th></th>\n",
       "      <th>CreationDate</th>\n",
       "      <th>Tags</th>\n",
       "      <th>Fisrt_answer</th>\n",
       "    </tr>\n",
       "  </thead>\n",
       "  <tbody>\n",
       "    <tr>\n",
       "      <th>0</th>\n",
       "      <td>2008-09-02 09:40:26</td>\n",
       "      <td>&lt;python&gt;&lt;distutils&gt;</td>\n",
       "      <td>2008-09-02 11:43:45</td>\n",
       "    </tr>\n",
       "    <tr>\n",
       "      <th>1</th>\n",
       "      <td>2008-09-18 13:41:22</td>\n",
       "      <td>&lt;python&gt;&lt;api&gt;&lt;sockets&gt;&lt;ssl&gt;&lt;gmail&gt;</td>\n",
       "      <td>2008-09-18 15:06:11</td>\n",
       "    </tr>\n",
       "    <tr>\n",
       "      <th>2</th>\n",
       "      <td>2008-09-22 17:08:12</td>\n",
       "      <td>&lt;python&gt;&lt;ms-word&gt;&lt;openxml&gt;&lt;docx&gt;</td>\n",
       "      <td>2008-09-22 17:16:43</td>\n",
       "    </tr>\n",
       "    <tr>\n",
       "      <th>3</th>\n",
       "      <td>2008-10-08 06:34:21</td>\n",
       "      <td>&lt;python&gt;&lt;dll&gt;&lt;py2exe&gt;</td>\n",
       "      <td>2008-10-08 06:46:57</td>\n",
       "    </tr>\n",
       "    <tr>\n",
       "      <th>4</th>\n",
       "      <td>2008-10-22 23:38:30</td>\n",
       "      <td>&lt;python&gt;&lt;module&gt;</td>\n",
       "      <td>2008-10-22 23:40:26</td>\n",
       "    </tr>\n",
       "    <tr>\n",
       "      <th>5</th>\n",
       "      <td>2009-01-15 15:15:31</td>\n",
       "      <td>&lt;python&gt;&lt;database&gt;&lt;django&gt;&lt;performance&gt;</td>\n",
       "      <td>2009-01-15 15:19:08</td>\n",
       "    </tr>\n",
       "    <tr>\n",
       "      <th>6</th>\n",
       "      <td>2009-01-23 11:16:35</td>\n",
       "      <td>&lt;python&gt;&lt;iterator&gt;&lt;generator&gt;</td>\n",
       "      <td>2009-01-23 11:23:12</td>\n",
       "    </tr>\n",
       "    <tr>\n",
       "      <th>7</th>\n",
       "      <td>2009-01-23 20:23:38</td>\n",
       "      <td>&lt;python&gt;&lt;unicode&gt;&lt;csv&gt;&lt;decode&gt;&lt;codec&gt;</td>\n",
       "      <td>2009-01-23 20:36:12</td>\n",
       "    </tr>\n",
       "    <tr>\n",
       "      <th>8</th>\n",
       "      <td>2009-02-05 14:11:32</td>\n",
       "      <td>&lt;python&gt;</td>\n",
       "      <td>2009-02-05 14:17:39</td>\n",
       "    </tr>\n",
       "    <tr>\n",
       "      <th>9</th>\n",
       "      <td>2009-03-06 19:44:12</td>\n",
       "      <td>&lt;python&gt;&lt;windows&gt;&lt;automation&gt;</td>\n",
       "      <td>2009-03-06 19:53:01</td>\n",
       "    </tr>\n",
       "    <tr>\n",
       "      <th>10</th>\n",
       "      <td>2009-03-16 16:00:10</td>\n",
       "      <td>&lt;c++&gt;&lt;python&gt;&lt;c&gt;&lt;multithreading&gt;</td>\n",
       "      <td>2009-03-16 16:08:21</td>\n",
       "    </tr>\n",
       "    <tr>\n",
       "      <th>11</th>\n",
       "      <td>2009-03-22 17:22:34</td>\n",
       "      <td>&lt;python&gt;&lt;html&gt;&lt;regex&gt;&lt;parsing&gt;</td>\n",
       "      <td>2009-03-22 17:28:39</td>\n",
       "    </tr>\n",
       "    <tr>\n",
       "      <th>12</th>\n",
       "      <td>2009-03-26 13:45:56</td>\n",
       "      <td>&lt;python&gt;&lt;mysql&gt;</td>\n",
       "      <td>2009-03-26 16:50:17</td>\n",
       "    </tr>\n",
       "    <tr>\n",
       "      <th>13</th>\n",
       "      <td>2009-03-29 09:13:29</td>\n",
       "      <td>&lt;python&gt;&lt;recursion&gt;&lt;web-crawler&gt;</td>\n",
       "      <td>2009-03-29 09:16:53</td>\n",
       "    </tr>\n",
       "    <tr>\n",
       "      <th>14</th>\n",
       "      <td>2009-04-06 18:55:11</td>\n",
       "      <td>&lt;python&gt;</td>\n",
       "      <td>2009-04-06 18:56:16</td>\n",
       "    </tr>\n",
       "    <tr>\n",
       "      <th>15</th>\n",
       "      <td>2009-04-17 18:15:27</td>\n",
       "      <td>&lt;python&gt;</td>\n",
       "      <td>2009-04-17 18:21:14</td>\n",
       "    </tr>\n",
       "    <tr>\n",
       "      <th>16</th>\n",
       "      <td>2009-04-20 08:24:39</td>\n",
       "      <td>&lt;python&gt;&lt;html&gt;&lt;pyunit&gt;</td>\n",
       "      <td>2009-04-20 08:44:49</td>\n",
       "    </tr>\n",
       "    <tr>\n",
       "      <th>17</th>\n",
       "      <td>2009-04-22 15:46:24</td>\n",
       "      <td>&lt;python&gt;</td>\n",
       "      <td>2009-04-22 15:51:59</td>\n",
       "    </tr>\n",
       "    <tr>\n",
       "      <th>18</th>\n",
       "      <td>2009-04-23 13:06:03</td>\n",
       "      <td>&lt;python&gt;&lt;winapi&gt;&lt;command-line&gt;&lt;service&gt;</td>\n",
       "      <td>2009-04-23 13:45:33</td>\n",
       "    </tr>\n",
       "    <tr>\n",
       "      <th>19</th>\n",
       "      <td>2009-04-24 19:36:01</td>\n",
       "      <td>&lt;python&gt;&lt;django&gt;</td>\n",
       "      <td>2009-04-24 19:41:33</td>\n",
       "    </tr>\n",
       "    <tr>\n",
       "      <th>20</th>\n",
       "      <td>2009-05-11 12:36:38</td>\n",
       "      <td>&lt;python&gt;&lt;django&gt;&lt;file&gt;&lt;upload&gt;&lt;pickle&gt;</td>\n",
       "      <td>2009-05-11 12:40:01</td>\n",
       "    </tr>\n",
       "    <tr>\n",
       "      <th>21</th>\n",
       "      <td>2009-05-12 01:46:55</td>\n",
       "      <td>&lt;python&gt;&lt;list&gt;</td>\n",
       "      <td>2009-05-12 02:03:16</td>\n",
       "    </tr>\n",
       "    <tr>\n",
       "      <th>22</th>\n",
       "      <td>2009-05-17 02:04:40</td>\n",
       "      <td>&lt;python&gt;&lt;git&gt;</td>\n",
       "      <td>2009-05-17 04:02:00</td>\n",
       "    </tr>\n",
       "    <tr>\n",
       "      <th>23</th>\n",
       "      <td>2009-06-07 17:07:07</td>\n",
       "      <td>&lt;python&gt;&lt;multithreading&gt;&lt;wxpython&gt;&lt;twisted&gt;</td>\n",
       "      <td>2009-06-07 21:23:13</td>\n",
       "    </tr>\n",
       "    <tr>\n",
       "      <th>24</th>\n",
       "      <td>2009-06-10 13:35:40</td>\n",
       "      <td>&lt;python&gt;&lt;google-app-engine&gt;&lt;connection&gt;&lt;reset&gt;</td>\n",
       "      <td>2009-06-10 13:42:25</td>\n",
       "    </tr>\n",
       "    <tr>\n",
       "      <th>25</th>\n",
       "      <td>2009-06-23 23:07:54</td>\n",
       "      <td>&lt;python&gt;&lt;latex&gt;&lt;syntax-highlighting&gt;&lt;code-form...</td>\n",
       "      <td>2009-06-23 23:15:58</td>\n",
       "    </tr>\n",
       "    <tr>\n",
       "      <th>26</th>\n",
       "      <td>2009-07-02 15:35:53</td>\n",
       "      <td>&lt;python&gt;&lt;django&gt;&lt;django-models&gt;</td>\n",
       "      <td>2009-07-02 15:40:15</td>\n",
       "    </tr>\n",
       "    <tr>\n",
       "      <th>27</th>\n",
       "      <td>2009-07-06 09:50:25</td>\n",
       "      <td>&lt;python&gt;&lt;html&gt;&lt;csv&gt;&lt;screen-scraping&gt;&lt;beautiful...</td>\n",
       "      <td>2009-07-06 10:02:33</td>\n",
       "    </tr>\n",
       "    <tr>\n",
       "      <th>28</th>\n",
       "      <td>2009-07-08 19:15:58</td>\n",
       "      <td>&lt;python&gt;&lt;beautifulsoup&gt;&lt;httplib2&gt;</td>\n",
       "      <td>2009-07-08 19:20:53</td>\n",
       "    </tr>\n",
       "    <tr>\n",
       "      <th>29</th>\n",
       "      <td>2009-07-16 03:45:55</td>\n",
       "      <td>&lt;python&gt;&lt;buildout&gt;</td>\n",
       "      <td>2009-07-22 11:17:12</td>\n",
       "    </tr>\n",
       "    <tr>\n",
       "      <th>...</th>\n",
       "      <td>...</td>\n",
       "      <td>...</td>\n",
       "      <td>...</td>\n",
       "    </tr>\n",
       "    <tr>\n",
       "      <th>830130</th>\n",
       "      <td>2018-08-18 06:09:13</td>\n",
       "      <td>&lt;python&gt;&lt;django&gt;&lt;angular&gt;&lt;django-rest-framewor...</td>\n",
       "      <td>2018-08-18 06:25:07</td>\n",
       "    </tr>\n",
       "    <tr>\n",
       "      <th>830131</th>\n",
       "      <td>2018-08-18 18:59:30</td>\n",
       "      <td>&lt;python&gt;&lt;exception&gt;&lt;raise&gt;</td>\n",
       "      <td>2018-08-18 19:32:43</td>\n",
       "    </tr>\n",
       "    <tr>\n",
       "      <th>830132</th>\n",
       "      <td>2018-08-19 16:32:46</td>\n",
       "      <td>&lt;python&gt;&lt;macos&gt;&lt;openssl&gt;&lt;pyenv&gt;</td>\n",
       "      <td>2018-08-23 09:18:50</td>\n",
       "    </tr>\n",
       "    <tr>\n",
       "      <th>830133</th>\n",
       "      <td>2018-08-20 21:27:54</td>\n",
       "      <td>&lt;python&gt;&lt;excel&gt;&lt;pandas&gt;&lt;openpyxl&gt;</td>\n",
       "      <td>2018-08-22 18:20:35</td>\n",
       "    </tr>\n",
       "    <tr>\n",
       "      <th>830134</th>\n",
       "      <td>2018-08-21 11:28:20</td>\n",
       "      <td>&lt;python&gt;&lt;pandas&gt;&lt;dataframe&gt;&lt;nlp&gt;</td>\n",
       "      <td>2018-08-21 11:37:01</td>\n",
       "    </tr>\n",
       "    <tr>\n",
       "      <th>830135</th>\n",
       "      <td>2018-08-21 11:35:14</td>\n",
       "      <td>&lt;python&gt;&lt;pandas&gt;&lt;numpy&gt;&lt;matplotlib&gt;</td>\n",
       "      <td>2018-08-22 07:54:43</td>\n",
       "    </tr>\n",
       "    <tr>\n",
       "      <th>830136</th>\n",
       "      <td>NaT</td>\n",
       "      <td>&lt;python&gt;&lt;data-structures&gt;&lt;linked-list&gt;</td>\n",
       "      <td>NaT</td>\n",
       "    </tr>\n",
       "    <tr>\n",
       "      <th>830137</th>\n",
       "      <td>2018-08-22 03:29:17</td>\n",
       "      <td>&lt;python&gt;&lt;pygame&gt;</td>\n",
       "      <td>2018-08-22 15:07:33</td>\n",
       "    </tr>\n",
       "    <tr>\n",
       "      <th>830138</th>\n",
       "      <td>2018-08-23 05:37:56</td>\n",
       "      <td>&lt;python&gt;&lt;c&gt;&lt;multithreading&gt;&lt;multiprocessing&gt;&lt;p...</td>\n",
       "      <td>2018-08-23 10:46:52</td>\n",
       "    </tr>\n",
       "    <tr>\n",
       "      <th>830139</th>\n",
       "      <td>2018-08-24 07:19:33</td>\n",
       "      <td>&lt;python&gt;&lt;tensorflow&gt;</td>\n",
       "      <td>2018-08-24 07:49:47</td>\n",
       "    </tr>\n",
       "    <tr>\n",
       "      <th>830140</th>\n",
       "      <td>2018-08-24 15:27:28</td>\n",
       "      <td>&lt;python&gt;&lt;sql&gt;&lt;pandas&gt;&lt;dataframe&gt;</td>\n",
       "      <td>2018-08-24 15:48:07</td>\n",
       "    </tr>\n",
       "    <tr>\n",
       "      <th>830141</th>\n",
       "      <td>2018-08-24 15:39:53</td>\n",
       "      <td>&lt;python&gt;&lt;python-2.7&gt;</td>\n",
       "      <td>2018-08-24 15:50:45</td>\n",
       "    </tr>\n",
       "    <tr>\n",
       "      <th>830142</th>\n",
       "      <td>2018-08-24 20:48:57</td>\n",
       "      <td>&lt;python&gt;&lt;pandas&gt;&lt;date&gt;&lt;object&gt;&lt;dataframe&gt;</td>\n",
       "      <td>2018-08-24 20:53:40</td>\n",
       "    </tr>\n",
       "    <tr>\n",
       "      <th>830143</th>\n",
       "      <td>2018-08-25 12:47:54</td>\n",
       "      <td>&lt;python&gt;&lt;python-3.x&gt;&lt;gurobi&gt;</td>\n",
       "      <td>2018-08-25 18:43:02</td>\n",
       "    </tr>\n",
       "    <tr>\n",
       "      <th>830144</th>\n",
       "      <td>2018-08-26 15:46:36</td>\n",
       "      <td>&lt;python&gt;&lt;pandas&gt;&lt;csv&gt;</td>\n",
       "      <td>2018-08-26 15:49:11</td>\n",
       "    </tr>\n",
       "    <tr>\n",
       "      <th>830145</th>\n",
       "      <td>2018-08-27 05:51:44</td>\n",
       "      <td>&lt;python&gt;&lt;list&gt;&lt;dictionary&gt;</td>\n",
       "      <td>2018-08-27 05:58:40</td>\n",
       "    </tr>\n",
       "    <tr>\n",
       "      <th>830146</th>\n",
       "      <td>2018-08-27 11:20:42</td>\n",
       "      <td>&lt;python&gt;&lt;django&gt;</td>\n",
       "      <td>2018-08-27 11:27:28</td>\n",
       "    </tr>\n",
       "    <tr>\n",
       "      <th>830147</th>\n",
       "      <td>2018-08-27 20:00:20</td>\n",
       "      <td>&lt;python&gt;&lt;pandas&gt;</td>\n",
       "      <td>2018-08-27 20:21:12</td>\n",
       "    </tr>\n",
       "    <tr>\n",
       "      <th>830148</th>\n",
       "      <td>2018-08-28 02:10:42</td>\n",
       "      <td>&lt;python&gt;&lt;opencv&gt;&lt;matplotlib&gt;</td>\n",
       "      <td>2018-08-28 05:31:44</td>\n",
       "    </tr>\n",
       "    <tr>\n",
       "      <th>830149</th>\n",
       "      <td>2018-08-28 08:46:34</td>\n",
       "      <td>&lt;python&gt;&lt;regression&gt;&lt;linear&gt;</td>\n",
       "      <td>2018-08-28 12:16:41</td>\n",
       "    </tr>\n",
       "    <tr>\n",
       "      <th>830150</th>\n",
       "      <td>2018-08-28 11:11:52</td>\n",
       "      <td>&lt;python&gt;&lt;pygame&gt;</td>\n",
       "      <td>2018-08-29 09:31:55</td>\n",
       "    </tr>\n",
       "    <tr>\n",
       "      <th>830151</th>\n",
       "      <td>2018-08-28 17:41:24</td>\n",
       "      <td>&lt;python&gt;&lt;python-3.x&gt;&lt;elasticsearch&gt;</td>\n",
       "      <td>2018-08-29 14:36:48</td>\n",
       "    </tr>\n",
       "    <tr>\n",
       "      <th>830152</th>\n",
       "      <td>2018-08-29 08:53:36</td>\n",
       "      <td>&lt;python&gt;&lt;pandas&gt;&lt;dataframe&gt;</td>\n",
       "      <td>2018-08-29 08:56:48</td>\n",
       "    </tr>\n",
       "    <tr>\n",
       "      <th>830153</th>\n",
       "      <td>2018-08-29 09:19:43</td>\n",
       "      <td>&lt;python&gt;&lt;django&gt;&lt;django-rest-framework&gt;</td>\n",
       "      <td>2018-08-29 09:22:34</td>\n",
       "    </tr>\n",
       "    <tr>\n",
       "      <th>830154</th>\n",
       "      <td>2018-08-30 01:28:48</td>\n",
       "      <td>&lt;python&gt;&lt;smtp&gt;&lt;gmail&gt;&lt;smtplib&gt;</td>\n",
       "      <td>2018-08-30 19:42:05</td>\n",
       "    </tr>\n",
       "    <tr>\n",
       "      <th>830155</th>\n",
       "      <td>2018-08-30 05:23:53</td>\n",
       "      <td>&lt;python&gt;&lt;excel&gt;&lt;openpyxl&gt;</td>\n",
       "      <td>2018-08-30 10:52:10</td>\n",
       "    </tr>\n",
       "    <tr>\n",
       "      <th>830156</th>\n",
       "      <td>2018-08-30 13:59:54</td>\n",
       "      <td>&lt;python&gt;&lt;pyspark&gt;&lt;apache-spark-sql&gt;</td>\n",
       "      <td>2018-08-30 14:09:58</td>\n",
       "    </tr>\n",
       "    <tr>\n",
       "      <th>830157</th>\n",
       "      <td>2018-08-30 19:54:40</td>\n",
       "      <td>&lt;python&gt;&lt;python-3.x&gt;</td>\n",
       "      <td>2018-08-30 19:59:14</td>\n",
       "    </tr>\n",
       "    <tr>\n",
       "      <th>830158</th>\n",
       "      <td>2018-08-30 21:50:36</td>\n",
       "      <td>&lt;python&gt;&lt;visual-studio-code&gt;&lt;pylint&gt;</td>\n",
       "      <td>2018-08-30 22:06:28</td>\n",
       "    </tr>\n",
       "    <tr>\n",
       "      <th>830159</th>\n",
       "      <td>2018-09-01 17:34:11</td>\n",
       "      <td>&lt;python&gt;&lt;python-3.x&gt;&lt;exec&gt;&lt;eval&gt;</td>\n",
       "      <td>2018-09-01 17:53:15</td>\n",
       "    </tr>\n",
       "  </tbody>\n",
       "</table>\n",
       "<p>830160 rows × 3 columns</p>\n",
       "</div>"
      ],
      "text/plain": [
       "              CreationDate                                               Tags  \\\n",
       "0      2008-09-02 09:40:26                                <python><distutils>   \n",
       "1      2008-09-18 13:41:22                 <python><api><sockets><ssl><gmail>   \n",
       "2      2008-09-22 17:08:12                   <python><ms-word><openxml><docx>   \n",
       "3      2008-10-08 06:34:21                              <python><dll><py2exe>   \n",
       "4      2008-10-22 23:38:30                                   <python><module>   \n",
       "5      2009-01-15 15:15:31            <python><database><django><performance>   \n",
       "6      2009-01-23 11:16:35                      <python><iterator><generator>   \n",
       "7      2009-01-23 20:23:38              <python><unicode><csv><decode><codec>   \n",
       "8      2009-02-05 14:11:32                                           <python>   \n",
       "9      2009-03-06 19:44:12                      <python><windows><automation>   \n",
       "10     2009-03-16 16:00:10                   <c++><python><c><multithreading>   \n",
       "11     2009-03-22 17:22:34                     <python><html><regex><parsing>   \n",
       "12     2009-03-26 13:45:56                                    <python><mysql>   \n",
       "13     2009-03-29 09:13:29                   <python><recursion><web-crawler>   \n",
       "14     2009-04-06 18:55:11                                           <python>   \n",
       "15     2009-04-17 18:15:27                                           <python>   \n",
       "16     2009-04-20 08:24:39                             <python><html><pyunit>   \n",
       "17     2009-04-22 15:46:24                                           <python>   \n",
       "18     2009-04-23 13:06:03            <python><winapi><command-line><service>   \n",
       "19     2009-04-24 19:36:01                                   <python><django>   \n",
       "20     2009-05-11 12:36:38             <python><django><file><upload><pickle>   \n",
       "21     2009-05-12 01:46:55                                     <python><list>   \n",
       "22     2009-05-17 02:04:40                                      <python><git>   \n",
       "23     2009-06-07 17:07:07        <python><multithreading><wxpython><twisted>   \n",
       "24     2009-06-10 13:35:40     <python><google-app-engine><connection><reset>   \n",
       "25     2009-06-23 23:07:54  <python><latex><syntax-highlighting><code-form...   \n",
       "26     2009-07-02 15:35:53                    <python><django><django-models>   \n",
       "27     2009-07-06 09:50:25  <python><html><csv><screen-scraping><beautiful...   \n",
       "28     2009-07-08 19:15:58                  <python><beautifulsoup><httplib2>   \n",
       "29     2009-07-16 03:45:55                                 <python><buildout>   \n",
       "...                    ...                                                ...   \n",
       "830130 2018-08-18 06:09:13  <python><django><angular><django-rest-framewor...   \n",
       "830131 2018-08-18 18:59:30                         <python><exception><raise>   \n",
       "830132 2018-08-19 16:32:46                    <python><macos><openssl><pyenv>   \n",
       "830133 2018-08-20 21:27:54                  <python><excel><pandas><openpyxl>   \n",
       "830134 2018-08-21 11:28:20                   <python><pandas><dataframe><nlp>   \n",
       "830135 2018-08-21 11:35:14                <python><pandas><numpy><matplotlib>   \n",
       "830136                 NaT             <python><data-structures><linked-list>   \n",
       "830137 2018-08-22 03:29:17                                   <python><pygame>   \n",
       "830138 2018-08-23 05:37:56  <python><c><multithreading><multiprocessing><p...   \n",
       "830139 2018-08-24 07:19:33                               <python><tensorflow>   \n",
       "830140 2018-08-24 15:27:28                   <python><sql><pandas><dataframe>   \n",
       "830141 2018-08-24 15:39:53                               <python><python-2.7>   \n",
       "830142 2018-08-24 20:48:57          <python><pandas><date><object><dataframe>   \n",
       "830143 2018-08-25 12:47:54                       <python><python-3.x><gurobi>   \n",
       "830144 2018-08-26 15:46:36                              <python><pandas><csv>   \n",
       "830145 2018-08-27 05:51:44                         <python><list><dictionary>   \n",
       "830146 2018-08-27 11:20:42                                   <python><django>   \n",
       "830147 2018-08-27 20:00:20                                   <python><pandas>   \n",
       "830148 2018-08-28 02:10:42                       <python><opencv><matplotlib>   \n",
       "830149 2018-08-28 08:46:34                       <python><regression><linear>   \n",
       "830150 2018-08-28 11:11:52                                   <python><pygame>   \n",
       "830151 2018-08-28 17:41:24                <python><python-3.x><elasticsearch>   \n",
       "830152 2018-08-29 08:53:36                        <python><pandas><dataframe>   \n",
       "830153 2018-08-29 09:19:43            <python><django><django-rest-framework>   \n",
       "830154 2018-08-30 01:28:48                     <python><smtp><gmail><smtplib>   \n",
       "830155 2018-08-30 05:23:53                          <python><excel><openpyxl>   \n",
       "830156 2018-08-30 13:59:54                <python><pyspark><apache-spark-sql>   \n",
       "830157 2018-08-30 19:54:40                               <python><python-3.x>   \n",
       "830158 2018-08-30 21:50:36               <python><visual-studio-code><pylint>   \n",
       "830159 2018-09-01 17:34:11                   <python><python-3.x><exec><eval>   \n",
       "\n",
       "              Fisrt_answer  \n",
       "0      2008-09-02 11:43:45  \n",
       "1      2008-09-18 15:06:11  \n",
       "2      2008-09-22 17:16:43  \n",
       "3      2008-10-08 06:46:57  \n",
       "4      2008-10-22 23:40:26  \n",
       "5      2009-01-15 15:19:08  \n",
       "6      2009-01-23 11:23:12  \n",
       "7      2009-01-23 20:36:12  \n",
       "8      2009-02-05 14:17:39  \n",
       "9      2009-03-06 19:53:01  \n",
       "10     2009-03-16 16:08:21  \n",
       "11     2009-03-22 17:28:39  \n",
       "12     2009-03-26 16:50:17  \n",
       "13     2009-03-29 09:16:53  \n",
       "14     2009-04-06 18:56:16  \n",
       "15     2009-04-17 18:21:14  \n",
       "16     2009-04-20 08:44:49  \n",
       "17     2009-04-22 15:51:59  \n",
       "18     2009-04-23 13:45:33  \n",
       "19     2009-04-24 19:41:33  \n",
       "20     2009-05-11 12:40:01  \n",
       "21     2009-05-12 02:03:16  \n",
       "22     2009-05-17 04:02:00  \n",
       "23     2009-06-07 21:23:13  \n",
       "24     2009-06-10 13:42:25  \n",
       "25     2009-06-23 23:15:58  \n",
       "26     2009-07-02 15:40:15  \n",
       "27     2009-07-06 10:02:33  \n",
       "28     2009-07-08 19:20:53  \n",
       "29     2009-07-22 11:17:12  \n",
       "...                    ...  \n",
       "830130 2018-08-18 06:25:07  \n",
       "830131 2018-08-18 19:32:43  \n",
       "830132 2018-08-23 09:18:50  \n",
       "830133 2018-08-22 18:20:35  \n",
       "830134 2018-08-21 11:37:01  \n",
       "830135 2018-08-22 07:54:43  \n",
       "830136                 NaT  \n",
       "830137 2018-08-22 15:07:33  \n",
       "830138 2018-08-23 10:46:52  \n",
       "830139 2018-08-24 07:49:47  \n",
       "830140 2018-08-24 15:48:07  \n",
       "830141 2018-08-24 15:50:45  \n",
       "830142 2018-08-24 20:53:40  \n",
       "830143 2018-08-25 18:43:02  \n",
       "830144 2018-08-26 15:49:11  \n",
       "830145 2018-08-27 05:58:40  \n",
       "830146 2018-08-27 11:27:28  \n",
       "830147 2018-08-27 20:21:12  \n",
       "830148 2018-08-28 05:31:44  \n",
       "830149 2018-08-28 12:16:41  \n",
       "830150 2018-08-29 09:31:55  \n",
       "830151 2018-08-29 14:36:48  \n",
       "830152 2018-08-29 08:56:48  \n",
       "830153 2018-08-29 09:22:34  \n",
       "830154 2018-08-30 19:42:05  \n",
       "830155 2018-08-30 10:52:10  \n",
       "830156 2018-08-30 14:09:58  \n",
       "830157 2018-08-30 19:59:14  \n",
       "830158 2018-08-30 22:06:28  \n",
       "830159 2018-09-01 17:53:15  \n",
       "\n",
       "[830160 rows x 3 columns]"
      ]
     },
     "execution_count": 23,
     "metadata": {},
     "output_type": "execute_result"
    }
   ],
   "source": [
    "pyhton_fisrt_answer_data.drop(\"CreationDate\", \"Tags\", \"Fisrt_answer\")\n",
    "\n",
    "python_time = pyhton_fisrt_answer_data.toPandas()"
   ]
  },
  {
   "cell_type": "code",
   "execution_count": 20,
   "metadata": {},
   "outputs": [
    {
     "name": "stdout",
     "output_type": "stream",
     "text": [
      "+-------------------+--------------------+-------------------+\n",
      "|       CreationDate|                Tags|       Fisrt_answer|\n",
      "+-------------------+--------------------+-------------------+\n",
      "|2008-09-02 09:40:26| <python><distutils>|2008-09-02 11:43:45|\n",
      "|2008-09-18 13:41:22|<python><api><soc...|2008-09-18 15:06:11|\n",
      "|2008-09-22 17:08:12|<python><ms-word>...|2008-09-22 17:16:43|\n",
      "+-------------------+--------------------+-------------------+\n",
      "only showing top 3 rows\n",
      "\n"
     ]
    }
   ],
   "source": [
    "java_fisrt_answer = \"\"\"\n",
    "select CreationDate, Tags, Fisrt_answer\n",
    "from java_question\n",
    "inner join answer_min on java_question.Id = answer_min.ParentId\n",
    "\"\"\"\n",
    "java_fisrt_answer_data = spark.sql(pyhton_fisrt_answer)\n",
    "java_fisrt_answer_data.registerTempTable('pyhton_fisrt_answer')\n",
    "java_fisrt_answer_data.show(3)"
   ]
  },
  {
   "cell_type": "markdown",
   "metadata": {},
   "source": [
    "### Task E: What's up with PySpark?\n",
    "The number of questions asked regarding a specific topic reflect the public’s interest on it. We are interested on the popularity of PySpark. Compute and plot the number of questions with the ```pyspark``` tag for 30-day time intervals. Do you notice any trend over time? Is there any correlation between time and number of questions?\n"
   ]
  },
  {
   "cell_type": "code",
   "execution_count": null,
   "metadata": {},
   "outputs": [],
   "source": [
    "# Add your code and description here"
   ]
  }
 ],
 "metadata": {
  "kernelspec": {
   "display_name": "Python [conda env:ada]",
   "language": "python",
   "name": "conda-env-ada-py"
  },
  "language_info": {
   "codemirror_mode": {
    "name": "ipython",
    "version": 3
   },
   "file_extension": ".py",
   "mimetype": "text/x-python",
   "name": "python",
   "nbconvert_exporter": "python",
   "pygments_lexer": "ipython3",
   "version": "3.6.7"
  }
 },
 "nbformat": 4,
 "nbformat_minor": 2
}
