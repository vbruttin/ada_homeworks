{
 "cells": [
  {
   "cell_type": "markdown",
   "metadata": {},
   "source": [
    "## Assignment 4: Obsevational Studies and Applied ML\n",
    "\n",
    "### Deadline\n",
    "November 21st,11:59PM\n",
    "\n",
    "### Important notes\n",
    "\n",
    "Make sure you push on GitHub your notebook with all the cells already evaluated. Don't forget to add a textual description of your thought process, the assumptions you made, and the solution you implemented. Back up any hypotheses and claims with data, since this is an important aspect of the course. Please write all your comments in English, and use meaningful variable names in your code. Your repo should have a single notebook (plus the data files necessary) in the master branch. If there are multiple notebooks present, we will not grade anything.\n",
    "\n",
    "Use this legendary link to create your repository: [link](https://classroom.github.com/g/YXtsr0QK)"
   ]
  },
  {
   "cell_type": "code",
   "execution_count": 2,
   "metadata": {},
   "outputs": [],
   "source": [
    "# Imports\n",
    "import numpy as np\n",
    "import pandas as pd\n",
    "import seaborn as sns\n",
    "\n",
    "from sklearn.linear_model import LinearRegression, LogisticRegression\n",
    "from sklearn.preprocessing import OneHotEncoder\n",
    "from sklearn.ensemble import RandomForestClassifier\n",
    "\n",
    "import matplotlib\n",
    "import matplotlib.pyplot as plt\n",
    "%matplotlib inline\n",
    "\n",
    "import warnings\n",
    "warnings.filterwarnings('ignore')"
   ]
  },
  {
   "cell_type": "code",
   "execution_count": 3,
   "metadata": {},
   "outputs": [],
   "source": [
    "data_folder = './data/'"
   ]
  },
  {
   "cell_type": "markdown",
   "metadata": {},
   "source": [
    "## Task 1: Boosting the economy by incentivizing self-employment\n",
    "\n",
    "Assume the biggest priority of the local government in 2018 is to increase per-capita income. To do so, the officials plan to adopt a strategy for incentivizing self-employment through a series of campaigns, educational programs, and dedicated funds.\n",
    "\n",
    "Since it is unethical and impossible in this setting to run a controlled experiment involving citizens (e.g., fire employees and force them to self-employ), the officials have asked you, the data scientist, to establish the effect of self-employment on the economy, relying on observational data.\n",
    "\n",
    "**A)** You will be working with the full US 2015 census dataset (acs2015_county_data.csv, available at https://www.kaggle.com/muonneutrino/us-census-demographic-data#acs2015_county_data.csv). Using suitable methods, determine and quantify the dependency between the percentage of self-employed citizens and per capita income across all 3,212 US counties. Do citizens in counties that have a higher percentage of self-employed people earn more per capita?\n",
    "\n",
    "**B)** The pilot program will involve all counties within a limited set of three US states. Set A includes Wisconsin, Tennessee, and  Minnesota. Quantify the dependency of per-capita income on self-employment rates across all the counties in set A.\n",
    "\n",
    "**C)** In which state within set A is the observed effect of self-employment on per-capita income the strongest?\n",
    "\n",
    "**D)** Set B includes New Jersey, Kansas, and Rhode Island. Repeat the analysis from steps B and C above, but now for set B. In which of the two sets A and B (if any) would you recommend incentivizing self-employment? Explain your reasoning.\n",
    "\n",
    "Hint: It is useful to add a notion of confidence to your results and explore the data visually. You are allowed to use the SciPy library."
   ]
  },
  {
   "cell_type": "code",
   "execution_count": 3,
   "metadata": {},
   "outputs": [],
   "source": [
    "us_2015 = pd.read_csv(data_folder + 'acs2015_county_data.csv')"
   ]
  },
  {
   "cell_type": "code",
   "execution_count": 37,
   "metadata": {},
   "outputs": [
    {
     "data": {
      "text/html": [
       "<div>\n",
       "<style scoped>\n",
       "    .dataframe tbody tr th:only-of-type {\n",
       "        vertical-align: middle;\n",
       "    }\n",
       "\n",
       "    .dataframe tbody tr th {\n",
       "        vertical-align: top;\n",
       "    }\n",
       "\n",
       "    .dataframe thead th {\n",
       "        text-align: right;\n",
       "    }\n",
       "</style>\n",
       "<table border=\"1\" class=\"dataframe\">\n",
       "  <thead>\n",
       "    <tr style=\"text-align: right;\">\n",
       "      <th></th>\n",
       "      <th>CensusId</th>\n",
       "      <th>State</th>\n",
       "      <th>County</th>\n",
       "      <th>TotalPop</th>\n",
       "      <th>Men</th>\n",
       "      <th>Women</th>\n",
       "      <th>Hispanic</th>\n",
       "      <th>White</th>\n",
       "      <th>Black</th>\n",
       "      <th>Native</th>\n",
       "      <th>...</th>\n",
       "      <th>Walk</th>\n",
       "      <th>OtherTransp</th>\n",
       "      <th>WorkAtHome</th>\n",
       "      <th>MeanCommute</th>\n",
       "      <th>Employed</th>\n",
       "      <th>PrivateWork</th>\n",
       "      <th>PublicWork</th>\n",
       "      <th>SelfEmployed</th>\n",
       "      <th>FamilyWork</th>\n",
       "      <th>Unemployment</th>\n",
       "    </tr>\n",
       "  </thead>\n",
       "  <tbody>\n",
       "    <tr>\n",
       "      <th>0</th>\n",
       "      <td>1001</td>\n",
       "      <td>Alabama</td>\n",
       "      <td>Autauga</td>\n",
       "      <td>55221</td>\n",
       "      <td>26745</td>\n",
       "      <td>28476</td>\n",
       "      <td>2.6</td>\n",
       "      <td>75.8</td>\n",
       "      <td>18.5</td>\n",
       "      <td>0.4</td>\n",
       "      <td>...</td>\n",
       "      <td>0.5</td>\n",
       "      <td>1.3</td>\n",
       "      <td>1.8</td>\n",
       "      <td>26.5</td>\n",
       "      <td>23986</td>\n",
       "      <td>73.6</td>\n",
       "      <td>20.9</td>\n",
       "      <td>5.5</td>\n",
       "      <td>0.0</td>\n",
       "      <td>7.6</td>\n",
       "    </tr>\n",
       "    <tr>\n",
       "      <th>1</th>\n",
       "      <td>1003</td>\n",
       "      <td>Alabama</td>\n",
       "      <td>Baldwin</td>\n",
       "      <td>195121</td>\n",
       "      <td>95314</td>\n",
       "      <td>99807</td>\n",
       "      <td>4.5</td>\n",
       "      <td>83.1</td>\n",
       "      <td>9.5</td>\n",
       "      <td>0.6</td>\n",
       "      <td>...</td>\n",
       "      <td>1.0</td>\n",
       "      <td>1.4</td>\n",
       "      <td>3.9</td>\n",
       "      <td>26.4</td>\n",
       "      <td>85953</td>\n",
       "      <td>81.5</td>\n",
       "      <td>12.3</td>\n",
       "      <td>5.8</td>\n",
       "      <td>0.4</td>\n",
       "      <td>7.5</td>\n",
       "    </tr>\n",
       "    <tr>\n",
       "      <th>2</th>\n",
       "      <td>1005</td>\n",
       "      <td>Alabama</td>\n",
       "      <td>Barbour</td>\n",
       "      <td>26932</td>\n",
       "      <td>14497</td>\n",
       "      <td>12435</td>\n",
       "      <td>4.6</td>\n",
       "      <td>46.2</td>\n",
       "      <td>46.7</td>\n",
       "      <td>0.2</td>\n",
       "      <td>...</td>\n",
       "      <td>1.8</td>\n",
       "      <td>1.5</td>\n",
       "      <td>1.6</td>\n",
       "      <td>24.1</td>\n",
       "      <td>8597</td>\n",
       "      <td>71.8</td>\n",
       "      <td>20.8</td>\n",
       "      <td>7.3</td>\n",
       "      <td>0.1</td>\n",
       "      <td>17.6</td>\n",
       "    </tr>\n",
       "    <tr>\n",
       "      <th>3</th>\n",
       "      <td>1007</td>\n",
       "      <td>Alabama</td>\n",
       "      <td>Bibb</td>\n",
       "      <td>22604</td>\n",
       "      <td>12073</td>\n",
       "      <td>10531</td>\n",
       "      <td>2.2</td>\n",
       "      <td>74.5</td>\n",
       "      <td>21.4</td>\n",
       "      <td>0.4</td>\n",
       "      <td>...</td>\n",
       "      <td>0.6</td>\n",
       "      <td>1.5</td>\n",
       "      <td>0.7</td>\n",
       "      <td>28.8</td>\n",
       "      <td>8294</td>\n",
       "      <td>76.8</td>\n",
       "      <td>16.1</td>\n",
       "      <td>6.7</td>\n",
       "      <td>0.4</td>\n",
       "      <td>8.3</td>\n",
       "    </tr>\n",
       "    <tr>\n",
       "      <th>4</th>\n",
       "      <td>1009</td>\n",
       "      <td>Alabama</td>\n",
       "      <td>Blount</td>\n",
       "      <td>57710</td>\n",
       "      <td>28512</td>\n",
       "      <td>29198</td>\n",
       "      <td>8.6</td>\n",
       "      <td>87.9</td>\n",
       "      <td>1.5</td>\n",
       "      <td>0.3</td>\n",
       "      <td>...</td>\n",
       "      <td>0.9</td>\n",
       "      <td>0.4</td>\n",
       "      <td>2.3</td>\n",
       "      <td>34.9</td>\n",
       "      <td>22189</td>\n",
       "      <td>82.0</td>\n",
       "      <td>13.5</td>\n",
       "      <td>4.2</td>\n",
       "      <td>0.4</td>\n",
       "      <td>7.7</td>\n",
       "    </tr>\n",
       "  </tbody>\n",
       "</table>\n",
       "<p>5 rows × 37 columns</p>\n",
       "</div>"
      ],
      "text/plain": [
       "   CensusId    State   County  TotalPop    Men  Women  Hispanic  White  Black  \\\n",
       "0      1001  Alabama  Autauga     55221  26745  28476       2.6   75.8   18.5   \n",
       "1      1003  Alabama  Baldwin    195121  95314  99807       4.5   83.1    9.5   \n",
       "2      1005  Alabama  Barbour     26932  14497  12435       4.6   46.2   46.7   \n",
       "3      1007  Alabama     Bibb     22604  12073  10531       2.2   74.5   21.4   \n",
       "4      1009  Alabama   Blount     57710  28512  29198       8.6   87.9    1.5   \n",
       "\n",
       "   Native      ...       Walk  OtherTransp  WorkAtHome  MeanCommute  Employed  \\\n",
       "0     0.4      ...        0.5          1.3         1.8         26.5     23986   \n",
       "1     0.6      ...        1.0          1.4         3.9         26.4     85953   \n",
       "2     0.2      ...        1.8          1.5         1.6         24.1      8597   \n",
       "3     0.4      ...        0.6          1.5         0.7         28.8      8294   \n",
       "4     0.3      ...        0.9          0.4         2.3         34.9     22189   \n",
       "\n",
       "   PrivateWork  PublicWork  SelfEmployed  FamilyWork  Unemployment  \n",
       "0         73.6        20.9           5.5         0.0           7.6  \n",
       "1         81.5        12.3           5.8         0.4           7.5  \n",
       "2         71.8        20.8           7.3         0.1          17.6  \n",
       "3         76.8        16.1           6.7         0.4           8.3  \n",
       "4         82.0        13.5           4.2         0.4           7.7  \n",
       "\n",
       "[5 rows x 37 columns]"
      ]
     },
     "execution_count": 37,
     "metadata": {},
     "output_type": "execute_result"
    }
   ],
   "source": [
    "us_2015.head()"
   ]
  },
  {
   "cell_type": "code",
   "execution_count": 5,
   "metadata": {},
   "outputs": [
    {
     "data": {
      "text/plain": [
       "<matplotlib.axes._subplots.AxesSubplot at 0x1aedf4ba4a8>"
      ]
     },
     "execution_count": 5,
     "metadata": {},
     "output_type": "execute_result"
    },
    {
     "data": {
      "image/png": "[encoded data removed]",
      "text/plain": [
       "<Figure size 432x288 with 1 Axes>"
      ]
     },
     "metadata": {
      "needs_background": "light"
     },
     "output_type": "display_data"
    }
   ],
   "source": [
    "us_2015.plot.scatter(x = 'SelfEmployed', y = 'IncomePerCap')"
   ]
  },
  {
   "cell_type": "code",
   "execution_count": 7,
   "metadata": {},
   "outputs": [
    {
     "data": {
      "text/html": [
       "<div>\n",
       "<style scoped>\n",
       "    .dataframe tbody tr th:only-of-type {\n",
       "        vertical-align: middle;\n",
       "    }\n",
       "\n",
       "    .dataframe tbody tr th {\n",
       "        vertical-align: top;\n",
       "    }\n",
       "\n",
       "    .dataframe thead th {\n",
       "        text-align: right;\n",
       "    }\n",
       "</style>\n",
       "<table border=\"1\" class=\"dataframe\">\n",
       "  <thead>\n",
       "    <tr style=\"text-align: right;\">\n",
       "      <th></th>\n",
       "      <th>SelfEmployed</th>\n",
       "      <th>IncomePerCap</th>\n",
       "    </tr>\n",
       "  </thead>\n",
       "  <tbody>\n",
       "    <tr>\n",
       "      <th>SelfEmployed</th>\n",
       "      <td>1.000000</td>\n",
       "      <td>0.087274</td>\n",
       "    </tr>\n",
       "    <tr>\n",
       "      <th>IncomePerCap</th>\n",
       "      <td>0.087274</td>\n",
       "      <td>1.000000</td>\n",
       "    </tr>\n",
       "  </tbody>\n",
       "</table>\n",
       "</div>"
      ],
      "text/plain": [
       "              SelfEmployed  IncomePerCap\n",
       "SelfEmployed      1.000000      0.087274\n",
       "IncomePerCap      0.087274      1.000000"
      ]
     },
     "execution_count": 7,
     "metadata": {},
     "output_type": "execute_result"
    }
   ],
   "source": [
    "us_2015[['SelfEmployed', 'IncomePerCap']].corr(method ='pearson')"
   ]
  },
  {
   "cell_type": "code",
   "execution_count": 10,
   "metadata": {},
   "outputs": [],
   "source": [
    "set_A = us_2015[(us_2015.State == 'Wisconsin') |  (us_2015.State == 'Tennessee') | (us_2015.State == 'Minnesota')]"
   ]
  },
  {
   "cell_type": "code",
   "execution_count": 12,
   "metadata": {},
   "outputs": [
    {
     "data": {
      "text/plain": [
       "<matplotlib.axes._subplots.AxesSubplot at 0x1aedf7c3c18>"
      ]
     },
     "execution_count": 12,
     "metadata": {},
     "output_type": "execute_result"
    },
    {
     "data": {
      "image/png": "[encoded data removed]",
      "text/plain": [
       "<Figure size 432x288 with 1 Axes>"
      ]
     },
     "metadata": {
      "needs_background": "light"
     },
     "output_type": "display_data"
    }
   ],
   "source": [
    "set_A.plot.scatter(x = 'SelfEmployed', y = 'IncomePerCap')"
   ]
  },
  {
   "cell_type": "code",
   "execution_count": 15,
   "metadata": {},
   "outputs": [
    {
     "data": {
      "text/html": [
       "<div>\n",
       "<style scoped>\n",
       "    .dataframe tbody tr th:only-of-type {\n",
       "        vertical-align: middle;\n",
       "    }\n",
       "\n",
       "    .dataframe tbody tr th {\n",
       "        vertical-align: top;\n",
       "    }\n",
       "\n",
       "    .dataframe thead th {\n",
       "        text-align: right;\n",
       "    }\n",
       "</style>\n",
       "<table border=\"1\" class=\"dataframe\">\n",
       "  <thead>\n",
       "    <tr style=\"text-align: right;\">\n",
       "      <th></th>\n",
       "      <th>SelfEmployed</th>\n",
       "      <th>IncomePerCap</th>\n",
       "    </tr>\n",
       "  </thead>\n",
       "  <tbody>\n",
       "    <tr>\n",
       "      <th>SelfEmployed</th>\n",
       "      <td>1.000000</td>\n",
       "      <td>-0.202294</td>\n",
       "    </tr>\n",
       "    <tr>\n",
       "      <th>IncomePerCap</th>\n",
       "      <td>-0.202294</td>\n",
       "      <td>1.000000</td>\n",
       "    </tr>\n",
       "  </tbody>\n",
       "</table>\n",
       "</div>"
      ],
      "text/plain": [
       "              SelfEmployed  IncomePerCap\n",
       "SelfEmployed      1.000000     -0.202294\n",
       "IncomePerCap     -0.202294      1.000000"
      ]
     },
     "execution_count": 15,
     "metadata": {},
     "output_type": "execute_result"
    }
   ],
   "source": [
    "set_A[['SelfEmployed', 'IncomePerCap']].corr(method ='pearson')"
   ]
  },
  {
   "cell_type": "code",
   "execution_count": 27,
   "metadata": {},
   "outputs": [
    {
     "data": {
      "text/html": [
       "<div>\n",
       "<style scoped>\n",
       "    .dataframe tbody tr th:only-of-type {\n",
       "        vertical-align: middle;\n",
       "    }\n",
       "\n",
       "    .dataframe tbody tr th {\n",
       "        vertical-align: top;\n",
       "    }\n",
       "\n",
       "    .dataframe thead th {\n",
       "        text-align: right;\n",
       "    }\n",
       "</style>\n",
       "<table border=\"1\" class=\"dataframe\">\n",
       "  <thead>\n",
       "    <tr style=\"text-align: right;\">\n",
       "      <th></th>\n",
       "      <th>SelfEmployed</th>\n",
       "      <th>IncomePerCap</th>\n",
       "    </tr>\n",
       "  </thead>\n",
       "  <tbody>\n",
       "    <tr>\n",
       "      <th>count</th>\n",
       "      <td>254.000000</td>\n",
       "      <td>254.000000</td>\n",
       "    </tr>\n",
       "    <tr>\n",
       "      <th>mean</th>\n",
       "      <td>8.055512</td>\n",
       "      <td>24918.066929</td>\n",
       "    </tr>\n",
       "    <tr>\n",
       "      <th>std</th>\n",
       "      <td>2.691729</td>\n",
       "      <td>4755.868087</td>\n",
       "    </tr>\n",
       "    <tr>\n",
       "      <th>min</th>\n",
       "      <td>3.400000</td>\n",
       "      <td>12810.000000</td>\n",
       "    </tr>\n",
       "    <tr>\n",
       "      <th>1%</th>\n",
       "      <td>3.653000</td>\n",
       "      <td>15435.060000</td>\n",
       "    </tr>\n",
       "    <tr>\n",
       "      <th>10%</th>\n",
       "      <td>4.830000</td>\n",
       "      <td>18989.900000</td>\n",
       "    </tr>\n",
       "    <tr>\n",
       "      <th>25%</th>\n",
       "      <td>6.025000</td>\n",
       "      <td>21850.500000</td>\n",
       "    </tr>\n",
       "    <tr>\n",
       "      <th>50%</th>\n",
       "      <td>7.800000</td>\n",
       "      <td>25327.500000</td>\n",
       "    </tr>\n",
       "    <tr>\n",
       "      <th>75%</th>\n",
       "      <td>9.550000</td>\n",
       "      <td>27472.000000</td>\n",
       "    </tr>\n",
       "    <tr>\n",
       "      <th>90%</th>\n",
       "      <td>11.670000</td>\n",
       "      <td>29522.400000</td>\n",
       "    </tr>\n",
       "    <tr>\n",
       "      <th>99%</th>\n",
       "      <td>15.300000</td>\n",
       "      <td>39475.060000</td>\n",
       "    </tr>\n",
       "    <tr>\n",
       "      <th>max</th>\n",
       "      <td>18.000000</td>\n",
       "      <td>44671.000000</td>\n",
       "    </tr>\n",
       "  </tbody>\n",
       "</table>\n",
       "</div>"
      ],
      "text/plain": [
       "       SelfEmployed  IncomePerCap\n",
       "count    254.000000    254.000000\n",
       "mean       8.055512  24918.066929\n",
       "std        2.691729   4755.868087\n",
       "min        3.400000  12810.000000\n",
       "1%         3.653000  15435.060000\n",
       "10%        4.830000  18989.900000\n",
       "25%        6.025000  21850.500000\n",
       "50%        7.800000  25327.500000\n",
       "75%        9.550000  27472.000000\n",
       "90%       11.670000  29522.400000\n",
       "99%       15.300000  39475.060000\n",
       "max       18.000000  44671.000000"
      ]
     },
     "execution_count": 27,
     "metadata": {},
     "output_type": "execute_result"
    }
   ],
   "source": [
    "set_A[['SelfEmployed', 'IncomePerCap']].describe(percentiles = [.01, .1, .25, .5, .75, 0.9, .99])"
   ]
  },
  {
   "cell_type": "code",
   "execution_count": 50,
   "metadata": {},
   "outputs": [
    {
     "data": {
      "text/plain": [
       "<matplotlib.axes._subplots.AxesSubplot at 0x1aedff320f0>"
      ]
     },
     "execution_count": 50,
     "metadata": {},
     "output_type": "execute_result"
    },
    {
     "data": {
      "image/png": "[encoded data removed]",
      "text/plain": [
       "<Figure size 432x288 with 1 Axes>"
      ]
     },
     "metadata": {
      "needs_background": "light"
     },
     "output_type": "display_data"
    }
   ],
   "source": [
    "set_A_wo_outliers = set_A[(set_A.IncomePerCap <= 29522.4) & (set_A.IncomePerCap >= 18989.9)]\n",
    "set_A_wo_outliers.plot.scatter(x = 'SelfEmployed', y = 'IncomePerCap')"
   ]
  },
  {
   "cell_type": "code",
   "execution_count": 51,
   "metadata": {},
   "outputs": [
    {
     "data": {
      "text/html": [
       "<div>\n",
       "<style scoped>\n",
       "    .dataframe tbody tr th:only-of-type {\n",
       "        vertical-align: middle;\n",
       "    }\n",
       "\n",
       "    .dataframe tbody tr th {\n",
       "        vertical-align: top;\n",
       "    }\n",
       "\n",
       "    .dataframe thead th {\n",
       "        text-align: right;\n",
       "    }\n",
       "</style>\n",
       "<table border=\"1\" class=\"dataframe\">\n",
       "  <thead>\n",
       "    <tr style=\"text-align: right;\">\n",
       "      <th></th>\n",
       "      <th>SelfEmployed</th>\n",
       "      <th>IncomePerCap</th>\n",
       "    </tr>\n",
       "  </thead>\n",
       "  <tbody>\n",
       "    <tr>\n",
       "      <th>SelfEmployed</th>\n",
       "      <td>1.000000</td>\n",
       "      <td>-0.010229</td>\n",
       "    </tr>\n",
       "    <tr>\n",
       "      <th>IncomePerCap</th>\n",
       "      <td>-0.010229</td>\n",
       "      <td>1.000000</td>\n",
       "    </tr>\n",
       "  </tbody>\n",
       "</table>\n",
       "</div>"
      ],
      "text/plain": [
       "              SelfEmployed  IncomePerCap\n",
       "SelfEmployed      1.000000     -0.010229\n",
       "IncomePerCap     -0.010229      1.000000"
      ]
     },
     "execution_count": 51,
     "metadata": {},
     "output_type": "execute_result"
    }
   ],
   "source": [
    "set_A_wo_outliers[['SelfEmployed', 'IncomePerCap']].corr(method ='pearson')"
   ]
  },
  {
   "cell_type": "code",
   "execution_count": 52,
   "metadata": {},
   "outputs": [
    {
     "data": {
      "text/html": [
       "<div>\n",
       "<style scoped>\n",
       "    .dataframe tbody tr th:only-of-type {\n",
       "        vertical-align: middle;\n",
       "    }\n",
       "\n",
       "    .dataframe tbody tr th {\n",
       "        vertical-align: top;\n",
       "    }\n",
       "\n",
       "    .dataframe thead th {\n",
       "        text-align: right;\n",
       "    }\n",
       "</style>\n",
       "<table border=\"1\" class=\"dataframe\">\n",
       "  <thead>\n",
       "    <tr style=\"text-align: right;\">\n",
       "      <th></th>\n",
       "      <th>SelfEmployed</th>\n",
       "      <th>IncomePerCap</th>\n",
       "    </tr>\n",
       "  </thead>\n",
       "  <tbody>\n",
       "    <tr>\n",
       "      <th>count</th>\n",
       "      <td>202.000000</td>\n",
       "      <td>202.000000</td>\n",
       "    </tr>\n",
       "    <tr>\n",
       "      <th>mean</th>\n",
       "      <td>8.112376</td>\n",
       "      <td>24762.000000</td>\n",
       "    </tr>\n",
       "    <tr>\n",
       "      <th>std</th>\n",
       "      <td>2.577900</td>\n",
       "      <td>2785.719038</td>\n",
       "    </tr>\n",
       "    <tr>\n",
       "      <th>min</th>\n",
       "      <td>3.400000</td>\n",
       "      <td>19027.000000</td>\n",
       "    </tr>\n",
       "    <tr>\n",
       "      <th>1%</th>\n",
       "      <td>3.605000</td>\n",
       "      <td>19166.120000</td>\n",
       "    </tr>\n",
       "    <tr>\n",
       "      <th>10%</th>\n",
       "      <td>5.220000</td>\n",
       "      <td>20410.800000</td>\n",
       "    </tr>\n",
       "    <tr>\n",
       "      <th>25%</th>\n",
       "      <td>6.200000</td>\n",
       "      <td>22528.750000</td>\n",
       "    </tr>\n",
       "    <tr>\n",
       "      <th>50%</th>\n",
       "      <td>7.800000</td>\n",
       "      <td>25327.500000</td>\n",
       "    </tr>\n",
       "    <tr>\n",
       "      <th>75%</th>\n",
       "      <td>9.400000</td>\n",
       "      <td>26913.000000</td>\n",
       "    </tr>\n",
       "    <tr>\n",
       "      <th>90%</th>\n",
       "      <td>11.690000</td>\n",
       "      <td>28061.200000</td>\n",
       "    </tr>\n",
       "    <tr>\n",
       "      <th>99%</th>\n",
       "      <td>15.294000</td>\n",
       "      <td>29345.330000</td>\n",
       "    </tr>\n",
       "    <tr>\n",
       "      <th>max</th>\n",
       "      <td>18.000000</td>\n",
       "      <td>29479.000000</td>\n",
       "    </tr>\n",
       "  </tbody>\n",
       "</table>\n",
       "</div>"
      ],
      "text/plain": [
       "       SelfEmployed  IncomePerCap\n",
       "count    202.000000    202.000000\n",
       "mean       8.112376  24762.000000\n",
       "std        2.577900   2785.719038\n",
       "min        3.400000  19027.000000\n",
       "1%         3.605000  19166.120000\n",
       "10%        5.220000  20410.800000\n",
       "25%        6.200000  22528.750000\n",
       "50%        7.800000  25327.500000\n",
       "75%        9.400000  26913.000000\n",
       "90%       11.690000  28061.200000\n",
       "99%       15.294000  29345.330000\n",
       "max       18.000000  29479.000000"
      ]
     },
     "execution_count": 52,
     "metadata": {},
     "output_type": "execute_result"
    }
   ],
   "source": [
    "set_A_wo_outliers[['SelfEmployed', 'IncomePerCap']]\\\n",
    ".describe(percentiles = [.01, .1, .25, .5, .75, 0.9, .99])"
   ]
  },
  {
   "cell_type": "code",
   "execution_count": 53,
   "metadata": {},
   "outputs": [
    {
     "data": {
      "text/html": [
       "<div>\n",
       "<style scoped>\n",
       "    .dataframe tbody tr th:only-of-type {\n",
       "        vertical-align: middle;\n",
       "    }\n",
       "\n",
       "    .dataframe tbody tr th {\n",
       "        vertical-align: top;\n",
       "    }\n",
       "\n",
       "    .dataframe thead th {\n",
       "        text-align: right;\n",
       "    }\n",
       "</style>\n",
       "<table border=\"1\" class=\"dataframe\">\n",
       "  <thead>\n",
       "    <tr style=\"text-align: right;\">\n",
       "      <th></th>\n",
       "      <th>SelfEmployed</th>\n",
       "      <th>IncomePerCap</th>\n",
       "    </tr>\n",
       "  </thead>\n",
       "  <tbody>\n",
       "    <tr>\n",
       "      <th>SelfEmployed</th>\n",
       "      <td>1.000000</td>\n",
       "      <td>-0.478863</td>\n",
       "    </tr>\n",
       "    <tr>\n",
       "      <th>IncomePerCap</th>\n",
       "      <td>-0.478863</td>\n",
       "      <td>1.000000</td>\n",
       "    </tr>\n",
       "  </tbody>\n",
       "</table>\n",
       "</div>"
      ],
      "text/plain": [
       "              SelfEmployed  IncomePerCap\n",
       "SelfEmployed      1.000000     -0.478863\n",
       "IncomePerCap     -0.478863      1.000000"
      ]
     },
     "execution_count": 53,
     "metadata": {},
     "output_type": "execute_result"
    },
    {
     "data": {
      "image/png": "[encoded data removed]",
      "text/plain": [
       "<Figure size 432x288 with 1 Axes>"
      ]
     },
     "metadata": {
      "needs_background": "light"
     },
     "output_type": "display_data"
    }
   ],
   "source": [
    "set_A_wo_outliers[set_A_wo_outliers.State == 'Wisconsin'].plot.scatter(x = 'SelfEmployed', y = 'IncomePerCap')\n",
    "set_A_wo_outliers[set_A_wo_outliers.State == 'Wisconsin'][['SelfEmployed', 'IncomePerCap']].corr(method ='pearson')"
   ]
  },
  {
   "cell_type": "code",
   "execution_count": 54,
   "metadata": {},
   "outputs": [
    {
     "data": {
      "text/html": [
       "<div>\n",
       "<style scoped>\n",
       "    .dataframe tbody tr th:only-of-type {\n",
       "        vertical-align: middle;\n",
       "    }\n",
       "\n",
       "    .dataframe tbody tr th {\n",
       "        vertical-align: top;\n",
       "    }\n",
       "\n",
       "    .dataframe thead th {\n",
       "        text-align: right;\n",
       "    }\n",
       "</style>\n",
       "<table border=\"1\" class=\"dataframe\">\n",
       "  <thead>\n",
       "    <tr style=\"text-align: right;\">\n",
       "      <th></th>\n",
       "      <th>SelfEmployed</th>\n",
       "      <th>IncomePerCap</th>\n",
       "    </tr>\n",
       "  </thead>\n",
       "  <tbody>\n",
       "    <tr>\n",
       "      <th>SelfEmployed</th>\n",
       "      <td>1.000000</td>\n",
       "      <td>-0.201332</td>\n",
       "    </tr>\n",
       "    <tr>\n",
       "      <th>IncomePerCap</th>\n",
       "      <td>-0.201332</td>\n",
       "      <td>1.000000</td>\n",
       "    </tr>\n",
       "  </tbody>\n",
       "</table>\n",
       "</div>"
      ],
      "text/plain": [
       "              SelfEmployed  IncomePerCap\n",
       "SelfEmployed      1.000000     -0.201332\n",
       "IncomePerCap     -0.201332      1.000000"
      ]
     },
     "execution_count": 54,
     "metadata": {},
     "output_type": "execute_result"
    },
    {
     "data": {
      "image/png": "[encoded data removed]",
      "text/plain": [
       "<Figure size 432x288 with 1 Axes>"
      ]
     },
     "metadata": {
      "needs_background": "light"
     },
     "output_type": "display_data"
    }
   ],
   "source": [
    "set_A_wo_outliers[set_A_wo_outliers.State == 'Tennessee'].plot.scatter(x = 'SelfEmployed', y = 'IncomePerCap')\n",
    "set_A_wo_outliers[set_A_wo_outliers.State == 'Tennessee'][['SelfEmployed', 'IncomePerCap']].corr(method ='pearson')"
   ]
  },
  {
   "cell_type": "code",
   "execution_count": 55,
   "metadata": {},
   "outputs": [
    {
     "data": {
      "text/html": [
       "<div>\n",
       "<style scoped>\n",
       "    .dataframe tbody tr th:only-of-type {\n",
       "        vertical-align: middle;\n",
       "    }\n",
       "\n",
       "    .dataframe tbody tr th {\n",
       "        vertical-align: top;\n",
       "    }\n",
       "\n",
       "    .dataframe thead th {\n",
       "        text-align: right;\n",
       "    }\n",
       "</style>\n",
       "<table border=\"1\" class=\"dataframe\">\n",
       "  <thead>\n",
       "    <tr style=\"text-align: right;\">\n",
       "      <th></th>\n",
       "      <th>SelfEmployed</th>\n",
       "      <th>IncomePerCap</th>\n",
       "    </tr>\n",
       "  </thead>\n",
       "  <tbody>\n",
       "    <tr>\n",
       "      <th>SelfEmployed</th>\n",
       "      <td>1.000000</td>\n",
       "      <td>0.184605</td>\n",
       "    </tr>\n",
       "    <tr>\n",
       "      <th>IncomePerCap</th>\n",
       "      <td>0.184605</td>\n",
       "      <td>1.000000</td>\n",
       "    </tr>\n",
       "  </tbody>\n",
       "</table>\n",
       "</div>"
      ],
      "text/plain": [
       "              SelfEmployed  IncomePerCap\n",
       "SelfEmployed      1.000000      0.184605\n",
       "IncomePerCap      0.184605      1.000000"
      ]
     },
     "execution_count": 55,
     "metadata": {},
     "output_type": "execute_result"
    },
    {
     "data": {
      "image/png": "[encoded data removed]",
      "text/plain": [
       "<Figure size 432x288 with 1 Axes>"
      ]
     },
     "metadata": {
      "needs_background": "light"
     },
     "output_type": "display_data"
    }
   ],
   "source": [
    "set_A_wo_outliers[set_A_wo_outliers.State == 'Minnesota'].plot.scatter(x = 'SelfEmployed', y = 'IncomePerCap')\n",
    "set_A_wo_outliers[set_A_wo_outliers.State == 'Minnesota'][['SelfEmployed', 'IncomePerCap']].corr(method ='pearson')"
   ]
  },
  {
   "cell_type": "code",
   "execution_count": 56,
   "metadata": {},
   "outputs": [
    {
     "data": {
      "text/plain": [
       "<matplotlib.axes._subplots.AxesSubplot at 0x1aee10d2438>"
      ]
     },
     "execution_count": 56,
     "metadata": {},
     "output_type": "execute_result"
    },
    {
     "data": {
      "image/png": "[encoded data removed]",
      "text/plain": [
       "<Figure size 432x288 with 1 Axes>"
      ]
     },
     "metadata": {
      "needs_background": "light"
     },
     "output_type": "display_data"
    }
   ],
   "source": [
    "set_B = us_2015[(us_2015.State == 'New Jersey') |  (us_2015.State == 'Kansas') | (us_2015.State == 'Rhode Island')]\n",
    "set_B.plot.scatter(x = 'SelfEmployed', y = 'IncomePerCap')"
   ]
  },
  {
   "cell_type": "code",
   "execution_count": 57,
   "metadata": {},
   "outputs": [
    {
     "data": {
      "text/html": [
       "<div>\n",
       "<style scoped>\n",
       "    .dataframe tbody tr th:only-of-type {\n",
       "        vertical-align: middle;\n",
       "    }\n",
       "\n",
       "    .dataframe tbody tr th {\n",
       "        vertical-align: top;\n",
       "    }\n",
       "\n",
       "    .dataframe thead th {\n",
       "        text-align: right;\n",
       "    }\n",
       "</style>\n",
       "<table border=\"1\" class=\"dataframe\">\n",
       "  <thead>\n",
       "    <tr style=\"text-align: right;\">\n",
       "      <th></th>\n",
       "      <th>SelfEmployed</th>\n",
       "      <th>IncomePerCap</th>\n",
       "    </tr>\n",
       "  </thead>\n",
       "  <tbody>\n",
       "    <tr>\n",
       "      <th>SelfEmployed</th>\n",
       "      <td>1.000000</td>\n",
       "      <td>-0.232221</td>\n",
       "    </tr>\n",
       "    <tr>\n",
       "      <th>IncomePerCap</th>\n",
       "      <td>-0.232221</td>\n",
       "      <td>1.000000</td>\n",
       "    </tr>\n",
       "  </tbody>\n",
       "</table>\n",
       "</div>"
      ],
      "text/plain": [
       "              SelfEmployed  IncomePerCap\n",
       "SelfEmployed      1.000000     -0.232221\n",
       "IncomePerCap     -0.232221      1.000000"
      ]
     },
     "execution_count": 57,
     "metadata": {},
     "output_type": "execute_result"
    }
   ],
   "source": [
    "set_B[['SelfEmployed', 'IncomePerCap']].corr(method ='pearson')"
   ]
  },
  {
   "cell_type": "code",
   "execution_count": 58,
   "metadata": {},
   "outputs": [
    {
     "data": {
      "text/html": [
       "<div>\n",
       "<style scoped>\n",
       "    .dataframe tbody tr th:only-of-type {\n",
       "        vertical-align: middle;\n",
       "    }\n",
       "\n",
       "    .dataframe tbody tr th {\n",
       "        vertical-align: top;\n",
       "    }\n",
       "\n",
       "    .dataframe thead th {\n",
       "        text-align: right;\n",
       "    }\n",
       "</style>\n",
       "<table border=\"1\" class=\"dataframe\">\n",
       "  <thead>\n",
       "    <tr style=\"text-align: right;\">\n",
       "      <th></th>\n",
       "      <th>SelfEmployed</th>\n",
       "      <th>IncomePerCap</th>\n",
       "    </tr>\n",
       "  </thead>\n",
       "  <tbody>\n",
       "    <tr>\n",
       "      <th>count</th>\n",
       "      <td>131.000000</td>\n",
       "      <td>131.000000</td>\n",
       "    </tr>\n",
       "    <tr>\n",
       "      <th>mean</th>\n",
       "      <td>9.568702</td>\n",
       "      <td>27146.549618</td>\n",
       "    </tr>\n",
       "    <tr>\n",
       "      <th>std</th>\n",
       "      <td>4.549422</td>\n",
       "      <td>6073.105217</td>\n",
       "    </tr>\n",
       "    <tr>\n",
       "      <th>min</th>\n",
       "      <td>3.600000</td>\n",
       "      <td>18912.000000</td>\n",
       "    </tr>\n",
       "    <tr>\n",
       "      <th>1%</th>\n",
       "      <td>3.730000</td>\n",
       "      <td>19970.100000</td>\n",
       "    </tr>\n",
       "    <tr>\n",
       "      <th>10%</th>\n",
       "      <td>4.500000</td>\n",
       "      <td>21677.000000</td>\n",
       "    </tr>\n",
       "    <tr>\n",
       "      <th>25%</th>\n",
       "      <td>5.750000</td>\n",
       "      <td>23524.500000</td>\n",
       "    </tr>\n",
       "    <tr>\n",
       "      <th>50%</th>\n",
       "      <td>8.600000</td>\n",
       "      <td>25484.000000</td>\n",
       "    </tr>\n",
       "    <tr>\n",
       "      <th>75%</th>\n",
       "      <td>12.350000</td>\n",
       "      <td>28564.500000</td>\n",
       "    </tr>\n",
       "    <tr>\n",
       "      <th>90%</th>\n",
       "      <td>16.600000</td>\n",
       "      <td>34824.000000</td>\n",
       "    </tr>\n",
       "    <tr>\n",
       "      <th>99%</th>\n",
       "      <td>20.360000</td>\n",
       "      <td>49323.700000</td>\n",
       "    </tr>\n",
       "    <tr>\n",
       "      <th>max</th>\n",
       "      <td>21.500000</td>\n",
       "      <td>51353.000000</td>\n",
       "    </tr>\n",
       "  </tbody>\n",
       "</table>\n",
       "</div>"
      ],
      "text/plain": [
       "       SelfEmployed  IncomePerCap\n",
       "count    131.000000    131.000000\n",
       "mean       9.568702  27146.549618\n",
       "std        4.549422   6073.105217\n",
       "min        3.600000  18912.000000\n",
       "1%         3.730000  19970.100000\n",
       "10%        4.500000  21677.000000\n",
       "25%        5.750000  23524.500000\n",
       "50%        8.600000  25484.000000\n",
       "75%       12.350000  28564.500000\n",
       "90%       16.600000  34824.000000\n",
       "99%       20.360000  49323.700000\n",
       "max       21.500000  51353.000000"
      ]
     },
     "execution_count": 58,
     "metadata": {},
     "output_type": "execute_result"
    }
   ],
   "source": [
    "set_B[['SelfEmployed', 'IncomePerCap']].describe(percentiles = [.01, .1, .25, .5, .75, 0.9, .99])"
   ]
  },
  {
   "cell_type": "code",
   "execution_count": 59,
   "metadata": {},
   "outputs": [],
   "source": [
    "set_B_wo_outliers = set_B[(set_B.IncomePerCap <= 34824.0) & (set_B.IncomePerCap >= 21677.0)]"
   ]
  },
  {
   "cell_type": "markdown",
   "metadata": {
    "collapsed": true
   },
   "source": [
    "## Task 2: All you need is love… And a dog!\n",
    "\n",
    "Here we are going to build a classifier to predict whether an animal from an animal shelter will be adopted or not (aac_intakes_outcomes.csv, available at: https://www.kaggle.com/aaronschlegel/austin-animal-center-shelter-intakes-and-outcomes/version/1#aac_intakes_outcomes.csv). You will be working with the following features:\n",
    "\n",
    "1. *animal_type:* Type of animal. May be one of 'cat', 'dog', 'bird', etc.\n",
    "2. *intake_year:* Year of intake\n",
    "3. *intake_condition:* The intake condition of the animal. Can be one of 'normal', 'injured', 'sick', etc.\n",
    "4. *intake_number:* The intake number denoting the number of occurrences the animal has been brought into the shelter. Values higher than 1 indicate the animal has been taken into the shelter on more than one occasion.\n",
    "5. *intake_type:* The type of intake, for example, 'stray', 'owner surrender', etc.\n",
    "6. *sex_upon_intake:* The gender of the animal and if it has been spayed or neutered at the time of intake\n",
    "7. *age_upon\\_intake_(years):* The age of the animal upon intake represented in years\n",
    "8. *time_in_shelter_days:* Numeric value denoting the number of days the animal remained at the shelter from intake to outcome.\n",
    "9. *sex_upon_outcome:* The gender of the animal and if it has been spayed or neutered at time of outcome\n",
    "10. *age_upon\\_outcome_(years):* The age of the animal upon outcome represented in years\n",
    "11. *outcome_type:* The outcome type. Can be one of ‘adopted’, ‘transferred’, etc.\n",
    "\n",
    "**A)** Load the dataset and convert categorical features to a suitable numerical representation (use dummy-variable encoding). Split the data into a training set (80%) and a test set (20%). Pair each feature vector with the corresponding label, i.e., whether the outcome_type is adoption or not. Standardize the values of each feature in the data to have mean 0 and variance 1. The use of external libraries is not permitted in part A, except for numpy and pandas.\n",
    "\n",
    "**B)** Train a logistic regression classifier on your training set. Logistic regression returns probabilities as predictions, so in order to arrive at a binary prediction, you need to put a threshold on the predicted probabilities. For the decision threshold of 0.5, present the performance of your classifier on the test set by displaying the confusion matrix. Based on the confusion matrix, manually calculate accuracy, precision, recall, and F1-score with respect to the positive and the negative class. Vary the value of the threshold in the range from 0 to 1 and visualize the value of accuracy, precision, recall, and F1-score (with respect to both classes) as a function of the threshold. The shelter has a limited capacity and has no other option but to put to sleep animals with a low probability of adoption. What metric (precision, recall, accuracy, or F1-score) and with respect to what class is the most relevant when choosing the threshold in this scenario, and why? Explain your reasoning.\n",
    "\n",
    "**C)** Reduce the number of features by selecting the subset of the k best features. Use greedy backward selection to iteratively remove features. Evaluate performance and visualize the result using 5-fold cross-validation on the training set as a function of k, where k = 1, 5, 10, 15, 20, 25, 30. Choose the optimal k and justify your choice. Interpret the top-k features and their impact on the probability of adoption.\n",
    "\n",
    "**D)** Train a random forest. Use 5-fold cross-validation on the training set to fine-tune the parameters of the classifier using a grid search on the number of estimators \"n_estimators\" and the max depth of the trees \"max_depth\". For the chosen parameters, estimate the performance of your classifier on the test set by presenting the confusion matrix, accuracy, precision, recall, and F1-score with respect to both classes and compare the performance with the performance of the logistic regression. Interpret the results.\n",
    "\n",
    "You are allowed to use the scikit-learn library to implement your classifiers."
   ]
  },
  {
   "cell_type": "markdown",
   "metadata": {},
   "source": [
    "### TASK 2A\n",
    "_Load the dataset and convert categorical features to a suitable numerical representation (use dummy-variable encoding)._"
   ]
  },
  {
   "cell_type": "code",
   "execution_count": 4,
   "metadata": {},
   "outputs": [],
   "source": [
    "# Loading the dataset\n",
    "aac = pd.read_csv(data_folder + 'aac_intakes_outcomes.csv.zip', compression = 'zip')\n",
    "\n",
    "# Keep relevant columns only\n",
    "aac = aac[['animal_type','intake_year','intake_condition','intake_number','intake_type','sex_upon_intake',\n",
    "          'age_upon_intake_(years)','time_in_shelter_days','sex_upon_outcome','age_upon_outcome_(years)',\n",
    "          'outcome_type']]"
   ]
  },
  {
   "cell_type": "code",
   "execution_count": 5,
   "metadata": {},
   "outputs": [
    {
     "data": {
      "text/html": [
       "<div>\n",
       "<style scoped>\n",
       "    .dataframe tbody tr th:only-of-type {\n",
       "        vertical-align: middle;\n",
       "    }\n",
       "\n",
       "    .dataframe tbody tr th {\n",
       "        vertical-align: top;\n",
       "    }\n",
       "\n",
       "    .dataframe thead th {\n",
       "        text-align: right;\n",
       "    }\n",
       "</style>\n",
       "<table border=\"1\" class=\"dataframe\">\n",
       "  <thead>\n",
       "    <tr style=\"text-align: right;\">\n",
       "      <th></th>\n",
       "      <th>animal_type</th>\n",
       "      <th>intake_year</th>\n",
       "      <th>intake_condition</th>\n",
       "      <th>intake_number</th>\n",
       "      <th>intake_type</th>\n",
       "      <th>sex_upon_intake</th>\n",
       "      <th>age_upon_intake_(years)</th>\n",
       "      <th>time_in_shelter_days</th>\n",
       "      <th>sex_upon_outcome</th>\n",
       "      <th>age_upon_outcome_(years)</th>\n",
       "      <th>outcome_type</th>\n",
       "    </tr>\n",
       "  </thead>\n",
       "  <tbody>\n",
       "    <tr>\n",
       "      <th>0</th>\n",
       "      <td>Dog</td>\n",
       "      <td>2017</td>\n",
       "      <td>Normal</td>\n",
       "      <td>1.0</td>\n",
       "      <td>Stray</td>\n",
       "      <td>Neutered Male</td>\n",
       "      <td>10.0</td>\n",
       "      <td>0.588194</td>\n",
       "      <td>Neutered Male</td>\n",
       "      <td>10.0</td>\n",
       "      <td>Return to Owner</td>\n",
       "    </tr>\n",
       "    <tr>\n",
       "      <th>1</th>\n",
       "      <td>Dog</td>\n",
       "      <td>2014</td>\n",
       "      <td>Normal</td>\n",
       "      <td>2.0</td>\n",
       "      <td>Public Assist</td>\n",
       "      <td>Neutered Male</td>\n",
       "      <td>7.0</td>\n",
       "      <td>1.259722</td>\n",
       "      <td>Neutered Male</td>\n",
       "      <td>7.0</td>\n",
       "      <td>Return to Owner</td>\n",
       "    </tr>\n",
       "    <tr>\n",
       "      <th>2</th>\n",
       "      <td>Dog</td>\n",
       "      <td>2014</td>\n",
       "      <td>Normal</td>\n",
       "      <td>3.0</td>\n",
       "      <td>Public Assist</td>\n",
       "      <td>Neutered Male</td>\n",
       "      <td>6.0</td>\n",
       "      <td>1.113889</td>\n",
       "      <td>Neutered Male</td>\n",
       "      <td>6.0</td>\n",
       "      <td>Return to Owner</td>\n",
       "    </tr>\n",
       "    <tr>\n",
       "      <th>3</th>\n",
       "      <td>Dog</td>\n",
       "      <td>2014</td>\n",
       "      <td>Normal</td>\n",
       "      <td>1.0</td>\n",
       "      <td>Owner Surrender</td>\n",
       "      <td>Neutered Male</td>\n",
       "      <td>10.0</td>\n",
       "      <td>4.970139</td>\n",
       "      <td>Neutered Male</td>\n",
       "      <td>10.0</td>\n",
       "      <td>Transfer</td>\n",
       "    </tr>\n",
       "    <tr>\n",
       "      <th>4</th>\n",
       "      <td>Dog</td>\n",
       "      <td>2013</td>\n",
       "      <td>Injured</td>\n",
       "      <td>1.0</td>\n",
       "      <td>Public Assist</td>\n",
       "      <td>Neutered Male</td>\n",
       "      <td>16.0</td>\n",
       "      <td>0.119444</td>\n",
       "      <td>Neutered Male</td>\n",
       "      <td>16.0</td>\n",
       "      <td>Return to Owner</td>\n",
       "    </tr>\n",
       "  </tbody>\n",
       "</table>\n",
       "</div>"
      ],
      "text/plain": [
       "  animal_type  intake_year intake_condition  intake_number      intake_type  \\\n",
       "0         Dog         2017           Normal            1.0            Stray   \n",
       "1         Dog         2014           Normal            2.0    Public Assist   \n",
       "2         Dog         2014           Normal            3.0    Public Assist   \n",
       "3         Dog         2014           Normal            1.0  Owner Surrender   \n",
       "4         Dog         2013          Injured            1.0    Public Assist   \n",
       "\n",
       "  sex_upon_intake  age_upon_intake_(years)  time_in_shelter_days  \\\n",
       "0   Neutered Male                     10.0              0.588194   \n",
       "1   Neutered Male                      7.0              1.259722   \n",
       "2   Neutered Male                      6.0              1.113889   \n",
       "3   Neutered Male                     10.0              4.970139   \n",
       "4   Neutered Male                     16.0              0.119444   \n",
       "\n",
       "  sex_upon_outcome  age_upon_outcome_(years)     outcome_type  \n",
       "0    Neutered Male                      10.0  Return to Owner  \n",
       "1    Neutered Male                       7.0  Return to Owner  \n",
       "2    Neutered Male                       6.0  Return to Owner  \n",
       "3    Neutered Male                      10.0         Transfer  \n",
       "4    Neutered Male                      16.0  Return to Owner  "
      ]
     },
     "execution_count": 5,
     "metadata": {},
     "output_type": "execute_result"
    }
   ],
   "source": [
    "aac.head()"
   ]
  },
  {
   "cell_type": "code",
   "execution_count": 6,
   "metadata": {},
   "outputs": [],
   "source": [
    "# Define features x and outcome y\n",
    "x = aac.drop(axis=1, labels='outcome_type')\n",
    "y = aac[['outcome_type']]\n",
    "\n",
    "# Convert outcome to either Adoption (1) or No Adoption (0)\n",
    "y_adopt = y[y['outcome_type'] == 'Adoption']\n",
    "y_not_adopt = y[y['outcome_type'] != 'Adoption']\n",
    "y_adopt['Outcome'], y_not_adopt['Outcome'] = 1, 0\n",
    "y_adopt, y_not_adopt = y_adopt[['Outcome']], y_not_adopt[['Outcome']]\n",
    "\n",
    "y = pd.concat([y_adopt,y_not_adopt])\n",
    "y.sort_index(axis=0,ascending=True, inplace = True);\n",
    "\n",
    "# Dummy variables encoding\n",
    "x = pd.get_dummies(x)"
   ]
  },
  {
   "cell_type": "code",
   "execution_count": 7,
   "metadata": {},
   "outputs": [
    {
     "name": "stdout",
     "output_type": "stream",
     "text": [
      "(79672, 1) (79672, 32)\n"
     ]
    }
   ],
   "source": [
    "print(y.shape, x.shape)"
   ]
  },
  {
   "cell_type": "markdown",
   "metadata": {},
   "source": [
    "_Split the data into a training set (80%) and a test set (20%). Pair each feature vector with the corresponding label, i.e., whether the outcome type is adoption or not._"
   ]
  },
  {
   "cell_type": "code",
   "execution_count": 8,
   "metadata": {},
   "outputs": [],
   "source": [
    "def split_data(x, y, ratio, myseed=1):\n",
    "    \"\"\" Split the dataset in function of the split ratio \"\"\"\n",
    "    \n",
    "    # The data should be splited randomly in order to avoid any perturbation which\n",
    "    # could be caused by the original order of the data\n",
    "    np.random.seed(myseed)\n",
    "    num_row = len(y)\n",
    "    indices = np.random.permutation(num_row)\n",
    "    index_split = int(np.floor(ratio * num_row))\n",
    "    index_train, index_test = indices[: index_split], indices[index_split:]\n",
    "    \n",
    "    # Create to splitted sets (train and test)\n",
    "    x_train, x_test = x.iloc[index_train], x.iloc[index_test]\n",
    "    y_train, y_test = y.iloc[index_train], y.iloc[index_test]\n",
    "\n",
    "    return x_train, x_test, y_train, y_test\n",
    "\n",
    "# Split the data set in train set and test set\n",
    "x_tr, x_te, y_tr, y_te = split_data(x, y, 0.8)"
   ]
  },
  {
   "cell_type": "markdown",
   "metadata": {},
   "source": [
    "_Standardize the values of each feature in the data to have mean 0 and variance 1. The use of external libraries is not permitted in part A, except for numpy and pandas._"
   ]
  },
  {
   "cell_type": "code",
   "execution_count": 9,
   "metadata": {},
   "outputs": [],
   "source": [
    "# Standardisation : x' = (x - mean)/std\n",
    "mean_tr = np.mean(x_tr, axis=0)\n",
    "std_tr = np.std(x_tr, axis=0)\n",
    "x_tr = (x_tr - mean_tr) / std_tr\n",
    "x_te = (x_te - mean_tr) / std_tr"
   ]
  },
  {
   "cell_type": "code",
   "execution_count": 10,
   "metadata": {},
   "outputs": [
    {
     "data": {
      "text/html": [
       "<div>\n",
       "<style scoped>\n",
       "    .dataframe tbody tr th:only-of-type {\n",
       "        vertical-align: middle;\n",
       "    }\n",
       "\n",
       "    .dataframe tbody tr th {\n",
       "        vertical-align: top;\n",
       "    }\n",
       "\n",
       "    .dataframe thead th {\n",
       "        text-align: right;\n",
       "    }\n",
       "</style>\n",
       "<table border=\"1\" class=\"dataframe\">\n",
       "  <thead>\n",
       "    <tr style=\"text-align: right;\">\n",
       "      <th></th>\n",
       "      <th>intake_year</th>\n",
       "      <th>intake_number</th>\n",
       "      <th>age_upon_intake_(years)</th>\n",
       "      <th>time_in_shelter_days</th>\n",
       "      <th>age_upon_outcome_(years)</th>\n",
       "      <th>animal_type_Bird</th>\n",
       "      <th>animal_type_Cat</th>\n",
       "      <th>animal_type_Dog</th>\n",
       "      <th>animal_type_Other</th>\n",
       "      <th>intake_condition_Aged</th>\n",
       "      <th>...</th>\n",
       "      <th>sex_upon_intake_Intact Female</th>\n",
       "      <th>sex_upon_intake_Intact Male</th>\n",
       "      <th>sex_upon_intake_Neutered Male</th>\n",
       "      <th>sex_upon_intake_Spayed Female</th>\n",
       "      <th>sex_upon_intake_Unknown</th>\n",
       "      <th>sex_upon_outcome_Intact Female</th>\n",
       "      <th>sex_upon_outcome_Intact Male</th>\n",
       "      <th>sex_upon_outcome_Neutered Male</th>\n",
       "      <th>sex_upon_outcome_Spayed Female</th>\n",
       "      <th>sex_upon_outcome_Unknown</th>\n",
       "    </tr>\n",
       "  </thead>\n",
       "  <tbody>\n",
       "    <tr>\n",
       "      <th>63044</th>\n",
       "      <td>1.199993</td>\n",
       "      <td>-0.276527</td>\n",
       "      <td>-0.036183</td>\n",
       "      <td>-0.402772</td>\n",
       "      <td>-0.048219</td>\n",
       "      <td>-0.065948</td>\n",
       "      <td>-0.768248</td>\n",
       "      <td>-1.148099</td>\n",
       "      <td>4.109571</td>\n",
       "      <td>-0.062878</td>\n",
       "      <td>...</td>\n",
       "      <td>-0.649349</td>\n",
       "      <td>-0.683996</td>\n",
       "      <td>-0.435801</td>\n",
       "      <td>-0.402206</td>\n",
       "      <td>3.264082</td>\n",
       "      <td>-0.361039</td>\n",
       "      <td>-0.373802</td>\n",
       "      <td>-0.743085</td>\n",
       "      <td>-0.686815</td>\n",
       "      <td>3.264082</td>\n",
       "    </tr>\n",
       "    <tr>\n",
       "      <th>48857</th>\n",
       "      <td>0.433106</td>\n",
       "      <td>-0.276527</td>\n",
       "      <td>-0.382544</td>\n",
       "      <td>-0.236281</td>\n",
       "      <td>-0.393704</td>\n",
       "      <td>-0.065948</td>\n",
       "      <td>1.301663</td>\n",
       "      <td>-1.148099</td>\n",
       "      <td>-0.243334</td>\n",
       "      <td>-0.062878</td>\n",
       "      <td>...</td>\n",
       "      <td>-0.649349</td>\n",
       "      <td>1.461997</td>\n",
       "      <td>-0.435801</td>\n",
       "      <td>-0.402206</td>\n",
       "      <td>-0.306365</td>\n",
       "      <td>-0.361039</td>\n",
       "      <td>-0.373802</td>\n",
       "      <td>1.345740</td>\n",
       "      <td>-0.686815</td>\n",
       "      <td>-0.306365</td>\n",
       "    </tr>\n",
       "    <tr>\n",
       "      <th>77854</th>\n",
       "      <td>1.966880</td>\n",
       "      <td>-0.276527</td>\n",
       "      <td>-0.382544</td>\n",
       "      <td>-0.402488</td>\n",
       "      <td>-0.393704</td>\n",
       "      <td>-0.065948</td>\n",
       "      <td>-0.768248</td>\n",
       "      <td>-1.148099</td>\n",
       "      <td>4.109571</td>\n",
       "      <td>-0.062878</td>\n",
       "      <td>...</td>\n",
       "      <td>-0.649349</td>\n",
       "      <td>-0.683996</td>\n",
       "      <td>-0.435801</td>\n",
       "      <td>-0.402206</td>\n",
       "      <td>3.264082</td>\n",
       "      <td>-0.361039</td>\n",
       "      <td>-0.373802</td>\n",
       "      <td>-0.743085</td>\n",
       "      <td>-0.686815</td>\n",
       "      <td>3.264082</td>\n",
       "    </tr>\n",
       "    <tr>\n",
       "      <th>65109</th>\n",
       "      <td>1.199993</td>\n",
       "      <td>-0.276527</td>\n",
       "      <td>-0.724159</td>\n",
       "      <td>-0.396979</td>\n",
       "      <td>-0.734458</td>\n",
       "      <td>-0.065948</td>\n",
       "      <td>-0.768248</td>\n",
       "      <td>0.871005</td>\n",
       "      <td>-0.243334</td>\n",
       "      <td>-0.062878</td>\n",
       "      <td>...</td>\n",
       "      <td>-0.649349</td>\n",
       "      <td>1.461997</td>\n",
       "      <td>-0.435801</td>\n",
       "      <td>-0.402206</td>\n",
       "      <td>-0.306365</td>\n",
       "      <td>-0.361039</td>\n",
       "      <td>2.675214</td>\n",
       "      <td>-0.743085</td>\n",
       "      <td>-0.686815</td>\n",
       "      <td>-0.306365</td>\n",
       "    </tr>\n",
       "    <tr>\n",
       "      <th>19219</th>\n",
       "      <td>-1.100668</td>\n",
       "      <td>-0.276527</td>\n",
       "      <td>1.002897</td>\n",
       "      <td>0.145371</td>\n",
       "      <td>0.988239</td>\n",
       "      <td>-0.065948</td>\n",
       "      <td>-0.768248</td>\n",
       "      <td>0.871005</td>\n",
       "      <td>-0.243334</td>\n",
       "      <td>-0.062878</td>\n",
       "      <td>...</td>\n",
       "      <td>-0.649349</td>\n",
       "      <td>-0.683996</td>\n",
       "      <td>2.294626</td>\n",
       "      <td>-0.402206</td>\n",
       "      <td>-0.306365</td>\n",
       "      <td>-0.361039</td>\n",
       "      <td>-0.373802</td>\n",
       "      <td>1.345740</td>\n",
       "      <td>-0.686815</td>\n",
       "      <td>-0.306365</td>\n",
       "    </tr>\n",
       "  </tbody>\n",
       "</table>\n",
       "<p>5 rows × 32 columns</p>\n",
       "</div>"
      ],
      "text/plain": [
       "       intake_year  intake_number  age_upon_intake_(years)  \\\n",
       "63044     1.199993      -0.276527                -0.036183   \n",
       "48857     0.433106      -0.276527                -0.382544   \n",
       "77854     1.966880      -0.276527                -0.382544   \n",
       "65109     1.199993      -0.276527                -0.724159   \n",
       "19219    -1.100668      -0.276527                 1.002897   \n",
       "\n",
       "       time_in_shelter_days  age_upon_outcome_(years)  animal_type_Bird  \\\n",
       "63044             -0.402772                 -0.048219         -0.065948   \n",
       "48857             -0.236281                 -0.393704         -0.065948   \n",
       "77854             -0.402488                 -0.393704         -0.065948   \n",
       "65109             -0.396979                 -0.734458         -0.065948   \n",
       "19219              0.145371                  0.988239         -0.065948   \n",
       "\n",
       "       animal_type_Cat  animal_type_Dog  animal_type_Other  \\\n",
       "63044        -0.768248        -1.148099           4.109571   \n",
       "48857         1.301663        -1.148099          -0.243334   \n",
       "77854        -0.768248        -1.148099           4.109571   \n",
       "65109        -0.768248         0.871005          -0.243334   \n",
       "19219        -0.768248         0.871005          -0.243334   \n",
       "\n",
       "       intake_condition_Aged            ...             \\\n",
       "63044              -0.062878            ...              \n",
       "48857              -0.062878            ...              \n",
       "77854              -0.062878            ...              \n",
       "65109              -0.062878            ...              \n",
       "19219              -0.062878            ...              \n",
       "\n",
       "       sex_upon_intake_Intact Female  sex_upon_intake_Intact Male  \\\n",
       "63044                      -0.649349                    -0.683996   \n",
       "48857                      -0.649349                     1.461997   \n",
       "77854                      -0.649349                    -0.683996   \n",
       "65109                      -0.649349                     1.461997   \n",
       "19219                      -0.649349                    -0.683996   \n",
       "\n",
       "       sex_upon_intake_Neutered Male  sex_upon_intake_Spayed Female  \\\n",
       "63044                      -0.435801                      -0.402206   \n",
       "48857                      -0.435801                      -0.402206   \n",
       "77854                      -0.435801                      -0.402206   \n",
       "65109                      -0.435801                      -0.402206   \n",
       "19219                       2.294626                      -0.402206   \n",
       "\n",
       "       sex_upon_intake_Unknown  sex_upon_outcome_Intact Female  \\\n",
       "63044                 3.264082                       -0.361039   \n",
       "48857                -0.306365                       -0.361039   \n",
       "77854                 3.264082                       -0.361039   \n",
       "65109                -0.306365                       -0.361039   \n",
       "19219                -0.306365                       -0.361039   \n",
       "\n",
       "       sex_upon_outcome_Intact Male  sex_upon_outcome_Neutered Male  \\\n",
       "63044                     -0.373802                       -0.743085   \n",
       "48857                     -0.373802                        1.345740   \n",
       "77854                     -0.373802                       -0.743085   \n",
       "65109                      2.675214                       -0.743085   \n",
       "19219                     -0.373802                        1.345740   \n",
       "\n",
       "       sex_upon_outcome_Spayed Female  sex_upon_outcome_Unknown  \n",
       "63044                       -0.686815                  3.264082  \n",
       "48857                       -0.686815                 -0.306365  \n",
       "77854                       -0.686815                  3.264082  \n",
       "65109                       -0.686815                 -0.306365  \n",
       "19219                       -0.686815                 -0.306365  \n",
       "\n",
       "[5 rows x 32 columns]"
      ]
     },
     "execution_count": 10,
     "metadata": {},
     "output_type": "execute_result"
    }
   ],
   "source": [
    "x_tr.head()"
   ]
  },
  {
   "cell_type": "markdown",
   "metadata": {},
   "source": [
    "### TASK 2B"
   ]
  },
  {
   "cell_type": "markdown",
   "metadata": {},
   "source": [
    "_Train a logistic regression classifier on your training set._"
   ]
  },
  {
   "cell_type": "code",
   "execution_count": 11,
   "metadata": {},
   "outputs": [],
   "source": [
    "logistic = LogisticRegression(solver='newton-cg')"
   ]
  },
  {
   "cell_type": "code",
   "execution_count": 12,
   "metadata": {},
   "outputs": [
    {
     "data": {
      "text/plain": [
       "LogisticRegression(C=1.0, class_weight=None, dual=False, fit_intercept=True,\n",
       "          intercept_scaling=1, max_iter=100, multi_class='ovr', n_jobs=1,\n",
       "          penalty='l2', random_state=None, solver='newton-cg', tol=0.0001,\n",
       "          verbose=0, warm_start=False)"
      ]
     },
     "execution_count": 12,
     "metadata": {},
     "output_type": "execute_result"
    }
   ],
   "source": [
    "logistic.fit(x_tr, y_tr)"
   ]
  },
  {
   "cell_type": "markdown",
   "metadata": {},
   "source": [
    "_Logistic regression returns probabilities as predictions, so in order to arrive at a binary prediction, you need to put a threshold on the predicted probabilities. For the decision threshold of 0.5, present the performance of your classifier on the test set by displaying the confusion matrix._"
   ]
  },
  {
   "cell_type": "code",
   "execution_count": 13,
   "metadata": {},
   "outputs": [
    {
     "data": {
      "text/plain": [
       "array([[1., 0.],\n",
       "       [1., 0.],\n",
       "       [1., 0.],\n",
       "       ...,\n",
       "       [0., 1.],\n",
       "       [1., 0.],\n",
       "       [0., 1.]])"
      ]
     },
     "execution_count": 13,
     "metadata": {},
     "output_type": "execute_result"
    }
   ],
   "source": [
    "def predict_labels(probas, threshold = 0.5):\n",
    "    \"\"\" Dichotomic classification of prediction, given a specific threshold and raw probabilities. \"\"\"\n",
    "    \n",
    "    probas[np.where(probas <= threshold)] = 0\n",
    "    probas[np.where(probas > threshold)] = 1\n",
    "    \n",
    "    return probas\n",
    "\n",
    "# Establish the predicted output for the test set thanks to the logistic regression trained on train set\n",
    "pred = predict_labels(logistic.predict_proba(x_te))\n",
    "pred"
   ]
  },
  {
   "cell_type": "code",
   "execution_count": 14,
   "metadata": {},
   "outputs": [
    {
     "data": {
      "text/html": [
       "<div>\n",
       "<style scoped>\n",
       "    .dataframe tbody tr th:only-of-type {\n",
       "        vertical-align: middle;\n",
       "    }\n",
       "\n",
       "    .dataframe tbody tr th {\n",
       "        vertical-align: top;\n",
       "    }\n",
       "\n",
       "    .dataframe thead th {\n",
       "        text-align: right;\n",
       "    }\n",
       "</style>\n",
       "<table border=\"1\" class=\"dataframe\">\n",
       "  <thead>\n",
       "    <tr style=\"text-align: right;\">\n",
       "      <th></th>\n",
       "      <th>Pred = 0</th>\n",
       "      <th>Pred = 1</th>\n",
       "    </tr>\n",
       "  </thead>\n",
       "  <tbody>\n",
       "    <tr>\n",
       "      <th>y = 0</th>\n",
       "      <td>1104</td>\n",
       "      <td>939</td>\n",
       "    </tr>\n",
       "    <tr>\n",
       "      <th>y = 1</th>\n",
       "      <td>622</td>\n",
       "      <td>533</td>\n",
       "    </tr>\n",
       "  </tbody>\n",
       "</table>\n",
       "</div>"
      ],
      "text/plain": [
       "       Pred = 0  Pred = 1\n",
       "y = 0      1104       939\n",
       "y = 1       622       533"
      ]
     },
     "execution_count": 14,
     "metadata": {},
     "output_type": "execute_result"
    }
   ],
   "source": [
    "def confusion_matrix(pred, y):\n",
    "    \"\"\" Compare pred and y in order to determine the values of the confusion matrix \"\"\"\n",
    "    \n",
    "    df_pred = pd.DataFrame({'Prediction':pred[:,1]})\n",
    "    df = df_pred.join(y)\n",
    "    tp = len(df[(df.Prediction == 1) & (df.Outcome == 1)]) # True positive\n",
    "    tn = len(df[(df.Prediction == 0) & (df.Outcome == 0)]) # True negative\n",
    "    fp = len(df[(df.Prediction == 1) & (df.Outcome == 0)]) # False positive\n",
    "    fn = len(df[(df.Prediction == 0) & (df.Outcome == 1)]) # False negative\n",
    "    \n",
    "    return tp, tn, fp, fn\n",
    "\n",
    "# Establish the confusion matrix to check the efficiency of the model\n",
    "tp, tn, fp, fn = confusion_matrix(pred, y_te)\n",
    "confusion = {'Pred = 0': {'y = 1' : fn, 'y = 0' : tn}, 'Pred = 1' : {'y = 1' : tp, 'y = 0' : fp} }\n",
    "df_confusion = pd.DataFrame.from_dict(confusion)\n",
    "df_confusion.head()"
   ]
  },
  {
   "cell_type": "markdown",
   "metadata": {},
   "source": [
    "Where 1 means 'Adoption' and 0 means 'No Adoption'"
   ]
  },
  {
   "cell_type": "markdown",
   "metadata": {},
   "source": [
    "_Based on the confusion matrix, manually calculate accuracy, precision, recall, and F1-score with respect to the positive and the negative class._"
   ]
  },
  {
   "cell_type": "code",
   "execution_count": 15,
   "metadata": {},
   "outputs": [
    {
     "name": "stdout",
     "output_type": "stream",
     "text": [
      " Accuracy : 0.5118\n",
      " Precision (positive): 0.3620\n",
      " Precision (negative): 0.6396\n",
      " Recall (positive): 0.4614\n",
      " Recall (negative): 0.5403\n",
      " F1 Score (positive): 0.4057\n",
      " F1 Score (negative): 0.5858\n"
     ]
    }
   ],
   "source": [
    "def get_stats(tp, tn, fp, fn):\n",
    "    ''' Display accuracy, precision, recall and f1-score, given confusion matrix values'''\n",
    "    \n",
    "    # Accuracy = TP+TN/TP+FP+FN+TN\n",
    "    if (tp+fp+fn+tn) > 0:\n",
    "        accuracy = (tp+tn)/(tp+fp+fn+tn)\n",
    "    else :\n",
    "        accurancy = 0\n",
    "        \n",
    "    # Precision = TP/TP+FP (respectively TN/TN+FN)\n",
    "    if (tp+fp) > 0:\n",
    "        precision_pos = tp/(tp+fp)\n",
    "    else :\n",
    "        precision_pos = 0\n",
    "    if (tn+fn) > 0:\n",
    "        precision_neg = tn/(tn+fn)\n",
    "    else :\n",
    "        precision_neg = 0\n",
    "        \n",
    "    # Recall = TP/TP+FN (respectively TN/TN+FP)\n",
    "    if (tp+fn) > 0:\n",
    "        recall_pos = tp/(tp+fn)\n",
    "    else : \n",
    "        recall_pos = 0\n",
    "    if (tn+fp) > 0:\n",
    "        recall_neg = tn/(tn+fp)\n",
    "    else :\n",
    "        recall_neg = 0\n",
    "        \n",
    "    # F1 Score = 2*(Recall * Precision) / (Recall + Precision)\n",
    "    if (recall_pos+precision_pos) > 0:\n",
    "        f1_score_pos = 2*(recall_pos*precision_pos)/(recall_pos+precision_pos)\n",
    "    else :\n",
    "        f1_score_pos = 0\n",
    "    if (recall_neg+precision_neg) > 0:\n",
    "        f1_score_neg = 2*(recall_neg*precision_neg)/(recall_neg+precision_neg)\n",
    "    else :\n",
    "        f1_score_neg = 0\n",
    "     \n",
    "    return accuracy, precision_pos, precision_neg, recall_pos, recall_neg, f1_score_pos, f1_score_neg\n",
    "\n",
    "accuracy, precision_pos, precision_neg, recall_pos, recall_neg, f1_score_pos, f1_score_neg = get_stats(tp, tn, fp, fn)\n",
    "\n",
    "# Display stats for threshold at 0.5\n",
    "print(\" Accuracy : {}\\n Precision (positive): {}\\n Precision (negative): {}\".\\\n",
    "          format(str(accuracy)[:6],str(precision_pos)[:6],str(precision_neg)[:6]))\n",
    "print(\" Recall (positive): {}\\n Recall (negative): {}\\n F1 Score (positive): {}\\n F1 Score (negative): {}\".\\\n",
    "          format(str(recall_pos)[:6],str(recall_neg)[:6],str(f1_score_pos)[:6],str(f1_score_neg)[:6]))"
   ]
  },
  {
   "cell_type": "markdown",
   "metadata": {},
   "source": [
    "_Vary the value of the threshold in the range from 0 to 1 and visualize the value of accuracy, precision, recall, and F1-score (with respect to both classes) as a function of the threshold._"
   ]
  },
  {
   "cell_type": "code",
   "execution_count": 16,
   "metadata": {},
   "outputs": [],
   "source": [
    "thresholds = np.linspace(0,1-1e-9,999)\n",
    "accuracies, precisions_pos, recalls_pos, f1_scores_pos = [], [], [], []\n",
    "precisions_neg, recalls_neg, f1_scores_neg = [], [], []\n",
    "\n",
    "for threshold in thresholds:\n",
    "    tp, tn, fp, fn = confusion_matrix(predict_labels(logistic.predict_proba(x_te), threshold), y_te)\n",
    "    a, b, c, d, e, f, g = get_stats(tp, tn, fp, fn)\n",
    "    accuracies.append(a)\n",
    "    precisions_pos.append(b)\n",
    "    precisions_neg.append(c)\n",
    "    recalls_pos.append(d)\n",
    "    recalls_neg.append(e)\n",
    "    f1_scores_pos.append(f)\n",
    "    f1_scores_neg.append(g)\n",
    "    \n",
    "stats = {\n",
    "    'Threshold' : thresholds,\n",
    "    'Accuracy' : accuracies,\n",
    "    'Precision (positive)' : precisions_pos,\n",
    "    'Precision (negative)' : precisions_neg,\n",
    "    'Recall (positive)' : recalls_pos,\n",
    "    'Recall (negative)' : recalls_neg,\n",
    "    'F1_Scores (positive)' : f1_scores_pos,\n",
    "    'F1_Scores (negative)' : f1_scores_neg\n",
    "}\n",
    "\n",
    "df_stats = pd.DataFrame.from_dict(stats)"
   ]
  },
  {
   "cell_type": "markdown",
   "metadata": {},
   "source": [
    "Now we will plot the Accuracy, precision, recall and F1_score in function of the threshold. For this plot, we will use color-blind friendly representation. In order to allow a better visualization, we will first represent these values with respect to the positive class and with respect to the negative class separately."
   ]
  },
  {
   "cell_type": "code",
   "execution_count": 17,
   "metadata": {},
   "outputs": [
    {
     "data": {
      "image/png": "[encoded data removed]",
      "text/plain": [
       "<Figure size 576x432 with 1 Axes>"
      ]
     },
     "metadata": {},
     "output_type": "display_data"
    }
   ],
   "source": [
    "# Plot the accuracy, precision, recall and f1_score in function of the threshold\n",
    "y1_plot = df_stats['Accuracy'].values\n",
    "y2_plot = df_stats['Precision (positive)'].values\n",
    "y4_plot = df_stats['Recall (positive)'].values\n",
    "y6_plot = df_stats['F1_Scores (positive)'].values\n",
    "x_plot = df_stats['Threshold'].values\n",
    "\n",
    "fig, ax = plt.subplots(figsize=(8, 6))\n",
    "index = range(len(y1_plot))\n",
    "\n",
    "# Plot each parameter with color-blind friendly colors\n",
    "ax.plot(x_plot, y1_plot, label='Accuracy', color='#000000')\n",
    "ax.plot(x_plot, y2_plot, label='Precision (positive)', color='#F6C143')\n",
    "ax.plot(x_plot, y4_plot, label='Recall (positive) ', color='#7EAA55')\n",
    "ax.plot(x_plot, y6_plot, label='F1_Scores (positive)', color='#944C20')\n",
    "\n",
    "# Aesthetic adjustments\n",
    "ax.legend(shadow=True)\n",
    "ax.set_xlabel('Threshold')\n",
    "ax.set_ylabel('Performance')\n",
    "ax.set_title('Accuracy, precision, recall and f1_score in function of the threshold')\n",
    "fig.tight_layout()\n",
    "\n",
    "plt.savefig(\"Performance_threshold\")\n",
    "plt.show()"
   ]
  },
  {
   "cell_type": "code",
   "execution_count": 18,
   "metadata": {},
   "outputs": [
    {
     "data": {
      "image/png": "[encoded data removed]",
      "text/plain": [
       "<Figure size 576x432 with 1 Axes>"
      ]
     },
     "metadata": {},
     "output_type": "display_data"
    }
   ],
   "source": [
    "# Plot the accuracy, precision, recall and f1_score in function of the threshold\n",
    "y1_plot = df_stats['Accuracy'].values\n",
    "y3_plot = df_stats['Precision (negative)'].values\n",
    "y5_plot = df_stats['Recall (negative)'].values\n",
    "y7_plot = df_stats['F1_Scores (negative)'].values\n",
    "x_plot = df_stats['Threshold'].values\n",
    "\n",
    "fig, ax = plt.subplots(figsize=(8, 6))\n",
    "index = range(len(y1_plot))\n",
    "\n",
    "# Plot each parameter with color-blind friendly colors\n",
    "ax.plot(x_plot, y1_plot, label='Accuracy', color='#000000')\n",
    "ax.plot(x_plot, y3_plot, label='Precision (negative)', color='#F6C143')\n",
    "ax.plot(x_plot, y5_plot, label='Recall (negative)', color='#7EAA55')\n",
    "ax.plot(x_plot, y7_plot, label='F1_Scores (negative)', color='#944C20')\n",
    "\n",
    "# Aesthetic adjustments\n",
    "ax.legend(shadow=True)\n",
    "ax.set_xlabel('Threshold')\n",
    "ax.set_ylabel('Performance')\n",
    "ax.set_title('Accuracy, precision, recall and f1_score in function of the threshold')\n",
    "fig.tight_layout()\n",
    "\n",
    "plt.savefig(\"Performance_threshold\")\n",
    "plt.show()"
   ]
  },
  {
   "cell_type": "markdown",
   "metadata": {},
   "source": [
    "_The shelter has a limited capacity and has no other option but to put to sleep animals with a low probability of adoption. What metric (precision, recall, accuracy, or F1-score) and with respect to what class is the most relevant when choosing the threshold in this scenario, and why? Explain your reasoning._\n",
    "\n",
    "We would use recall. Indeed, recall (TP/TP+FN) has the advantage to emphasize the importance of false negative in the computation. For ethical reasons, we want to minimize the number of animals who are slept, but who would have been adopted if they were not. This means, we want to minimize the number of false negative."
   ]
  },
  {
   "cell_type": "markdown",
   "metadata": {},
   "source": [
    "### TASK C\n",
    "_Reduce the number of features by selecting the subset of the k best features. Use greedy backward selection to iteratively remove features. Evaluate performance and visualize the result using 5-fold cross-validation on the training set as a function of k, where k = 1, 5, 10, 15, 20, 25, 30._"
   ]
  },
  {
   "cell_type": "markdown",
   "metadata": {},
   "source": [
    "First, we create a function which will iteratively remove the worst features until reaching the asked number of features."
   ]
  },
  {
   "cell_type": "code",
   "execution_count": 19,
   "metadata": {},
   "outputs": [],
   "source": [
    "def greedy_backward_selection(k, n, x, y):\n",
    "    ''' Only keep the k most important coefs for logistic regression on x '''\n",
    "    x_ = x\n",
    "    iterations = n-k\n",
    "    \n",
    "    # As the columns were standardized, we can just remove the smaller weights each time\n",
    "    for j in range(iterations):\n",
    "        x_tr_, x_te_, y_tr_, y_te_ = split_data(x_, y, 0.8)\n",
    "        logistic = LogisticRegression(solver='newton-cg')\n",
    "        logistic.fit(x_tr_, y_tr_)\n",
    "        x_ = x_.drop(axis=1, labels=x_.columns[np.argmin(abs(logistic.coef_[0]))])\n",
    "        \n",
    "    return x_"
   ]
  },
  {
   "cell_type": "markdown",
   "metadata": {},
   "source": [
    "Then, we implement cross validation, who is able to check the accuracy of the model by taking each time only a part of the data as testing set and the rest as training set, and then go on and take another part as testing set and the rest as training set, etc. until each part of the set has been once (and only once) considered as the testing set and N-1 time as the training set (where N is the number of fold, i.e the number of parts in which you divided you set)."
   ]
  },
  {
   "cell_type": "code",
   "execution_count": 20,
   "metadata": {},
   "outputs": [],
   "source": [
    "def form_k_indices(y, k_fold=5, seed=12):\n",
    "    \"\"\" Build k indices for k-fold (5-fold by default) \"\"\"\n",
    "    \n",
    "    num_row = y.shape[0]\n",
    "    interval = int(num_row / k_fold)\n",
    "    np.random.seed(seed)\n",
    "    indices = np.random.permutation(num_row)\n",
    "    k_indices = [indices[k * interval: (k + 1) * interval] for k in range(k_fold)]\n",
    "    \n",
    "    return np.array(k_indices)\n",
    "\n",
    "def cross_validation(x, y, k_indices, k, threshold=0.5):\n",
    "    \"\"\" Return the recall of the logistic regression \"\"\"\n",
    "    \n",
    "    # Get k'th subgroup in test, others in train\n",
    "    te_indice = k_indices[k]\n",
    "    tr_indice = k_indices[~(np.arange(k_indices.shape[0]) == k)]\n",
    "    tr_indice = tr_indice.reshape(-1)\n",
    "    y_te_, y_tr_ = y.iloc[te_indice], y.iloc[tr_indice]\n",
    "    x_te_, x_tr_ = x.iloc[te_indice], x.iloc[tr_indice]\n",
    "\n",
    "    # Perform logistic regression on the cross-validation set\n",
    "    logistic = LogisticRegression(solver='newton-cg')\n",
    "    logistic.fit(x_tr_, y_tr_)\n",
    "    \n",
    "    # Establish prediction\n",
    "    pred = predict_labels(logistic.predict_proba(x_te_), threshold)\n",
    "    \n",
    "    # Compute confusion matrix values\n",
    "    tp, tn, fp, fn = confusion_matrix(pred, y_te_)\n",
    "    \n",
    "    # Evaluate performance with recall indicator\n",
    "    a, b, c, d, e, f, g = get_stats(tp, tn, fp, fn)\n",
    "\n",
    "    return a, b, c, d, e, f, g "
   ]
  },
  {
   "cell_type": "markdown",
   "metadata": {},
   "source": [
    "Here, we split the data in 5 folds and then perform cross validation of it."
   ]
  },
  {
   "cell_type": "code",
   "execution_count": 21,
   "metadata": {},
   "outputs": [],
   "source": [
    "k_s = [1, 5, 10, 15, 20, 25, 30]\n",
    "\n",
    "# Split data in 5-fold\n",
    "k_indices = form_k_indices(y)\n",
    "performance = []\n",
    "k_fold = 5\n",
    "N_features = len(logistic.coef_[0])\n",
    "\n",
    "for k_ in k_s:\n",
    "    x_ = greedy_backward_selection(k_, N_features, x, y)\n",
    "    \n",
    "    accuracies, precisions_pos, recalls_pos, f1_scores_pos = [], [], [], []\n",
    "    precisions_neg, recalls_neg, f1_scores_neg = [], [], []    \n",
    "    \n",
    "    # Cross validation\n",
    "    for k in range(k_fold):\n",
    "        a, b, c, d, e, f, g = cross_validation(x_, y, k_indices, k)\n",
    "        accuracies.append(a)\n",
    "        precisions_pos.append(b)\n",
    "        precisions_neg.append(c)\n",
    "        recalls_pos.append(d)\n",
    "        recalls_neg.append(e)\n",
    "        f1_scores_pos.append(f)\n",
    "        f1_scores_neg.append(g)\n",
    "    \n",
    "    performance.append([np.mean(accuracies), np.mean(precisions_pos), np.mean(precisions_neg),\n",
    "                        np.mean(recalls_pos), np.mean(recalls_neg), np.mean(f1_scores_pos),\n",
    "                        np.mean(f1_scores_neg)])"
   ]
  },
  {
   "cell_type": "code",
   "execution_count": 22,
   "metadata": {},
   "outputs": [
    {
     "data": {
      "text/plain": [
       "array([0.54711317, 0.34944799, 0.64095774, 0.31642826, 0.67445081,\n",
       "       0.33211237, 0.65727384])"
      ]
     },
     "execution_count": 22,
     "metadata": {},
     "output_type": "execute_result"
    }
   ],
   "source": [
    "p = np.asarray(performance).T\n",
    "p[:,0]"
   ]
  },
  {
   "cell_type": "code",
   "execution_count": 24,
   "metadata": {},
   "outputs": [
    {
     "data": {
      "image/png": "[encoded data removed]",
      "text/plain": [
       "<Figure size 576x432 with 1 Axes>"
      ]
     },
     "metadata": {},
     "output_type": "display_data"
    }
   ],
   "source": [
    "# Plot the accuracy, precision, recall and f1_score in function of the threshold\n",
    "y1_plot, y2_plot, y3_plot, y4_plot = p[0], p[1], p[2], p[3]\n",
    "x_plot = k_s\n",
    "\n",
    "fig, ax = plt.subplots(figsize=(8, 6))\n",
    "index = range(len(y1_plot))\n",
    "\n",
    "# Plot each parameter with color-blind friendly colors\n",
    "ax.plot(x_plot, y1_plot, label='Accuracy', color='#000000')\n",
    "ax.plot(x_plot, y2_plot, label='Precision (positive)', color='#F6C143')\n",
    "ax.plot(x_plot, y3_plot, label='Recall (positive)', color='#7EAA55')\n",
    "ax.plot(x_plot, y4_plot, label='F1_Scores (positive)', color='#944C20')\n",
    "\n",
    "# Aesthetic adjustments\n",
    "ax.legend(shadow=True)\n",
    "ax.set_xlabel('k (number of best features retained)')\n",
    "ax.set_ylabel('Performance')\n",
    "\n",
    "ax.set_title('Accuracy, precision, recall and f1_score with respect to the positive class \\n' +\n",
    "             'in function of the k best features retained')\n",
    "fig.tight_layout()\n",
    "\n",
    "plt.savefig(\"Performance_k\")\n",
    "plt.show()"
   ]
  },
  {
   "cell_type": "code",
   "execution_count": 26,
   "metadata": {},
   "outputs": [
    {
     "data": {
      "image/png": "[encoded data removed]",
      "text/plain": [
       "<Figure size 576x432 with 1 Axes>"
      ]
     },
     "metadata": {},
     "output_type": "display_data"
    }
   ],
   "source": [
    "# Plot the accuracy, precision, recall and f1_score in function of the threshold\n",
    "y1_plot, y2_plot, y3_plot, y4_plot = p[0], p[4], p[5], p[6]\n",
    "x_plot = k_s\n",
    "\n",
    "fig, ax = plt.subplots(figsize=(8, 6))\n",
    "index = range(len(y1_plot))\n",
    "\n",
    "# Plot each parameter with color-blind friendly colors\n",
    "ax.plot(x_plot, y1_plot, label='Accuracy', color='#000000')\n",
    "ax.plot(x_plot, y2_plot, label='Precision (negative)', color='#F6C143')\n",
    "ax.plot(x_plot, y3_plot, label='Recall (negative)', color='#7EAA55')\n",
    "ax.plot(x_plot, y4_plot, label='F1_Scores (negative)', color='#944C20')\n",
    "\n",
    "# Aesthetic adjustments\n",
    "ax.legend(shadow=True)\n",
    "ax.set_xlabel('k (number of best features retained)')\n",
    "ax.set_ylabel('Performance')\n",
    "ax.set_title('Accuracy, precision, recall and f1_score with respect to the negative class \\n' +\n",
    "             'in function of the k best features retained')\n",
    "fig.tight_layout()\n",
    "\n",
    "plt.savefig(\"Performance_k\")\n",
    "plt.show()"
   ]
  },
  {
   "cell_type": "markdown",
   "metadata": {},
   "source": [
    "_Choose the optimal k and justify your choice. Interpret the top-k features and their impact on the probability of adoption._\n",
    "\n",
    "We choosed previously to rely on recall, for ethical reasons. From this table, we can see that recall performance is best when retaining only the k = 10 best features."
   ]
  },
  {
   "cell_type": "code",
   "execution_count": 27,
   "metadata": {},
   "outputs": [
    {
     "data": {
      "text/plain": [
       "Index(['animal_type_Bird', 'intake_condition_Feral',\n",
       "       'intake_type_Owner Surrender', 'intake_type_Stray',\n",
       "       'sex_upon_intake_Intact Female', 'sex_upon_intake_Intact Male',\n",
       "       'sex_upon_outcome_Intact Male', 'sex_upon_outcome_Neutered Male',\n",
       "       'sex_upon_outcome_Spayed Female', 'sex_upon_outcome_Unknown'],\n",
       "      dtype='object')"
      ]
     },
     "execution_count": 27,
     "metadata": {},
     "output_type": "execute_result"
    }
   ],
   "source": [
    "x_ = greedy_backward_selection(10, N_features, x, y)\n",
    "x_.columns"
   ]
  },
  {
   "cell_type": "code",
   "execution_count": 28,
   "metadata": {},
   "outputs": [
    {
     "data": {
      "text/plain": [
       "array([[ 3.52652746, -1.62411408,  2.60706656,  1.65932029,  1.89609777,\n",
       "         1.96299483, -0.34418718,  3.55413116,  3.77753707, -0.2054503 ]])"
      ]
     },
     "execution_count": 28,
     "metadata": {},
     "output_type": "execute_result"
    }
   ],
   "source": [
    "logistic = LogisticRegression(solver='newton-cg')\n",
    "x_tr_, x_te_, y_tr_, y_te_ = split_data(x_, y, 0.8)\n",
    "logistic.fit(x_tr_, y_tr_)\n",
    "logistic.coef_"
   ]
  },
  {
   "cell_type": "markdown",
   "metadata": {},
   "source": [
    "* When the animal is a Bird, the probability of adoption is highly increased\n",
    "* When the animal was collected in the wild (feral), it reduces the probability of adoption\n",
    "* When the animal intake was due to Owner Surrender, it increases the probability of adoption\n",
    "* When the animal was a stray it (surprisingly) increases the probability of adoption\n",
    "* When the animal had intact Female or Male sex at intake, it increases the probability of adoption\n",
    "* When the male animal has intact sex at outcome, it decreases the probability of adoption, while it is increased when the sex is neutered at the time of outcome\n",
    "* When the female animal has been spayed at the time of outcome, it increases the probability of adoption\n",
    "* Finally, an unkown sex at outcome decreases the probability for the animal to be adopted."
   ]
  },
  {
   "cell_type": "markdown",
   "metadata": {},
   "source": [
    "### Task D\n",
    "\n",
    "Train a random forest. Use 5-fold cross-validation on the training set to fine-tune the parameters of the classifier using a grid search on the number of estimators \"_n_estimators\" _and the max depth of the trees \"_max_depth\"."
   ]
  },
  {
   "cell_type": "code",
   "execution_count": 20,
   "metadata": {},
   "outputs": [],
   "source": [
    "def crossvalidation_RandomForest(x, y, estimator, depth, k_indices, k, threshold=0.5):\n",
    "    \n",
    "    # Get k'th subgroup in test, others in train\n",
    "    te_indice = k_indices[k]\n",
    "    tr_indice = k_indices[~(np.arange(k_indices.shape[0]) == k)]\n",
    "    tr_indice = tr_indice.reshape(-1)\n",
    "    y_te_, y_tr_ = y.iloc[te_indice], y.iloc[tr_indice]\n",
    "    x_te_, x_tr_ = x.iloc[te_indice], x.iloc[tr_indice]\n",
    "    \n",
    "    # Perform RandomForest\n",
    "    forest = RandomForestClassifier(n_estimators=estimator, max_depth=depth, criterion='entropy')\n",
    "    forest.fit(x_tr_, y_tr_.Outcome)\n",
    "    \n",
    "    # Establish prediction\n",
    "    pred = predict_labels(forest.predict_proba(x_te_), threshold)\n",
    "    \n",
    "    # Compute confusion matrix values\n",
    "    tp, tn, fp, fn = confusion_matrix(pred, y_te_)\n",
    "    \n",
    "    # Evaluate performance with recall indicator\n",
    "    accuracy, precision, recall, f1_score = get_stats(tp, tn, fp, fn)\n",
    "\n",
    "    return accuracy, precision, recall, f1_score    \n",
    "    "
   ]
  },
  {
   "cell_type": "code",
   "execution_count": 28,
   "metadata": {},
   "outputs": [],
   "source": [
    "max_tree = 20\n",
    "estimators = np.linspace(1, max_tree, max_tree)\n",
    "\n",
    "max_depth = 20\n",
    "depths = np.linspace(1, max_depth, max_depth)\n",
    "\n",
    "k_fold = 5\n",
    "\n",
    "m_accuracy, m_precision, m_recall, m_f1_score = [], [], [], []\n",
    "\n",
    "k_indices = form_k_indices(y)\n",
    "\n",
    "for estimator in estimators:\n",
    "    d_accuracy, d_precision, d_recall, d_f1_score = [], [], [], []\n",
    "    \n",
    "    for depth in depths :\n",
    "        accuracy, precision, recall, f1_score = [], [], [], []\n",
    "        \n",
    "        for k in range(k_fold):\n",
    "            accuracy_, precision_, recall_, f1_score_ = crossvalidation_RandomForest(x, y,\n",
    "                                                                            int(estimator), int(depth), k_indices, k)\n",
    "            accuracy.append(accuracy_)\n",
    "            precision.append(precision_)\n",
    "            recall.append(recall_)\n",
    "            f1_score.append(f1_score_)\n",
    "        \n",
    "        d_accuracy.append(np.mean(accuracy))\n",
    "        d_precision.append(np.mean(precision))\n",
    "        d_recall.append(np.mean(recall))\n",
    "        d_f1_score.append(np.mean(f1_score))\n",
    "        \n",
    "    m_accuracy.append(d_accuracy)\n",
    "    m_precision.append(d_precision)\n",
    "    m_recall.append(d_recall)\n",
    "    m_f1_score.append(d_f1_score)"
   ]
  },
  {
   "cell_type": "code",
   "execution_count": 34,
   "metadata": {},
   "outputs": [
    {
     "data": {
      "image/png": "[encoded data removed]",
      "text/plain": [
       "<Figure size 432x288 with 2 Axes>"
      ]
     },
     "metadata": {
      "needs_background": "light"
     },
     "output_type": "display_data"
    }
   ],
   "source": [
    "fig = sns.heatmap(np.matrix(m_accuracy), xticklabels=depths, yticklabels=estimators, cmap=\"YlGnBu\")\n",
    "fig.set_title(\"Random-Forest accuracy\");\n",
    "fig.set_xlabel(\"Max depth\");\n",
    "fig.set_ylabel(\"Number of tree\");"
   ]
  },
  {
   "cell_type": "code",
   "execution_count": 38,
   "metadata": {},
   "outputs": [
    {
     "data": {
      "image/png": "[encoded data removed]",
      "text/plain": [
       "<Figure size 432x288 with 2 Axes>"
      ]
     },
     "metadata": {
      "needs_background": "light"
     },
     "output_type": "display_data"
    }
   ],
   "source": [
    "fig = sns.heatmap(np.matrix(m_precision), xticklabels=depths, yticklabels=estimators, cmap=\"YlGnBu\")\n",
    "fig.set_title(\"Random-Forest precision\");\n",
    "fig.set_xlabel(\"Max depth\");\n",
    "fig.set_ylabel(\"Number of tree\");"
   ]
  },
  {
   "cell_type": "code",
   "execution_count": 39,
   "metadata": {},
   "outputs": [
    {
     "data": {
      "image/png": "[encoded data removed]",
      "text/plain": [
       "<Figure size 432x288 with 2 Axes>"
      ]
     },
     "metadata": {
      "needs_background": "light"
     },
     "output_type": "display_data"
    }
   ],
   "source": [
    "fig = sns.heatmap(np.matrix(m_recall), xticklabels=depths, yticklabels=estimators, cmap=\"YlGnBu\")\n",
    "fig.set_title(\"Random-Forest recall\");\n",
    "fig.set_xlabel(\"Max depth\");\n",
    "fig.set_ylabel(\"Number of tree\");"
   ]
  },
  {
   "cell_type": "code",
   "execution_count": 43,
   "metadata": {},
   "outputs": [
    {
     "data": {
      "image/png": "[encoded data removed]",
      "text/plain": [
       "<Figure size 432x288 with 2 Axes>"
      ]
     },
     "metadata": {
      "needs_background": "light"
     },
     "output_type": "display_data"
    }
   ],
   "source": [
    "fig = sns.heatmap(np.matrix(m_f1_score), xticklabels=depths, yticklabels=estimators, cmap=\"YlGnBu\")\n",
    "fig.set_title(\"Random-Forest F1 score\");\n",
    "fig.set_xlabel(\"Max depth\");\n",
    "fig.set_ylabel(\"Number of tree\");"
   ]
  },
  {
   "cell_type": "code",
   "execution_count": null,
   "metadata": {},
   "outputs": [],
   "source": []
  }
 ],
 "metadata": {
  "kernelspec": {
   "display_name": "Python 3",
   "language": "python",
   "name": "python3"
  },
  "language_info": {
   "codemirror_mode": {
    "name": "ipython",
    "version": 3
   },
   "file_extension": ".py",
   "mimetype": "text/x-python",
   "name": "python",
   "nbconvert_exporter": "python",
   "pygments_lexer": "ipython3",
   "version": "3.6.5"
  },
  "varInspector": {
   "cols": {
    "lenName": 16,
    "lenType": 16,
    "lenVar": 40
   },
   "kernels_config": {
    "python": {
     "delete_cmd_postfix": "",
     "delete_cmd_prefix": "del ",
     "library": "var_list.py",
     "varRefreshCmd": "print(var_dic_list())"
    },
    "r": {
     "delete_cmd_postfix": ") ",
     "delete_cmd_prefix": "rm(",
     "library": "var_list.r",
     "varRefreshCmd": "cat(var_dic_list()) "
    }
   },
   "types_to_exclude": [
    "module",
    "function",
    "builtin_function_or_method",
    "instance",
    "_Feature"
   ],
   "window_display": false
  }
 },
 "nbformat": 4,
 "nbformat_minor": 2
}
